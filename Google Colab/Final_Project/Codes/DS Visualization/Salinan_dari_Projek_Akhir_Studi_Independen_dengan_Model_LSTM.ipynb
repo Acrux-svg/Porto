{
  "nbformat": 4,
  "nbformat_minor": 0,
  "metadata": {
    "colab": {
      "name": "Salinan dari Projek Akhir Studi Independen dengan Model LSTM.ipynb",
      "provenance": [],
      "collapsed_sections": []
    },
    "kernelspec": {
      "name": "python3",
      "display_name": "Python 3"
    },
    "language_info": {
      "name": "python"
    }
  },
  "cells": [
    {
      "cell_type": "markdown",
      "source": [
        "# Projek Akhir Tim Oil Bot "
      ],
      "metadata": {
        "id": "EqcLQTJT2f-o"
      }
    },
    {
      "cell_type": "markdown",
      "source": [
        "## __1. Introduction__"
      ],
      "metadata": {
        "id": "nEqHE6kA1d3R"
      }
    },
    {
      "cell_type": "markdown",
      "source": [
        "### __1.1 Mengimport Library__"
      ],
      "metadata": {
        "id": "mkCz_77N4ytQ"
      }
    },
    {
      "cell_type": "code",
      "execution_count": null,
      "metadata": {
        "id": "Bp0Btkmr4syK"
      },
      "outputs": [],
      "source": [
        "import numpy as np\n",
        "import pandas as pd\n",
        "import matplotlib.pyplot as plt\n",
        "%matplotlib inline\n",
        "import seaborn as sns\n",
        "sns.set_theme(style=\"whitegrid\")\n",
        "import warnings\n",
        "warnings.filterwarnings(\"ignore\")\n"
      ]
    },
    {
      "cell_type": "markdown",
      "source": [
        "### __1.2 Mengimport Dataset__"
      ],
      "metadata": {
        "id": "_i7rRuTgAGNn"
      }
    },
    {
      "cell_type": "code",
      "source": [
        "df = pd.read_csv(\"https://raw.githubusercontent.com/beatrixyy/Projek-Akhir-SI/main/Clean_time_zone_perhari.csv\")\n",
        "df.head(10)"
      ],
      "metadata": {
        "colab": {
          "base_uri": "https://localhost:8080/",
          "height": 363
        },
        "id": "25dv0UGPAEf3",
        "outputId": "738a7fde-bc9c-43de-ff07-3bd618c909a1"
      },
      "execution_count": null,
      "outputs": [
        {
          "output_type": "execute_result",
          "data": {
            "text/plain": [
              "      Tanggal  mean_wib  mean_wita  mean_wit\n",
              "0  2020-01-01   12817.0    14021.0   15012.0\n",
              "1  2020-01-02   12817.0    14021.0   15012.0\n",
              "2  2020-01-03   12836.0    14033.0   15012.0\n",
              "3  2020-01-04   12836.0    14033.0   15012.0\n",
              "4  2020-01-05   12836.0    14033.0   15012.0\n",
              "5  2020-01-06   12925.0    14075.0   15062.0\n",
              "6  2020-01-07   12975.0    14108.0   15062.0\n",
              "7  2020-01-08   12961.0    14108.0   15062.0\n",
              "8  2020-01-09   12978.0    14117.0   15075.0\n",
              "9  2020-01-10   12997.0    14112.0   15062.0"
            ],
            "text/html": [
              "\n",
              "  <div id=\"df-021e3c32-1ab9-45c8-8703-127fba52161b\">\n",
              "    <div class=\"colab-df-container\">\n",
              "      <div>\n",
              "<style scoped>\n",
              "    .dataframe tbody tr th:only-of-type {\n",
              "        vertical-align: middle;\n",
              "    }\n",
              "\n",
              "    .dataframe tbody tr th {\n",
              "        vertical-align: top;\n",
              "    }\n",
              "\n",
              "    .dataframe thead th {\n",
              "        text-align: right;\n",
              "    }\n",
              "</style>\n",
              "<table border=\"1\" class=\"dataframe\">\n",
              "  <thead>\n",
              "    <tr style=\"text-align: right;\">\n",
              "      <th></th>\n",
              "      <th>Tanggal</th>\n",
              "      <th>mean_wib</th>\n",
              "      <th>mean_wita</th>\n",
              "      <th>mean_wit</th>\n",
              "    </tr>\n",
              "  </thead>\n",
              "  <tbody>\n",
              "    <tr>\n",
              "      <th>0</th>\n",
              "      <td>2020-01-01</td>\n",
              "      <td>12817.0</td>\n",
              "      <td>14021.0</td>\n",
              "      <td>15012.0</td>\n",
              "    </tr>\n",
              "    <tr>\n",
              "      <th>1</th>\n",
              "      <td>2020-01-02</td>\n",
              "      <td>12817.0</td>\n",
              "      <td>14021.0</td>\n",
              "      <td>15012.0</td>\n",
              "    </tr>\n",
              "    <tr>\n",
              "      <th>2</th>\n",
              "      <td>2020-01-03</td>\n",
              "      <td>12836.0</td>\n",
              "      <td>14033.0</td>\n",
              "      <td>15012.0</td>\n",
              "    </tr>\n",
              "    <tr>\n",
              "      <th>3</th>\n",
              "      <td>2020-01-04</td>\n",
              "      <td>12836.0</td>\n",
              "      <td>14033.0</td>\n",
              "      <td>15012.0</td>\n",
              "    </tr>\n",
              "    <tr>\n",
              "      <th>4</th>\n",
              "      <td>2020-01-05</td>\n",
              "      <td>12836.0</td>\n",
              "      <td>14033.0</td>\n",
              "      <td>15012.0</td>\n",
              "    </tr>\n",
              "    <tr>\n",
              "      <th>5</th>\n",
              "      <td>2020-01-06</td>\n",
              "      <td>12925.0</td>\n",
              "      <td>14075.0</td>\n",
              "      <td>15062.0</td>\n",
              "    </tr>\n",
              "    <tr>\n",
              "      <th>6</th>\n",
              "      <td>2020-01-07</td>\n",
              "      <td>12975.0</td>\n",
              "      <td>14108.0</td>\n",
              "      <td>15062.0</td>\n",
              "    </tr>\n",
              "    <tr>\n",
              "      <th>7</th>\n",
              "      <td>2020-01-08</td>\n",
              "      <td>12961.0</td>\n",
              "      <td>14108.0</td>\n",
              "      <td>15062.0</td>\n",
              "    </tr>\n",
              "    <tr>\n",
              "      <th>8</th>\n",
              "      <td>2020-01-09</td>\n",
              "      <td>12978.0</td>\n",
              "      <td>14117.0</td>\n",
              "      <td>15075.0</td>\n",
              "    </tr>\n",
              "    <tr>\n",
              "      <th>9</th>\n",
              "      <td>2020-01-10</td>\n",
              "      <td>12997.0</td>\n",
              "      <td>14112.0</td>\n",
              "      <td>15062.0</td>\n",
              "    </tr>\n",
              "  </tbody>\n",
              "</table>\n",
              "</div>\n",
              "      <button class=\"colab-df-convert\" onclick=\"convertToInteractive('df-021e3c32-1ab9-45c8-8703-127fba52161b')\"\n",
              "              title=\"Convert this dataframe to an interactive table.\"\n",
              "              style=\"display:none;\">\n",
              "        \n",
              "  <svg xmlns=\"http://www.w3.org/2000/svg\" height=\"24px\"viewBox=\"0 0 24 24\"\n",
              "       width=\"24px\">\n",
              "    <path d=\"M0 0h24v24H0V0z\" fill=\"none\"/>\n",
              "    <path d=\"M18.56 5.44l.94 2.06.94-2.06 2.06-.94-2.06-.94-.94-2.06-.94 2.06-2.06.94zm-11 1L8.5 8.5l.94-2.06 2.06-.94-2.06-.94L8.5 2.5l-.94 2.06-2.06.94zm10 10l.94 2.06.94-2.06 2.06-.94-2.06-.94-.94-2.06-.94 2.06-2.06.94z\"/><path d=\"M17.41 7.96l-1.37-1.37c-.4-.4-.92-.59-1.43-.59-.52 0-1.04.2-1.43.59L10.3 9.45l-7.72 7.72c-.78.78-.78 2.05 0 2.83L4 21.41c.39.39.9.59 1.41.59.51 0 1.02-.2 1.41-.59l7.78-7.78 2.81-2.81c.8-.78.8-2.07 0-2.86zM5.41 20L4 18.59l7.72-7.72 1.47 1.35L5.41 20z\"/>\n",
              "  </svg>\n",
              "      </button>\n",
              "      \n",
              "  <style>\n",
              "    .colab-df-container {\n",
              "      display:flex;\n",
              "      flex-wrap:wrap;\n",
              "      gap: 12px;\n",
              "    }\n",
              "\n",
              "    .colab-df-convert {\n",
              "      background-color: #E8F0FE;\n",
              "      border: none;\n",
              "      border-radius: 50%;\n",
              "      cursor: pointer;\n",
              "      display: none;\n",
              "      fill: #1967D2;\n",
              "      height: 32px;\n",
              "      padding: 0 0 0 0;\n",
              "      width: 32px;\n",
              "    }\n",
              "\n",
              "    .colab-df-convert:hover {\n",
              "      background-color: #E2EBFA;\n",
              "      box-shadow: 0px 1px 2px rgba(60, 64, 67, 0.3), 0px 1px 3px 1px rgba(60, 64, 67, 0.15);\n",
              "      fill: #174EA6;\n",
              "    }\n",
              "\n",
              "    [theme=dark] .colab-df-convert {\n",
              "      background-color: #3B4455;\n",
              "      fill: #D2E3FC;\n",
              "    }\n",
              "\n",
              "    [theme=dark] .colab-df-convert:hover {\n",
              "      background-color: #434B5C;\n",
              "      box-shadow: 0px 1px 3px 1px rgba(0, 0, 0, 0.15);\n",
              "      filter: drop-shadow(0px 1px 2px rgba(0, 0, 0, 0.3));\n",
              "      fill: #FFFFFF;\n",
              "    }\n",
              "  </style>\n",
              "\n",
              "      <script>\n",
              "        const buttonEl =\n",
              "          document.querySelector('#df-021e3c32-1ab9-45c8-8703-127fba52161b button.colab-df-convert');\n",
              "        buttonEl.style.display =\n",
              "          google.colab.kernel.accessAllowed ? 'block' : 'none';\n",
              "\n",
              "        async function convertToInteractive(key) {\n",
              "          const element = document.querySelector('#df-021e3c32-1ab9-45c8-8703-127fba52161b');\n",
              "          const dataTable =\n",
              "            await google.colab.kernel.invokeFunction('convertToInteractive',\n",
              "                                                     [key], {});\n",
              "          if (!dataTable) return;\n",
              "\n",
              "          const docLinkHtml = 'Like what you see? Visit the ' +\n",
              "            '<a target=\"_blank\" href=https://colab.research.google.com/notebooks/data_table.ipynb>data table notebook</a>'\n",
              "            + ' to learn more about interactive tables.';\n",
              "          element.innerHTML = '';\n",
              "          dataTable['output_type'] = 'display_data';\n",
              "          await google.colab.output.renderOutput(dataTable, element);\n",
              "          const docLink = document.createElement('div');\n",
              "          docLink.innerHTML = docLinkHtml;\n",
              "          element.appendChild(docLink);\n",
              "        }\n",
              "      </script>\n",
              "    </div>\n",
              "  </div>\n",
              "  "
            ]
          },
          "metadata": {},
          "execution_count": 2
        }
      ]
    },
    {
      "cell_type": "markdown",
      "source": [
        "### __1.3 Melihat informasi dari dataframe__"
      ],
      "metadata": {
        "id": "lYjcSgJFy7Ds"
      }
    },
    {
      "cell_type": "code",
      "source": [
        "df.info()"
      ],
      "metadata": {
        "id": "c6D7WhpVAMk1",
        "colab": {
          "base_uri": "https://localhost:8080/"
        },
        "outputId": "fcde87bd-9014-44d3-c5f0-7e9139bdfadd"
      },
      "execution_count": null,
      "outputs": [
        {
          "output_type": "stream",
          "name": "stdout",
          "text": [
            "<class 'pandas.core.frame.DataFrame'>\n",
            "RangeIndex: 857 entries, 0 to 856\n",
            "Data columns (total 4 columns):\n",
            " #   Column     Non-Null Count  Dtype  \n",
            "---  ------     --------------  -----  \n",
            " 0   Tanggal    857 non-null    object \n",
            " 1   mean_wib   857 non-null    float64\n",
            " 2   mean_wita  857 non-null    float64\n",
            " 3   mean_wit   857 non-null    float64\n",
            "dtypes: float64(3), object(1)\n",
            "memory usage: 26.9+ KB\n"
          ]
        }
      ]
    },
    {
      "cell_type": "markdown",
      "source": [
        "### __1.4 Mengkonversi tipe data yang dibutuhkan__"
      ],
      "metadata": {
        "id": "fuElYiwczoE2"
      }
    },
    {
      "cell_type": "markdown",
      "source": [
        "Dikarenakan tipe data 'Tanggal' masih dalam bentuk object(string) maka kita ubah menjadi menjadi datetime64"
      ],
      "metadata": {
        "id": "jFX6sWk_3fm6"
      }
    },
    {
      "cell_type": "code",
      "source": [
        "# merubah tipe data object to datetime\n",
        "df['Tanggal'] = df['Tanggal'].astype('datetime64')\n",
        "\n",
        "# melihat tipe data dataframe\n",
        "print(df.dtypes)"
      ],
      "metadata": {
        "colab": {
          "base_uri": "https://localhost:8080/"
        },
        "id": "zOi_eDRbD8xz",
        "outputId": "71ada5d6-1d7a-4cd9-c20c-7648da05bb6c"
      },
      "execution_count": null,
      "outputs": [
        {
          "output_type": "stream",
          "name": "stdout",
          "text": [
            "Tanggal      datetime64[ns]\n",
            "mean_wib            float64\n",
            "mean_wita           float64\n",
            "mean_wit            float64\n",
            "dtype: object\n"
          ]
        }
      ]
    },
    {
      "cell_type": "markdown",
      "source": [
        "### __1.5 Split Dataframe WIB, WITA, WIT__"
      ],
      "metadata": {
        "id": "aU_KAseD8y3R"
      }
    },
    {
      "cell_type": "markdown",
      "source": [
        "#### __1.5.1 Dataframe WIB__"
      ],
      "metadata": {
        "id": "R2-HnkfB9A2p"
      }
    },
    {
      "cell_type": "code",
      "source": [
        "df_wib = df.filter(items=['Tanggal', 'mean_wib'])\n",
        "df_wib\n"
      ],
      "metadata": {
        "colab": {
          "base_uri": "https://localhost:8080/",
          "height": 423
        },
        "id": "q6H8ajHY9OxW",
        "outputId": "b06a1aa1-7d62-4f7d-98d4-dd88385342da"
      },
      "execution_count": null,
      "outputs": [
        {
          "output_type": "execute_result",
          "data": {
            "text/plain": [
              "       Tanggal  mean_wib\n",
              "0   2020-01-01   12817.0\n",
              "1   2020-01-02   12817.0\n",
              "2   2020-01-03   12836.0\n",
              "3   2020-01-04   12836.0\n",
              "4   2020-01-05   12836.0\n",
              "..         ...       ...\n",
              "852 2022-05-02   22594.0\n",
              "853 2022-05-03   22594.0\n",
              "854 2022-05-04   22594.0\n",
              "855 2022-05-05   22594.0\n",
              "856 2022-05-06   22594.0\n",
              "\n",
              "[857 rows x 2 columns]"
            ],
            "text/html": [
              "\n",
              "  <div id=\"df-8b9d1242-d4cc-471a-8b40-7f793dc7f19c\">\n",
              "    <div class=\"colab-df-container\">\n",
              "      <div>\n",
              "<style scoped>\n",
              "    .dataframe tbody tr th:only-of-type {\n",
              "        vertical-align: middle;\n",
              "    }\n",
              "\n",
              "    .dataframe tbody tr th {\n",
              "        vertical-align: top;\n",
              "    }\n",
              "\n",
              "    .dataframe thead th {\n",
              "        text-align: right;\n",
              "    }\n",
              "</style>\n",
              "<table border=\"1\" class=\"dataframe\">\n",
              "  <thead>\n",
              "    <tr style=\"text-align: right;\">\n",
              "      <th></th>\n",
              "      <th>Tanggal</th>\n",
              "      <th>mean_wib</th>\n",
              "    </tr>\n",
              "  </thead>\n",
              "  <tbody>\n",
              "    <tr>\n",
              "      <th>0</th>\n",
              "      <td>2020-01-01</td>\n",
              "      <td>12817.0</td>\n",
              "    </tr>\n",
              "    <tr>\n",
              "      <th>1</th>\n",
              "      <td>2020-01-02</td>\n",
              "      <td>12817.0</td>\n",
              "    </tr>\n",
              "    <tr>\n",
              "      <th>2</th>\n",
              "      <td>2020-01-03</td>\n",
              "      <td>12836.0</td>\n",
              "    </tr>\n",
              "    <tr>\n",
              "      <th>3</th>\n",
              "      <td>2020-01-04</td>\n",
              "      <td>12836.0</td>\n",
              "    </tr>\n",
              "    <tr>\n",
              "      <th>4</th>\n",
              "      <td>2020-01-05</td>\n",
              "      <td>12836.0</td>\n",
              "    </tr>\n",
              "    <tr>\n",
              "      <th>...</th>\n",
              "      <td>...</td>\n",
              "      <td>...</td>\n",
              "    </tr>\n",
              "    <tr>\n",
              "      <th>852</th>\n",
              "      <td>2022-05-02</td>\n",
              "      <td>22594.0</td>\n",
              "    </tr>\n",
              "    <tr>\n",
              "      <th>853</th>\n",
              "      <td>2022-05-03</td>\n",
              "      <td>22594.0</td>\n",
              "    </tr>\n",
              "    <tr>\n",
              "      <th>854</th>\n",
              "      <td>2022-05-04</td>\n",
              "      <td>22594.0</td>\n",
              "    </tr>\n",
              "    <tr>\n",
              "      <th>855</th>\n",
              "      <td>2022-05-05</td>\n",
              "      <td>22594.0</td>\n",
              "    </tr>\n",
              "    <tr>\n",
              "      <th>856</th>\n",
              "      <td>2022-05-06</td>\n",
              "      <td>22594.0</td>\n",
              "    </tr>\n",
              "  </tbody>\n",
              "</table>\n",
              "<p>857 rows × 2 columns</p>\n",
              "</div>\n",
              "      <button class=\"colab-df-convert\" onclick=\"convertToInteractive('df-8b9d1242-d4cc-471a-8b40-7f793dc7f19c')\"\n",
              "              title=\"Convert this dataframe to an interactive table.\"\n",
              "              style=\"display:none;\">\n",
              "        \n",
              "  <svg xmlns=\"http://www.w3.org/2000/svg\" height=\"24px\"viewBox=\"0 0 24 24\"\n",
              "       width=\"24px\">\n",
              "    <path d=\"M0 0h24v24H0V0z\" fill=\"none\"/>\n",
              "    <path d=\"M18.56 5.44l.94 2.06.94-2.06 2.06-.94-2.06-.94-.94-2.06-.94 2.06-2.06.94zm-11 1L8.5 8.5l.94-2.06 2.06-.94-2.06-.94L8.5 2.5l-.94 2.06-2.06.94zm10 10l.94 2.06.94-2.06 2.06-.94-2.06-.94-.94-2.06-.94 2.06-2.06.94z\"/><path d=\"M17.41 7.96l-1.37-1.37c-.4-.4-.92-.59-1.43-.59-.52 0-1.04.2-1.43.59L10.3 9.45l-7.72 7.72c-.78.78-.78 2.05 0 2.83L4 21.41c.39.39.9.59 1.41.59.51 0 1.02-.2 1.41-.59l7.78-7.78 2.81-2.81c.8-.78.8-2.07 0-2.86zM5.41 20L4 18.59l7.72-7.72 1.47 1.35L5.41 20z\"/>\n",
              "  </svg>\n",
              "      </button>\n",
              "      \n",
              "  <style>\n",
              "    .colab-df-container {\n",
              "      display:flex;\n",
              "      flex-wrap:wrap;\n",
              "      gap: 12px;\n",
              "    }\n",
              "\n",
              "    .colab-df-convert {\n",
              "      background-color: #E8F0FE;\n",
              "      border: none;\n",
              "      border-radius: 50%;\n",
              "      cursor: pointer;\n",
              "      display: none;\n",
              "      fill: #1967D2;\n",
              "      height: 32px;\n",
              "      padding: 0 0 0 0;\n",
              "      width: 32px;\n",
              "    }\n",
              "\n",
              "    .colab-df-convert:hover {\n",
              "      background-color: #E2EBFA;\n",
              "      box-shadow: 0px 1px 2px rgba(60, 64, 67, 0.3), 0px 1px 3px 1px rgba(60, 64, 67, 0.15);\n",
              "      fill: #174EA6;\n",
              "    }\n",
              "\n",
              "    [theme=dark] .colab-df-convert {\n",
              "      background-color: #3B4455;\n",
              "      fill: #D2E3FC;\n",
              "    }\n",
              "\n",
              "    [theme=dark] .colab-df-convert:hover {\n",
              "      background-color: #434B5C;\n",
              "      box-shadow: 0px 1px 3px 1px rgba(0, 0, 0, 0.15);\n",
              "      filter: drop-shadow(0px 1px 2px rgba(0, 0, 0, 0.3));\n",
              "      fill: #FFFFFF;\n",
              "    }\n",
              "  </style>\n",
              "\n",
              "      <script>\n",
              "        const buttonEl =\n",
              "          document.querySelector('#df-8b9d1242-d4cc-471a-8b40-7f793dc7f19c button.colab-df-convert');\n",
              "        buttonEl.style.display =\n",
              "          google.colab.kernel.accessAllowed ? 'block' : 'none';\n",
              "\n",
              "        async function convertToInteractive(key) {\n",
              "          const element = document.querySelector('#df-8b9d1242-d4cc-471a-8b40-7f793dc7f19c');\n",
              "          const dataTable =\n",
              "            await google.colab.kernel.invokeFunction('convertToInteractive',\n",
              "                                                     [key], {});\n",
              "          if (!dataTable) return;\n",
              "\n",
              "          const docLinkHtml = 'Like what you see? Visit the ' +\n",
              "            '<a target=\"_blank\" href=https://colab.research.google.com/notebooks/data_table.ipynb>data table notebook</a>'\n",
              "            + ' to learn more about interactive tables.';\n",
              "          element.innerHTML = '';\n",
              "          dataTable['output_type'] = 'display_data';\n",
              "          await google.colab.output.renderOutput(dataTable, element);\n",
              "          const docLink = document.createElement('div');\n",
              "          docLink.innerHTML = docLinkHtml;\n",
              "          element.appendChild(docLink);\n",
              "        }\n",
              "      </script>\n",
              "    </div>\n",
              "  </div>\n",
              "  "
            ]
          },
          "metadata": {},
          "execution_count": 5
        }
      ]
    },
    {
      "cell_type": "markdown",
      "source": [
        "#### __1.5.2 Dataframe WITA__"
      ],
      "metadata": {
        "id": "HGOhVkcgBnfw"
      }
    },
    {
      "cell_type": "code",
      "source": [
        "df_wita = df.filter(items=['Tanggal', 'mean_wita'])\n",
        "df_wita\n"
      ],
      "metadata": {
        "colab": {
          "base_uri": "https://localhost:8080/",
          "height": 423
        },
        "id": "4kUCs9HzBqYL",
        "outputId": "4eafafc4-13d4-47b8-d1c1-82a95f8ccd51"
      },
      "execution_count": null,
      "outputs": [
        {
          "output_type": "execute_result",
          "data": {
            "text/plain": [
              "       Tanggal  mean_wita\n",
              "0   2020-01-01    14021.0\n",
              "1   2020-01-02    14021.0\n",
              "2   2020-01-03    14033.0\n",
              "3   2020-01-04    14033.0\n",
              "4   2020-01-05    14033.0\n",
              "..         ...        ...\n",
              "852 2022-05-02    26100.0\n",
              "853 2022-05-03    26100.0\n",
              "854 2022-05-04    26100.0\n",
              "855 2022-05-05    26100.0\n",
              "856 2022-05-06    26100.0\n",
              "\n",
              "[857 rows x 2 columns]"
            ],
            "text/html": [
              "\n",
              "  <div id=\"df-8eb66626-119e-4b6b-8b38-95bfa0fb0889\">\n",
              "    <div class=\"colab-df-container\">\n",
              "      <div>\n",
              "<style scoped>\n",
              "    .dataframe tbody tr th:only-of-type {\n",
              "        vertical-align: middle;\n",
              "    }\n",
              "\n",
              "    .dataframe tbody tr th {\n",
              "        vertical-align: top;\n",
              "    }\n",
              "\n",
              "    .dataframe thead th {\n",
              "        text-align: right;\n",
              "    }\n",
              "</style>\n",
              "<table border=\"1\" class=\"dataframe\">\n",
              "  <thead>\n",
              "    <tr style=\"text-align: right;\">\n",
              "      <th></th>\n",
              "      <th>Tanggal</th>\n",
              "      <th>mean_wita</th>\n",
              "    </tr>\n",
              "  </thead>\n",
              "  <tbody>\n",
              "    <tr>\n",
              "      <th>0</th>\n",
              "      <td>2020-01-01</td>\n",
              "      <td>14021.0</td>\n",
              "    </tr>\n",
              "    <tr>\n",
              "      <th>1</th>\n",
              "      <td>2020-01-02</td>\n",
              "      <td>14021.0</td>\n",
              "    </tr>\n",
              "    <tr>\n",
              "      <th>2</th>\n",
              "      <td>2020-01-03</td>\n",
              "      <td>14033.0</td>\n",
              "    </tr>\n",
              "    <tr>\n",
              "      <th>3</th>\n",
              "      <td>2020-01-04</td>\n",
              "      <td>14033.0</td>\n",
              "    </tr>\n",
              "    <tr>\n",
              "      <th>4</th>\n",
              "      <td>2020-01-05</td>\n",
              "      <td>14033.0</td>\n",
              "    </tr>\n",
              "    <tr>\n",
              "      <th>...</th>\n",
              "      <td>...</td>\n",
              "      <td>...</td>\n",
              "    </tr>\n",
              "    <tr>\n",
              "      <th>852</th>\n",
              "      <td>2022-05-02</td>\n",
              "      <td>26100.0</td>\n",
              "    </tr>\n",
              "    <tr>\n",
              "      <th>853</th>\n",
              "      <td>2022-05-03</td>\n",
              "      <td>26100.0</td>\n",
              "    </tr>\n",
              "    <tr>\n",
              "      <th>854</th>\n",
              "      <td>2022-05-04</td>\n",
              "      <td>26100.0</td>\n",
              "    </tr>\n",
              "    <tr>\n",
              "      <th>855</th>\n",
              "      <td>2022-05-05</td>\n",
              "      <td>26100.0</td>\n",
              "    </tr>\n",
              "    <tr>\n",
              "      <th>856</th>\n",
              "      <td>2022-05-06</td>\n",
              "      <td>26100.0</td>\n",
              "    </tr>\n",
              "  </tbody>\n",
              "</table>\n",
              "<p>857 rows × 2 columns</p>\n",
              "</div>\n",
              "      <button class=\"colab-df-convert\" onclick=\"convertToInteractive('df-8eb66626-119e-4b6b-8b38-95bfa0fb0889')\"\n",
              "              title=\"Convert this dataframe to an interactive table.\"\n",
              "              style=\"display:none;\">\n",
              "        \n",
              "  <svg xmlns=\"http://www.w3.org/2000/svg\" height=\"24px\"viewBox=\"0 0 24 24\"\n",
              "       width=\"24px\">\n",
              "    <path d=\"M0 0h24v24H0V0z\" fill=\"none\"/>\n",
              "    <path d=\"M18.56 5.44l.94 2.06.94-2.06 2.06-.94-2.06-.94-.94-2.06-.94 2.06-2.06.94zm-11 1L8.5 8.5l.94-2.06 2.06-.94-2.06-.94L8.5 2.5l-.94 2.06-2.06.94zm10 10l.94 2.06.94-2.06 2.06-.94-2.06-.94-.94-2.06-.94 2.06-2.06.94z\"/><path d=\"M17.41 7.96l-1.37-1.37c-.4-.4-.92-.59-1.43-.59-.52 0-1.04.2-1.43.59L10.3 9.45l-7.72 7.72c-.78.78-.78 2.05 0 2.83L4 21.41c.39.39.9.59 1.41.59.51 0 1.02-.2 1.41-.59l7.78-7.78 2.81-2.81c.8-.78.8-2.07 0-2.86zM5.41 20L4 18.59l7.72-7.72 1.47 1.35L5.41 20z\"/>\n",
              "  </svg>\n",
              "      </button>\n",
              "      \n",
              "  <style>\n",
              "    .colab-df-container {\n",
              "      display:flex;\n",
              "      flex-wrap:wrap;\n",
              "      gap: 12px;\n",
              "    }\n",
              "\n",
              "    .colab-df-convert {\n",
              "      background-color: #E8F0FE;\n",
              "      border: none;\n",
              "      border-radius: 50%;\n",
              "      cursor: pointer;\n",
              "      display: none;\n",
              "      fill: #1967D2;\n",
              "      height: 32px;\n",
              "      padding: 0 0 0 0;\n",
              "      width: 32px;\n",
              "    }\n",
              "\n",
              "    .colab-df-convert:hover {\n",
              "      background-color: #E2EBFA;\n",
              "      box-shadow: 0px 1px 2px rgba(60, 64, 67, 0.3), 0px 1px 3px 1px rgba(60, 64, 67, 0.15);\n",
              "      fill: #174EA6;\n",
              "    }\n",
              "\n",
              "    [theme=dark] .colab-df-convert {\n",
              "      background-color: #3B4455;\n",
              "      fill: #D2E3FC;\n",
              "    }\n",
              "\n",
              "    [theme=dark] .colab-df-convert:hover {\n",
              "      background-color: #434B5C;\n",
              "      box-shadow: 0px 1px 3px 1px rgba(0, 0, 0, 0.15);\n",
              "      filter: drop-shadow(0px 1px 2px rgba(0, 0, 0, 0.3));\n",
              "      fill: #FFFFFF;\n",
              "    }\n",
              "  </style>\n",
              "\n",
              "      <script>\n",
              "        const buttonEl =\n",
              "          document.querySelector('#df-8eb66626-119e-4b6b-8b38-95bfa0fb0889 button.colab-df-convert');\n",
              "        buttonEl.style.display =\n",
              "          google.colab.kernel.accessAllowed ? 'block' : 'none';\n",
              "\n",
              "        async function convertToInteractive(key) {\n",
              "          const element = document.querySelector('#df-8eb66626-119e-4b6b-8b38-95bfa0fb0889');\n",
              "          const dataTable =\n",
              "            await google.colab.kernel.invokeFunction('convertToInteractive',\n",
              "                                                     [key], {});\n",
              "          if (!dataTable) return;\n",
              "\n",
              "          const docLinkHtml = 'Like what you see? Visit the ' +\n",
              "            '<a target=\"_blank\" href=https://colab.research.google.com/notebooks/data_table.ipynb>data table notebook</a>'\n",
              "            + ' to learn more about interactive tables.';\n",
              "          element.innerHTML = '';\n",
              "          dataTable['output_type'] = 'display_data';\n",
              "          await google.colab.output.renderOutput(dataTable, element);\n",
              "          const docLink = document.createElement('div');\n",
              "          docLink.innerHTML = docLinkHtml;\n",
              "          element.appendChild(docLink);\n",
              "        }\n",
              "      </script>\n",
              "    </div>\n",
              "  </div>\n",
              "  "
            ]
          },
          "metadata": {},
          "execution_count": 6
        }
      ]
    },
    {
      "cell_type": "markdown",
      "source": [
        "#### __1.5.3 Dataframe WIT__"
      ],
      "metadata": {
        "id": "42Ks0QrzBy2v"
      }
    },
    {
      "cell_type": "code",
      "source": [
        "df_wit = df.filter(items=['Tanggal', 'mean_wit'])\n",
        "df_wit\n"
      ],
      "metadata": {
        "colab": {
          "base_uri": "https://localhost:8080/",
          "height": 423
        },
        "id": "aI7NmwuuCEQf",
        "outputId": "ffc1b2b0-62d1-45e6-cc97-b892ede2668c"
      },
      "execution_count": null,
      "outputs": [
        {
          "output_type": "execute_result",
          "data": {
            "text/plain": [
              "       Tanggal  mean_wit\n",
              "0   2020-01-01   15012.0\n",
              "1   2020-01-02   15012.0\n",
              "2   2020-01-03   15012.0\n",
              "3   2020-01-04   15012.0\n",
              "4   2020-01-05   15012.0\n",
              "..         ...       ...\n",
              "852 2022-05-02   29275.0\n",
              "853 2022-05-03   29275.0\n",
              "854 2022-05-04   29275.0\n",
              "855 2022-05-05   28062.0\n",
              "856 2022-05-06   28062.0\n",
              "\n",
              "[857 rows x 2 columns]"
            ],
            "text/html": [
              "\n",
              "  <div id=\"df-b5730b1d-6cb5-42d6-ab44-66c9d5000830\">\n",
              "    <div class=\"colab-df-container\">\n",
              "      <div>\n",
              "<style scoped>\n",
              "    .dataframe tbody tr th:only-of-type {\n",
              "        vertical-align: middle;\n",
              "    }\n",
              "\n",
              "    .dataframe tbody tr th {\n",
              "        vertical-align: top;\n",
              "    }\n",
              "\n",
              "    .dataframe thead th {\n",
              "        text-align: right;\n",
              "    }\n",
              "</style>\n",
              "<table border=\"1\" class=\"dataframe\">\n",
              "  <thead>\n",
              "    <tr style=\"text-align: right;\">\n",
              "      <th></th>\n",
              "      <th>Tanggal</th>\n",
              "      <th>mean_wit</th>\n",
              "    </tr>\n",
              "  </thead>\n",
              "  <tbody>\n",
              "    <tr>\n",
              "      <th>0</th>\n",
              "      <td>2020-01-01</td>\n",
              "      <td>15012.0</td>\n",
              "    </tr>\n",
              "    <tr>\n",
              "      <th>1</th>\n",
              "      <td>2020-01-02</td>\n",
              "      <td>15012.0</td>\n",
              "    </tr>\n",
              "    <tr>\n",
              "      <th>2</th>\n",
              "      <td>2020-01-03</td>\n",
              "      <td>15012.0</td>\n",
              "    </tr>\n",
              "    <tr>\n",
              "      <th>3</th>\n",
              "      <td>2020-01-04</td>\n",
              "      <td>15012.0</td>\n",
              "    </tr>\n",
              "    <tr>\n",
              "      <th>4</th>\n",
              "      <td>2020-01-05</td>\n",
              "      <td>15012.0</td>\n",
              "    </tr>\n",
              "    <tr>\n",
              "      <th>...</th>\n",
              "      <td>...</td>\n",
              "      <td>...</td>\n",
              "    </tr>\n",
              "    <tr>\n",
              "      <th>852</th>\n",
              "      <td>2022-05-02</td>\n",
              "      <td>29275.0</td>\n",
              "    </tr>\n",
              "    <tr>\n",
              "      <th>853</th>\n",
              "      <td>2022-05-03</td>\n",
              "      <td>29275.0</td>\n",
              "    </tr>\n",
              "    <tr>\n",
              "      <th>854</th>\n",
              "      <td>2022-05-04</td>\n",
              "      <td>29275.0</td>\n",
              "    </tr>\n",
              "    <tr>\n",
              "      <th>855</th>\n",
              "      <td>2022-05-05</td>\n",
              "      <td>28062.0</td>\n",
              "    </tr>\n",
              "    <tr>\n",
              "      <th>856</th>\n",
              "      <td>2022-05-06</td>\n",
              "      <td>28062.0</td>\n",
              "    </tr>\n",
              "  </tbody>\n",
              "</table>\n",
              "<p>857 rows × 2 columns</p>\n",
              "</div>\n",
              "      <button class=\"colab-df-convert\" onclick=\"convertToInteractive('df-b5730b1d-6cb5-42d6-ab44-66c9d5000830')\"\n",
              "              title=\"Convert this dataframe to an interactive table.\"\n",
              "              style=\"display:none;\">\n",
              "        \n",
              "  <svg xmlns=\"http://www.w3.org/2000/svg\" height=\"24px\"viewBox=\"0 0 24 24\"\n",
              "       width=\"24px\">\n",
              "    <path d=\"M0 0h24v24H0V0z\" fill=\"none\"/>\n",
              "    <path d=\"M18.56 5.44l.94 2.06.94-2.06 2.06-.94-2.06-.94-.94-2.06-.94 2.06-2.06.94zm-11 1L8.5 8.5l.94-2.06 2.06-.94-2.06-.94L8.5 2.5l-.94 2.06-2.06.94zm10 10l.94 2.06.94-2.06 2.06-.94-2.06-.94-.94-2.06-.94 2.06-2.06.94z\"/><path d=\"M17.41 7.96l-1.37-1.37c-.4-.4-.92-.59-1.43-.59-.52 0-1.04.2-1.43.59L10.3 9.45l-7.72 7.72c-.78.78-.78 2.05 0 2.83L4 21.41c.39.39.9.59 1.41.59.51 0 1.02-.2 1.41-.59l7.78-7.78 2.81-2.81c.8-.78.8-2.07 0-2.86zM5.41 20L4 18.59l7.72-7.72 1.47 1.35L5.41 20z\"/>\n",
              "  </svg>\n",
              "      </button>\n",
              "      \n",
              "  <style>\n",
              "    .colab-df-container {\n",
              "      display:flex;\n",
              "      flex-wrap:wrap;\n",
              "      gap: 12px;\n",
              "    }\n",
              "\n",
              "    .colab-df-convert {\n",
              "      background-color: #E8F0FE;\n",
              "      border: none;\n",
              "      border-radius: 50%;\n",
              "      cursor: pointer;\n",
              "      display: none;\n",
              "      fill: #1967D2;\n",
              "      height: 32px;\n",
              "      padding: 0 0 0 0;\n",
              "      width: 32px;\n",
              "    }\n",
              "\n",
              "    .colab-df-convert:hover {\n",
              "      background-color: #E2EBFA;\n",
              "      box-shadow: 0px 1px 2px rgba(60, 64, 67, 0.3), 0px 1px 3px 1px rgba(60, 64, 67, 0.15);\n",
              "      fill: #174EA6;\n",
              "    }\n",
              "\n",
              "    [theme=dark] .colab-df-convert {\n",
              "      background-color: #3B4455;\n",
              "      fill: #D2E3FC;\n",
              "    }\n",
              "\n",
              "    [theme=dark] .colab-df-convert:hover {\n",
              "      background-color: #434B5C;\n",
              "      box-shadow: 0px 1px 3px 1px rgba(0, 0, 0, 0.15);\n",
              "      filter: drop-shadow(0px 1px 2px rgba(0, 0, 0, 0.3));\n",
              "      fill: #FFFFFF;\n",
              "    }\n",
              "  </style>\n",
              "\n",
              "      <script>\n",
              "        const buttonEl =\n",
              "          document.querySelector('#df-b5730b1d-6cb5-42d6-ab44-66c9d5000830 button.colab-df-convert');\n",
              "        buttonEl.style.display =\n",
              "          google.colab.kernel.accessAllowed ? 'block' : 'none';\n",
              "\n",
              "        async function convertToInteractive(key) {\n",
              "          const element = document.querySelector('#df-b5730b1d-6cb5-42d6-ab44-66c9d5000830');\n",
              "          const dataTable =\n",
              "            await google.colab.kernel.invokeFunction('convertToInteractive',\n",
              "                                                     [key], {});\n",
              "          if (!dataTable) return;\n",
              "\n",
              "          const docLinkHtml = 'Like what you see? Visit the ' +\n",
              "            '<a target=\"_blank\" href=https://colab.research.google.com/notebooks/data_table.ipynb>data table notebook</a>'\n",
              "            + ' to learn more about interactive tables.';\n",
              "          element.innerHTML = '';\n",
              "          dataTable['output_type'] = 'display_data';\n",
              "          await google.colab.output.renderOutput(dataTable, element);\n",
              "          const docLink = document.createElement('div');\n",
              "          docLink.innerHTML = docLinkHtml;\n",
              "          element.appendChild(docLink);\n",
              "        }\n",
              "      </script>\n",
              "    </div>\n",
              "  </div>\n",
              "  "
            ]
          },
          "metadata": {},
          "execution_count": 7
        }
      ]
    },
    {
      "cell_type": "markdown",
      "source": [
        "## __2. Plot Data__"
      ],
      "metadata": {
        "id": "yoDZ3CnL4z7H"
      }
    },
    {
      "cell_type": "markdown",
      "source": [
        "### __2.1 Visualisasi Dataset__"
      ],
      "metadata": {
        "id": "D2vWVzOD5jfE"
      }
    },
    {
      "cell_type": "markdown",
      "source": [
        "#### __2.1.1 Rata-rata Harga Minyak Goreng Waktu Indonesia Barat, Tengah, Timur per Hari__"
      ],
      "metadata": {
        "id": "wOTsqDGF54rL"
      }
    },
    {
      "cell_type": "code",
      "source": [
        "plt.figure(figsize=(13,5))\n",
        "sns.lineplot(data=df, x='Tanggal', y='mean_wib', legend= 'brief')\n",
        "sns.lineplot(data=df, x='Tanggal', y='mean_wita', legend= 'brief')\n",
        "sns.lineplot(data=df, x='Tanggal', y='mean_wit', legend= 'brief')\n",
        "plt.legend(labels=['WIB', 'WITA', 'WIT'])"
      ],
      "metadata": {
        "id": "C8xwIZpy_op0",
        "colab": {
          "base_uri": "https://localhost:8080/",
          "height": 358
        },
        "outputId": "c9ac890c-e8c5-4e66-fb05-3b6715c4976b"
      },
      "execution_count": null,
      "outputs": [
        {
          "output_type": "execute_result",
          "data": {
            "text/plain": [
              "<matplotlib.legend.Legend at 0x7f27b6733f10>"
            ]
          },
          "metadata": {},
          "execution_count": 8
        },
        {
          "output_type": "display_data",
          "data": {
            "text/plain": [
              "<Figure size 936x360 with 1 Axes>"
            ],
            "image/png": "[encoded data removed]"
          },
          "metadata": {
            "needs_background": "light"
          }
        }
      ]
    },
    {
      "cell_type": "markdown",
      "source": [
        "### __2.2 Statistika Deskriptif__"
      ],
      "metadata": {
        "id": "Xh3YF0rb7aGs"
      }
    },
    {
      "cell_type": "markdown",
      "source": [
        "Melihat Statistika Deskriptif dari Dataset sebelum melakukan pembuatan model, sebaiknya dilakukan analisa terhadap statistika deskriptif dari data."
      ],
      "metadata": {
        "id": "QbjUyODi7hmL"
      }
    },
    {
      "cell_type": "markdown",
      "source": [
        "#### __2.2.1 Statistika Deskriptif zona WIB__"
      ],
      "metadata": {
        "id": "UfNbr9suCSNK"
      }
    },
    {
      "cell_type": "code",
      "source": [
        "df_wib.describe()"
      ],
      "metadata": {
        "colab": {
          "base_uri": "https://localhost:8080/",
          "height": 300
        },
        "id": "8sGWF2Z36mOU",
        "outputId": "50f3ae09-f591-4e58-bcff-9518f67cce97"
      },
      "execution_count": null,
      "outputs": [
        {
          "output_type": "execute_result",
          "data": {
            "text/plain": [
              "           mean_wib\n",
              "count    857.000000\n",
              "mean   15184.912485\n",
              "std     2597.290549\n",
              "min    12778.000000\n",
              "25%    13172.000000\n",
              "50%    14061.000000\n",
              "75%    15936.000000\n",
              "max    22633.000000"
            ],
            "text/html": [
              "\n",
              "  <div id=\"df-0e4c3ea3-4670-4263-8b19-91b8a98b5193\">\n",
              "    <div class=\"colab-df-container\">\n",
              "      <div>\n",
              "<style scoped>\n",
              "    .dataframe tbody tr th:only-of-type {\n",
              "        vertical-align: middle;\n",
              "    }\n",
              "\n",
              "    .dataframe tbody tr th {\n",
              "        vertical-align: top;\n",
              "    }\n",
              "\n",
              "    .dataframe thead th {\n",
              "        text-align: right;\n",
              "    }\n",
              "</style>\n",
              "<table border=\"1\" class=\"dataframe\">\n",
              "  <thead>\n",
              "    <tr style=\"text-align: right;\">\n",
              "      <th></th>\n",
              "      <th>mean_wib</th>\n",
              "    </tr>\n",
              "  </thead>\n",
              "  <tbody>\n",
              "    <tr>\n",
              "      <th>count</th>\n",
              "      <td>857.000000</td>\n",
              "    </tr>\n",
              "    <tr>\n",
              "      <th>mean</th>\n",
              "      <td>15184.912485</td>\n",
              "    </tr>\n",
              "    <tr>\n",
              "      <th>std</th>\n",
              "      <td>2597.290549</td>\n",
              "    </tr>\n",
              "    <tr>\n",
              "      <th>min</th>\n",
              "      <td>12778.000000</td>\n",
              "    </tr>\n",
              "    <tr>\n",
              "      <th>25%</th>\n",
              "      <td>13172.000000</td>\n",
              "    </tr>\n",
              "    <tr>\n",
              "      <th>50%</th>\n",
              "      <td>14061.000000</td>\n",
              "    </tr>\n",
              "    <tr>\n",
              "      <th>75%</th>\n",
              "      <td>15936.000000</td>\n",
              "    </tr>\n",
              "    <tr>\n",
              "      <th>max</th>\n",
              "      <td>22633.000000</td>\n",
              "    </tr>\n",
              "  </tbody>\n",
              "</table>\n",
              "</div>\n",
              "      <button class=\"colab-df-convert\" onclick=\"convertToInteractive('df-0e4c3ea3-4670-4263-8b19-91b8a98b5193')\"\n",
              "              title=\"Convert this dataframe to an interactive table.\"\n",
              "              style=\"display:none;\">\n",
              "        \n",
              "  <svg xmlns=\"http://www.w3.org/2000/svg\" height=\"24px\"viewBox=\"0 0 24 24\"\n",
              "       width=\"24px\">\n",
              "    <path d=\"M0 0h24v24H0V0z\" fill=\"none\"/>\n",
              "    <path d=\"M18.56 5.44l.94 2.06.94-2.06 2.06-.94-2.06-.94-.94-2.06-.94 2.06-2.06.94zm-11 1L8.5 8.5l.94-2.06 2.06-.94-2.06-.94L8.5 2.5l-.94 2.06-2.06.94zm10 10l.94 2.06.94-2.06 2.06-.94-2.06-.94-.94-2.06-.94 2.06-2.06.94z\"/><path d=\"M17.41 7.96l-1.37-1.37c-.4-.4-.92-.59-1.43-.59-.52 0-1.04.2-1.43.59L10.3 9.45l-7.72 7.72c-.78.78-.78 2.05 0 2.83L4 21.41c.39.39.9.59 1.41.59.51 0 1.02-.2 1.41-.59l7.78-7.78 2.81-2.81c.8-.78.8-2.07 0-2.86zM5.41 20L4 18.59l7.72-7.72 1.47 1.35L5.41 20z\"/>\n",
              "  </svg>\n",
              "      </button>\n",
              "      \n",
              "  <style>\n",
              "    .colab-df-container {\n",
              "      display:flex;\n",
              "      flex-wrap:wrap;\n",
              "      gap: 12px;\n",
              "    }\n",
              "\n",
              "    .colab-df-convert {\n",
              "      background-color: #E8F0FE;\n",
              "      border: none;\n",
              "      border-radius: 50%;\n",
              "      cursor: pointer;\n",
              "      display: none;\n",
              "      fill: #1967D2;\n",
              "      height: 32px;\n",
              "      padding: 0 0 0 0;\n",
              "      width: 32px;\n",
              "    }\n",
              "\n",
              "    .colab-df-convert:hover {\n",
              "      background-color: #E2EBFA;\n",
              "      box-shadow: 0px 1px 2px rgba(60, 64, 67, 0.3), 0px 1px 3px 1px rgba(60, 64, 67, 0.15);\n",
              "      fill: #174EA6;\n",
              "    }\n",
              "\n",
              "    [theme=dark] .colab-df-convert {\n",
              "      background-color: #3B4455;\n",
              "      fill: #D2E3FC;\n",
              "    }\n",
              "\n",
              "    [theme=dark] .colab-df-convert:hover {\n",
              "      background-color: #434B5C;\n",
              "      box-shadow: 0px 1px 3px 1px rgba(0, 0, 0, 0.15);\n",
              "      filter: drop-shadow(0px 1px 2px rgba(0, 0, 0, 0.3));\n",
              "      fill: #FFFFFF;\n",
              "    }\n",
              "  </style>\n",
              "\n",
              "      <script>\n",
              "        const buttonEl =\n",
              "          document.querySelector('#df-0e4c3ea3-4670-4263-8b19-91b8a98b5193 button.colab-df-convert');\n",
              "        buttonEl.style.display =\n",
              "          google.colab.kernel.accessAllowed ? 'block' : 'none';\n",
              "\n",
              "        async function convertToInteractive(key) {\n",
              "          const element = document.querySelector('#df-0e4c3ea3-4670-4263-8b19-91b8a98b5193');\n",
              "          const dataTable =\n",
              "            await google.colab.kernel.invokeFunction('convertToInteractive',\n",
              "                                                     [key], {});\n",
              "          if (!dataTable) return;\n",
              "\n",
              "          const docLinkHtml = 'Like what you see? Visit the ' +\n",
              "            '<a target=\"_blank\" href=https://colab.research.google.com/notebooks/data_table.ipynb>data table notebook</a>'\n",
              "            + ' to learn more about interactive tables.';\n",
              "          element.innerHTML = '';\n",
              "          dataTable['output_type'] = 'display_data';\n",
              "          await google.colab.output.renderOutput(dataTable, element);\n",
              "          const docLink = document.createElement('div');\n",
              "          docLink.innerHTML = docLinkHtml;\n",
              "          element.appendChild(docLink);\n",
              "        }\n",
              "      </script>\n",
              "    </div>\n",
              "  </div>\n",
              "  "
            ]
          },
          "metadata": {},
          "execution_count": 9
        }
      ]
    },
    {
      "cell_type": "markdown",
      "source": [
        "#### __2.2.2 Statistika Deskriptif zona WITA__"
      ],
      "metadata": {
        "id": "NcsGQ4YXDZxu"
      }
    },
    {
      "cell_type": "code",
      "source": [
        "df_wita.describe()"
      ],
      "metadata": {
        "colab": {
          "base_uri": "https://localhost:8080/",
          "height": 300
        },
        "id": "DpIRStLj7u15",
        "outputId": "f24b8674-3862-4f64-ba19-22d07fedc54b"
      },
      "execution_count": null,
      "outputs": [
        {
          "output_type": "execute_result",
          "data": {
            "text/plain": [
              "          mean_wita\n",
              "count    857.000000\n",
              "mean   16214.390898\n",
              "std     2964.461286\n",
              "min    14021.000000\n",
              "25%    14229.000000\n",
              "50%    14842.000000\n",
              "75%    16333.000000\n",
              "max    26292.000000"
            ],
            "text/html": [
              "\n",
              "  <div id=\"df-0ac8389c-ebca-4cf3-bd59-c0efeb58df4d\">\n",
              "    <div class=\"colab-df-container\">\n",
              "      <div>\n",
              "<style scoped>\n",
              "    .dataframe tbody tr th:only-of-type {\n",
              "        vertical-align: middle;\n",
              "    }\n",
              "\n",
              "    .dataframe tbody tr th {\n",
              "        vertical-align: top;\n",
              "    }\n",
              "\n",
              "    .dataframe thead th {\n",
              "        text-align: right;\n",
              "    }\n",
              "</style>\n",
              "<table border=\"1\" class=\"dataframe\">\n",
              "  <thead>\n",
              "    <tr style=\"text-align: right;\">\n",
              "      <th></th>\n",
              "      <th>mean_wita</th>\n",
              "    </tr>\n",
              "  </thead>\n",
              "  <tbody>\n",
              "    <tr>\n",
              "      <th>count</th>\n",
              "      <td>857.000000</td>\n",
              "    </tr>\n",
              "    <tr>\n",
              "      <th>mean</th>\n",
              "      <td>16214.390898</td>\n",
              "    </tr>\n",
              "    <tr>\n",
              "      <th>std</th>\n",
              "      <td>2964.461286</td>\n",
              "    </tr>\n",
              "    <tr>\n",
              "      <th>min</th>\n",
              "      <td>14021.000000</td>\n",
              "    </tr>\n",
              "    <tr>\n",
              "      <th>25%</th>\n",
              "      <td>14229.000000</td>\n",
              "    </tr>\n",
              "    <tr>\n",
              "      <th>50%</th>\n",
              "      <td>14842.000000</td>\n",
              "    </tr>\n",
              "    <tr>\n",
              "      <th>75%</th>\n",
              "      <td>16333.000000</td>\n",
              "    </tr>\n",
              "    <tr>\n",
              "      <th>max</th>\n",
              "      <td>26292.000000</td>\n",
              "    </tr>\n",
              "  </tbody>\n",
              "</table>\n",
              "</div>\n",
              "      <button class=\"colab-df-convert\" onclick=\"convertToInteractive('df-0ac8389c-ebca-4cf3-bd59-c0efeb58df4d')\"\n",
              "              title=\"Convert this dataframe to an interactive table.\"\n",
              "              style=\"display:none;\">\n",
              "        \n",
              "  <svg xmlns=\"http://www.w3.org/2000/svg\" height=\"24px\"viewBox=\"0 0 24 24\"\n",
              "       width=\"24px\">\n",
              "    <path d=\"M0 0h24v24H0V0z\" fill=\"none\"/>\n",
              "    <path d=\"M18.56 5.44l.94 2.06.94-2.06 2.06-.94-2.06-.94-.94-2.06-.94 2.06-2.06.94zm-11 1L8.5 8.5l.94-2.06 2.06-.94-2.06-.94L8.5 2.5l-.94 2.06-2.06.94zm10 10l.94 2.06.94-2.06 2.06-.94-2.06-.94-.94-2.06-.94 2.06-2.06.94z\"/><path d=\"M17.41 7.96l-1.37-1.37c-.4-.4-.92-.59-1.43-.59-.52 0-1.04.2-1.43.59L10.3 9.45l-7.72 7.72c-.78.78-.78 2.05 0 2.83L4 21.41c.39.39.9.59 1.41.59.51 0 1.02-.2 1.41-.59l7.78-7.78 2.81-2.81c.8-.78.8-2.07 0-2.86zM5.41 20L4 18.59l7.72-7.72 1.47 1.35L5.41 20z\"/>\n",
              "  </svg>\n",
              "      </button>\n",
              "      \n",
              "  <style>\n",
              "    .colab-df-container {\n",
              "      display:flex;\n",
              "      flex-wrap:wrap;\n",
              "      gap: 12px;\n",
              "    }\n",
              "\n",
              "    .colab-df-convert {\n",
              "      background-color: #E8F0FE;\n",
              "      border: none;\n",
              "      border-radius: 50%;\n",
              "      cursor: pointer;\n",
              "      display: none;\n",
              "      fill: #1967D2;\n",
              "      height: 32px;\n",
              "      padding: 0 0 0 0;\n",
              "      width: 32px;\n",
              "    }\n",
              "\n",
              "    .colab-df-convert:hover {\n",
              "      background-color: #E2EBFA;\n",
              "      box-shadow: 0px 1px 2px rgba(60, 64, 67, 0.3), 0px 1px 3px 1px rgba(60, 64, 67, 0.15);\n",
              "      fill: #174EA6;\n",
              "    }\n",
              "\n",
              "    [theme=dark] .colab-df-convert {\n",
              "      background-color: #3B4455;\n",
              "      fill: #D2E3FC;\n",
              "    }\n",
              "\n",
              "    [theme=dark] .colab-df-convert:hover {\n",
              "      background-color: #434B5C;\n",
              "      box-shadow: 0px 1px 3px 1px rgba(0, 0, 0, 0.15);\n",
              "      filter: drop-shadow(0px 1px 2px rgba(0, 0, 0, 0.3));\n",
              "      fill: #FFFFFF;\n",
              "    }\n",
              "  </style>\n",
              "\n",
              "      <script>\n",
              "        const buttonEl =\n",
              "          document.querySelector('#df-0ac8389c-ebca-4cf3-bd59-c0efeb58df4d button.colab-df-convert');\n",
              "        buttonEl.style.display =\n",
              "          google.colab.kernel.accessAllowed ? 'block' : 'none';\n",
              "\n",
              "        async function convertToInteractive(key) {\n",
              "          const element = document.querySelector('#df-0ac8389c-ebca-4cf3-bd59-c0efeb58df4d');\n",
              "          const dataTable =\n",
              "            await google.colab.kernel.invokeFunction('convertToInteractive',\n",
              "                                                     [key], {});\n",
              "          if (!dataTable) return;\n",
              "\n",
              "          const docLinkHtml = 'Like what you see? Visit the ' +\n",
              "            '<a target=\"_blank\" href=https://colab.research.google.com/notebooks/data_table.ipynb>data table notebook</a>'\n",
              "            + ' to learn more about interactive tables.';\n",
              "          element.innerHTML = '';\n",
              "          dataTable['output_type'] = 'display_data';\n",
              "          await google.colab.output.renderOutput(dataTable, element);\n",
              "          const docLink = document.createElement('div');\n",
              "          docLink.innerHTML = docLinkHtml;\n",
              "          element.appendChild(docLink);\n",
              "        }\n",
              "      </script>\n",
              "    </div>\n",
              "  </div>\n",
              "  "
            ]
          },
          "metadata": {},
          "execution_count": 10
        }
      ]
    },
    {
      "cell_type": "markdown",
      "source": [
        "#### __2.2.3 Statistika Deskriptif zona WIT__"
      ],
      "metadata": {
        "id": "zrxaH0_vERnv"
      }
    },
    {
      "cell_type": "code",
      "source": [
        "df_wit.describe()\n"
      ],
      "metadata": {
        "colab": {
          "base_uri": "https://localhost:8080/",
          "height": 300
        },
        "id": "gf5T7jd7DuVR",
        "outputId": "07f4eb8c-96cd-4901-9512-b2901094eaf9"
      },
      "execution_count": null,
      "outputs": [
        {
          "output_type": "execute_result",
          "data": {
            "text/plain": [
              "           mean_wit\n",
              "count    857.000000\n",
              "mean   17290.480747\n",
              "std     3172.616809\n",
              "min    15012.000000\n",
              "25%    15450.000000\n",
              "50%    15988.000000\n",
              "75%    16912.000000\n",
              "max    29412.000000"
            ],
            "text/html": [
              "\n",
              "  <div id=\"df-b1e7e8ef-c6de-4b25-906e-947c55e0ff9a\">\n",
              "    <div class=\"colab-df-container\">\n",
              "      <div>\n",
              "<style scoped>\n",
              "    .dataframe tbody tr th:only-of-type {\n",
              "        vertical-align: middle;\n",
              "    }\n",
              "\n",
              "    .dataframe tbody tr th {\n",
              "        vertical-align: top;\n",
              "    }\n",
              "\n",
              "    .dataframe thead th {\n",
              "        text-align: right;\n",
              "    }\n",
              "</style>\n",
              "<table border=\"1\" class=\"dataframe\">\n",
              "  <thead>\n",
              "    <tr style=\"text-align: right;\">\n",
              "      <th></th>\n",
              "      <th>mean_wit</th>\n",
              "    </tr>\n",
              "  </thead>\n",
              "  <tbody>\n",
              "    <tr>\n",
              "      <th>count</th>\n",
              "      <td>857.000000</td>\n",
              "    </tr>\n",
              "    <tr>\n",
              "      <th>mean</th>\n",
              "      <td>17290.480747</td>\n",
              "    </tr>\n",
              "    <tr>\n",
              "      <th>std</th>\n",
              "      <td>3172.616809</td>\n",
              "    </tr>\n",
              "    <tr>\n",
              "      <th>min</th>\n",
              "      <td>15012.000000</td>\n",
              "    </tr>\n",
              "    <tr>\n",
              "      <th>25%</th>\n",
              "      <td>15450.000000</td>\n",
              "    </tr>\n",
              "    <tr>\n",
              "      <th>50%</th>\n",
              "      <td>15988.000000</td>\n",
              "    </tr>\n",
              "    <tr>\n",
              "      <th>75%</th>\n",
              "      <td>16912.000000</td>\n",
              "    </tr>\n",
              "    <tr>\n",
              "      <th>max</th>\n",
              "      <td>29412.000000</td>\n",
              "    </tr>\n",
              "  </tbody>\n",
              "</table>\n",
              "</div>\n",
              "      <button class=\"colab-df-convert\" onclick=\"convertToInteractive('df-b1e7e8ef-c6de-4b25-906e-947c55e0ff9a')\"\n",
              "              title=\"Convert this dataframe to an interactive table.\"\n",
              "              style=\"display:none;\">\n",
              "        \n",
              "  <svg xmlns=\"http://www.w3.org/2000/svg\" height=\"24px\"viewBox=\"0 0 24 24\"\n",
              "       width=\"24px\">\n",
              "    <path d=\"M0 0h24v24H0V0z\" fill=\"none\"/>\n",
              "    <path d=\"M18.56 5.44l.94 2.06.94-2.06 2.06-.94-2.06-.94-.94-2.06-.94 2.06-2.06.94zm-11 1L8.5 8.5l.94-2.06 2.06-.94-2.06-.94L8.5 2.5l-.94 2.06-2.06.94zm10 10l.94 2.06.94-2.06 2.06-.94-2.06-.94-.94-2.06-.94 2.06-2.06.94z\"/><path d=\"M17.41 7.96l-1.37-1.37c-.4-.4-.92-.59-1.43-.59-.52 0-1.04.2-1.43.59L10.3 9.45l-7.72 7.72c-.78.78-.78 2.05 0 2.83L4 21.41c.39.39.9.59 1.41.59.51 0 1.02-.2 1.41-.59l7.78-7.78 2.81-2.81c.8-.78.8-2.07 0-2.86zM5.41 20L4 18.59l7.72-7.72 1.47 1.35L5.41 20z\"/>\n",
              "  </svg>\n",
              "      </button>\n",
              "      \n",
              "  <style>\n",
              "    .colab-df-container {\n",
              "      display:flex;\n",
              "      flex-wrap:wrap;\n",
              "      gap: 12px;\n",
              "    }\n",
              "\n",
              "    .colab-df-convert {\n",
              "      background-color: #E8F0FE;\n",
              "      border: none;\n",
              "      border-radius: 50%;\n",
              "      cursor: pointer;\n",
              "      display: none;\n",
              "      fill: #1967D2;\n",
              "      height: 32px;\n",
              "      padding: 0 0 0 0;\n",
              "      width: 32px;\n",
              "    }\n",
              "\n",
              "    .colab-df-convert:hover {\n",
              "      background-color: #E2EBFA;\n",
              "      box-shadow: 0px 1px 2px rgba(60, 64, 67, 0.3), 0px 1px 3px 1px rgba(60, 64, 67, 0.15);\n",
              "      fill: #174EA6;\n",
              "    }\n",
              "\n",
              "    [theme=dark] .colab-df-convert {\n",
              "      background-color: #3B4455;\n",
              "      fill: #D2E3FC;\n",
              "    }\n",
              "\n",
              "    [theme=dark] .colab-df-convert:hover {\n",
              "      background-color: #434B5C;\n",
              "      box-shadow: 0px 1px 3px 1px rgba(0, 0, 0, 0.15);\n",
              "      filter: drop-shadow(0px 1px 2px rgba(0, 0, 0, 0.3));\n",
              "      fill: #FFFFFF;\n",
              "    }\n",
              "  </style>\n",
              "\n",
              "      <script>\n",
              "        const buttonEl =\n",
              "          document.querySelector('#df-b1e7e8ef-c6de-4b25-906e-947c55e0ff9a button.colab-df-convert');\n",
              "        buttonEl.style.display =\n",
              "          google.colab.kernel.accessAllowed ? 'block' : 'none';\n",
              "\n",
              "        async function convertToInteractive(key) {\n",
              "          const element = document.querySelector('#df-b1e7e8ef-c6de-4b25-906e-947c55e0ff9a');\n",
              "          const dataTable =\n",
              "            await google.colab.kernel.invokeFunction('convertToInteractive',\n",
              "                                                     [key], {});\n",
              "          if (!dataTable) return;\n",
              "\n",
              "          const docLinkHtml = 'Like what you see? Visit the ' +\n",
              "            '<a target=\"_blank\" href=https://colab.research.google.com/notebooks/data_table.ipynb>data table notebook</a>'\n",
              "            + ' to learn more about interactive tables.';\n",
              "          element.innerHTML = '';\n",
              "          dataTable['output_type'] = 'display_data';\n",
              "          await google.colab.output.renderOutput(dataTable, element);\n",
              "          const docLink = document.createElement('div');\n",
              "          docLink.innerHTML = docLinkHtml;\n",
              "          element.appendChild(docLink);\n",
              "        }\n",
              "      </script>\n",
              "    </div>\n",
              "  </div>\n",
              "  "
            ]
          },
          "metadata": {},
          "execution_count": 11
        }
      ]
    },
    {
      "cell_type": "markdown",
      "source": [
        "## __3. Preprocessing__"
      ],
      "metadata": {
        "id": "lAgrc3mGE2f4"
      }
    },
    {
      "cell_type": "markdown",
      "source": [
        "### __3.1 Split Data__"
      ],
      "metadata": {
        "id": "uwFrdvN-FS5b"
      }
    },
    {
      "cell_type": "markdown",
      "source": [
        "Split data dilakukan agar model yang telah dilatih dapat dievaluasi kemampuannya.\n",
        "Karena data yang digunakan adalah data time series, maka split data tidak dilakukan secara acak\n",
        "Kita juga akan melakukan cross validation menggunakan data train sehingga pastikan data train yang digunakan cukup besar.\n",
        "Digunakan data 70% sebagai data train dan 30% untuk data test"
      ],
      "metadata": {
        "id": "8q7rLOuCFLQp"
      }
    },
    {
      "cell_type": "markdown",
      "source": [
        "#### __3.1.1 Split Data WIB__"
      ],
      "metadata": {
        "id": "DW675DWVFE5L"
      }
    },
    {
      "cell_type": "code",
      "source": [
        "# split data\n",
        "train_size_wib = int(len(df_wib) * 0.75) # Menentukan banyaknya data train yaitu sebesar 70% data\n",
        "train_wib = df_wib[:train_size_wib]\n",
        "test_wib =df_wib[train_size_wib:].reset_index(drop=True)"
      ],
      "metadata": {
        "id": "Rl90jGf0Ed5z"
      },
      "execution_count": null,
      "outputs": []
    },
    {
      "cell_type": "markdown",
      "source": [
        "#### __3.1.2 Split Data WITA__"
      ],
      "metadata": {
        "id": "1SZebqn3nupD"
      }
    },
    {
      "cell_type": "code",
      "source": [
        "# split data\n",
        "train_size_wita = int(len(df_wita) * 0.75) # Menentukan banyaknya data train yaitu sebesar 75% data\n",
        "train_wita = df_wita[:train_size_wita]\n",
        "test_wita =df_wita[train_size_wita:].reset_index(drop=True)"
      ],
      "metadata": {
        "id": "9fCFcLISnzYh"
      },
      "execution_count": null,
      "outputs": []
    },
    {
      "cell_type": "markdown",
      "source": [
        "#### __3.1.3 Split Data WIT__"
      ],
      "metadata": {
        "id": "QKuA6xsZoAlI"
      }
    },
    {
      "cell_type": "code",
      "source": [
        "# split data\n",
        "train_size_wit = int(len(df_wit) * 0.75) # Menentukan banyaknya data train yaitu sebesar 75% data\n",
        "train_wit = df_wit[:train_size_wit]\n",
        "test_wit =df_wit[train_size_wit:].reset_index(drop=True)"
      ],
      "metadata": {
        "id": "lg5CjmrMoDk4"
      },
      "execution_count": null,
      "outputs": []
    },
    {
      "cell_type": "markdown",
      "source": [
        "### __3.2 Feature Scaling__"
      ],
      "metadata": {
        "id": "NtnyMIv_ojtO"
      }
    },
    {
      "cell_type": "markdown",
      "source": [
        "Feature Scalling Menggunakan MinMaxScaler.\n",
        "\n",
        "MinMaxScaler difit pada data train disetiap zona waktu agar dapat digunakan kembali pada data test maupun data observasi baru.\n",
        "Hasil scalling disimpan pada kolom baru yaitu 'scaled'\n"
      ],
      "metadata": {
        "id": "mGWjT1aropxE"
      }
    },
    {
      "cell_type": "markdown",
      "source": [
        "#### __3.2.1 Feature Scalling zona WIB__"
      ],
      "metadata": {
        "id": "o-S9x-VBo9Qr"
      }
    },
    {
      "cell_type": "code",
      "source": [
        "from sklearn.preprocessing import MinMaxScaler\n",
        "scaler_wib = MinMaxScaler()\n",
        "scaler_wib.fit(train_wib[['mean_wib']])\n",
        "\n",
        "train_wib['scaled_wib'] = scaler_wib.transform(train_wib[['mean_wib']])\n",
        "test_wib['scaled_wib'] = scaler_wib.transform(test_wib[['mean_wib']])"
      ],
      "metadata": {
        "id": "7qcPtg-EoIXY"
      },
      "execution_count": null,
      "outputs": []
    },
    {
      "cell_type": "markdown",
      "source": [
        "Melihat 10 data train zona wib yang telah di scalling"
      ],
      "metadata": {
        "id": "3Mbmy81dp5Nu"
      }
    },
    {
      "cell_type": "code",
      "source": [
        "train_wib.head(10)"
      ],
      "metadata": {
        "colab": {
          "base_uri": "https://localhost:8080/",
          "height": 363
        },
        "id": "ZVq0R_EXpW5b",
        "outputId": "8bc42dae-d488-4df4-c548-cfb7c4025046"
      },
      "execution_count": null,
      "outputs": [
        {
          "output_type": "execute_result",
          "data": {
            "text/plain": [
              "     Tanggal  mean_wib  scaled_wib\n",
              "0 2020-01-01   12817.0    0.012568\n",
              "1 2020-01-02   12817.0    0.012568\n",
              "2 2020-01-03   12836.0    0.018692\n",
              "3 2020-01-04   12836.0    0.018692\n",
              "4 2020-01-05   12836.0    0.018692\n",
              "5 2020-01-06   12925.0    0.047374\n",
              "6 2020-01-07   12975.0    0.063487\n",
              "7 2020-01-08   12961.0    0.058975\n",
              "8 2020-01-09   12978.0    0.064454\n",
              "9 2020-01-10   12997.0    0.070577"
            ],
            "text/html": [
              "\n",
              "  <div id=\"df-43f71119-8247-4693-9025-6dc6966746dc\">\n",
              "    <div class=\"colab-df-container\">\n",
              "      <div>\n",
              "<style scoped>\n",
              "    .dataframe tbody tr th:only-of-type {\n",
              "        vertical-align: middle;\n",
              "    }\n",
              "\n",
              "    .dataframe tbody tr th {\n",
              "        vertical-align: top;\n",
              "    }\n",
              "\n",
              "    .dataframe thead th {\n",
              "        text-align: right;\n",
              "    }\n",
              "</style>\n",
              "<table border=\"1\" class=\"dataframe\">\n",
              "  <thead>\n",
              "    <tr style=\"text-align: right;\">\n",
              "      <th></th>\n",
              "      <th>Tanggal</th>\n",
              "      <th>mean_wib</th>\n",
              "      <th>scaled_wib</th>\n",
              "    </tr>\n",
              "  </thead>\n",
              "  <tbody>\n",
              "    <tr>\n",
              "      <th>0</th>\n",
              "      <td>2020-01-01</td>\n",
              "      <td>12817.0</td>\n",
              "      <td>0.012568</td>\n",
              "    </tr>\n",
              "    <tr>\n",
              "      <th>1</th>\n",
              "      <td>2020-01-02</td>\n",
              "      <td>12817.0</td>\n",
              "      <td>0.012568</td>\n",
              "    </tr>\n",
              "    <tr>\n",
              "      <th>2</th>\n",
              "      <td>2020-01-03</td>\n",
              "      <td>12836.0</td>\n",
              "      <td>0.018692</td>\n",
              "    </tr>\n",
              "    <tr>\n",
              "      <th>3</th>\n",
              "      <td>2020-01-04</td>\n",
              "      <td>12836.0</td>\n",
              "      <td>0.018692</td>\n",
              "    </tr>\n",
              "    <tr>\n",
              "      <th>4</th>\n",
              "      <td>2020-01-05</td>\n",
              "      <td>12836.0</td>\n",
              "      <td>0.018692</td>\n",
              "    </tr>\n",
              "    <tr>\n",
              "      <th>5</th>\n",
              "      <td>2020-01-06</td>\n",
              "      <td>12925.0</td>\n",
              "      <td>0.047374</td>\n",
              "    </tr>\n",
              "    <tr>\n",
              "      <th>6</th>\n",
              "      <td>2020-01-07</td>\n",
              "      <td>12975.0</td>\n",
              "      <td>0.063487</td>\n",
              "    </tr>\n",
              "    <tr>\n",
              "      <th>7</th>\n",
              "      <td>2020-01-08</td>\n",
              "      <td>12961.0</td>\n",
              "      <td>0.058975</td>\n",
              "    </tr>\n",
              "    <tr>\n",
              "      <th>8</th>\n",
              "      <td>2020-01-09</td>\n",
              "      <td>12978.0</td>\n",
              "      <td>0.064454</td>\n",
              "    </tr>\n",
              "    <tr>\n",
              "      <th>9</th>\n",
              "      <td>2020-01-10</td>\n",
              "      <td>12997.0</td>\n",
              "      <td>0.070577</td>\n",
              "    </tr>\n",
              "  </tbody>\n",
              "</table>\n",
              "</div>\n",
              "      <button class=\"colab-df-convert\" onclick=\"convertToInteractive('df-43f71119-8247-4693-9025-6dc6966746dc')\"\n",
              "              title=\"Convert this dataframe to an interactive table.\"\n",
              "              style=\"display:none;\">\n",
              "        \n",
              "  <svg xmlns=\"http://www.w3.org/2000/svg\" height=\"24px\"viewBox=\"0 0 24 24\"\n",
              "       width=\"24px\">\n",
              "    <path d=\"M0 0h24v24H0V0z\" fill=\"none\"/>\n",
              "    <path d=\"M18.56 5.44l.94 2.06.94-2.06 2.06-.94-2.06-.94-.94-2.06-.94 2.06-2.06.94zm-11 1L8.5 8.5l.94-2.06 2.06-.94-2.06-.94L8.5 2.5l-.94 2.06-2.06.94zm10 10l.94 2.06.94-2.06 2.06-.94-2.06-.94-.94-2.06-.94 2.06-2.06.94z\"/><path d=\"M17.41 7.96l-1.37-1.37c-.4-.4-.92-.59-1.43-.59-.52 0-1.04.2-1.43.59L10.3 9.45l-7.72 7.72c-.78.78-.78 2.05 0 2.83L4 21.41c.39.39.9.59 1.41.59.51 0 1.02-.2 1.41-.59l7.78-7.78 2.81-2.81c.8-.78.8-2.07 0-2.86zM5.41 20L4 18.59l7.72-7.72 1.47 1.35L5.41 20z\"/>\n",
              "  </svg>\n",
              "      </button>\n",
              "      \n",
              "  <style>\n",
              "    .colab-df-container {\n",
              "      display:flex;\n",
              "      flex-wrap:wrap;\n",
              "      gap: 12px;\n",
              "    }\n",
              "\n",
              "    .colab-df-convert {\n",
              "      background-color: #E8F0FE;\n",
              "      border: none;\n",
              "      border-radius: 50%;\n",
              "      cursor: pointer;\n",
              "      display: none;\n",
              "      fill: #1967D2;\n",
              "      height: 32px;\n",
              "      padding: 0 0 0 0;\n",
              "      width: 32px;\n",
              "    }\n",
              "\n",
              "    .colab-df-convert:hover {\n",
              "      background-color: #E2EBFA;\n",
              "      box-shadow: 0px 1px 2px rgba(60, 64, 67, 0.3), 0px 1px 3px 1px rgba(60, 64, 67, 0.15);\n",
              "      fill: #174EA6;\n",
              "    }\n",
              "\n",
              "    [theme=dark] .colab-df-convert {\n",
              "      background-color: #3B4455;\n",
              "      fill: #D2E3FC;\n",
              "    }\n",
              "\n",
              "    [theme=dark] .colab-df-convert:hover {\n",
              "      background-color: #434B5C;\n",
              "      box-shadow: 0px 1px 3px 1px rgba(0, 0, 0, 0.15);\n",
              "      filter: drop-shadow(0px 1px 2px rgba(0, 0, 0, 0.3));\n",
              "      fill: #FFFFFF;\n",
              "    }\n",
              "  </style>\n",
              "\n",
              "      <script>\n",
              "        const buttonEl =\n",
              "          document.querySelector('#df-43f71119-8247-4693-9025-6dc6966746dc button.colab-df-convert');\n",
              "        buttonEl.style.display =\n",
              "          google.colab.kernel.accessAllowed ? 'block' : 'none';\n",
              "\n",
              "        async function convertToInteractive(key) {\n",
              "          const element = document.querySelector('#df-43f71119-8247-4693-9025-6dc6966746dc');\n",
              "          const dataTable =\n",
              "            await google.colab.kernel.invokeFunction('convertToInteractive',\n",
              "                                                     [key], {});\n",
              "          if (!dataTable) return;\n",
              "\n",
              "          const docLinkHtml = 'Like what you see? Visit the ' +\n",
              "            '<a target=\"_blank\" href=https://colab.research.google.com/notebooks/data_table.ipynb>data table notebook</a>'\n",
              "            + ' to learn more about interactive tables.';\n",
              "          element.innerHTML = '';\n",
              "          dataTable['output_type'] = 'display_data';\n",
              "          await google.colab.output.renderOutput(dataTable, element);\n",
              "          const docLink = document.createElement('div');\n",
              "          docLink.innerHTML = docLinkHtml;\n",
              "          element.appendChild(docLink);\n",
              "        }\n",
              "      </script>\n",
              "    </div>\n",
              "  </div>\n",
              "  "
            ]
          },
          "metadata": {},
          "execution_count": 16
        }
      ]
    },
    {
      "cell_type": "markdown",
      "source": [
        "#### __3.2.2 Feature Scalling zona WITA__"
      ],
      "metadata": {
        "id": "TxZhPrJAquI6"
      }
    },
    {
      "cell_type": "code",
      "source": [
        "from sklearn.preprocessing import MinMaxScaler\n",
        "scaler_wita = MinMaxScaler()\n",
        "scaler_wita.fit(train_wita[['mean_wita']])\n",
        "\n",
        "train_wita['scaled_wita'] = scaler_wita.transform(train_wita[['mean_wita']])\n",
        "test_wita['scaled_wita'] = scaler_wita.transform(test_wita[['mean_wita']])"
      ],
      "metadata": {
        "id": "l0SoF66_pbG-"
      },
      "execution_count": null,
      "outputs": []
    },
    {
      "cell_type": "markdown",
      "source": [
        "Melihat 10 data train zona wita yang telah di scalling"
      ],
      "metadata": {
        "id": "k4MJwMvSrd6O"
      }
    },
    {
      "cell_type": "code",
      "source": [
        "train_wita.head(10)"
      ],
      "metadata": {
        "colab": {
          "base_uri": "https://localhost:8080/",
          "height": 363
        },
        "id": "jUgBwIKCrHgg",
        "outputId": "84a30786-d1cc-4a2c-e92a-7846c3af6336"
      },
      "execution_count": null,
      "outputs": [
        {
          "output_type": "execute_result",
          "data": {
            "text/plain": [
              "     Tanggal  mean_wita  scaled_wita\n",
              "0 2020-01-01    14021.0     0.000000\n",
              "1 2020-01-02    14021.0     0.000000\n",
              "2 2020-01-03    14033.0     0.005190\n",
              "3 2020-01-04    14033.0     0.005190\n",
              "4 2020-01-05    14033.0     0.005190\n",
              "5 2020-01-06    14075.0     0.023356\n",
              "6 2020-01-07    14108.0     0.037630\n",
              "7 2020-01-08    14108.0     0.037630\n",
              "8 2020-01-09    14117.0     0.041522\n",
              "9 2020-01-10    14112.0     0.039360"
            ],
            "text/html": [
              "\n",
              "  <div id=\"df-3e6f9dec-470a-43d9-bf29-c2c4a4ec3afb\">\n",
              "    <div class=\"colab-df-container\">\n",
              "      <div>\n",
              "<style scoped>\n",
              "    .dataframe tbody tr th:only-of-type {\n",
              "        vertical-align: middle;\n",
              "    }\n",
              "\n",
              "    .dataframe tbody tr th {\n",
              "        vertical-align: top;\n",
              "    }\n",
              "\n",
              "    .dataframe thead th {\n",
              "        text-align: right;\n",
              "    }\n",
              "</style>\n",
              "<table border=\"1\" class=\"dataframe\">\n",
              "  <thead>\n",
              "    <tr style=\"text-align: right;\">\n",
              "      <th></th>\n",
              "      <th>Tanggal</th>\n",
              "      <th>mean_wita</th>\n",
              "      <th>scaled_wita</th>\n",
              "    </tr>\n",
              "  </thead>\n",
              "  <tbody>\n",
              "    <tr>\n",
              "      <th>0</th>\n",
              "      <td>2020-01-01</td>\n",
              "      <td>14021.0</td>\n",
              "      <td>0.000000</td>\n",
              "    </tr>\n",
              "    <tr>\n",
              "      <th>1</th>\n",
              "      <td>2020-01-02</td>\n",
              "      <td>14021.0</td>\n",
              "      <td>0.000000</td>\n",
              "    </tr>\n",
              "    <tr>\n",
              "      <th>2</th>\n",
              "      <td>2020-01-03</td>\n",
              "      <td>14033.0</td>\n",
              "      <td>0.005190</td>\n",
              "    </tr>\n",
              "    <tr>\n",
              "      <th>3</th>\n",
              "      <td>2020-01-04</td>\n",
              "      <td>14033.0</td>\n",
              "      <td>0.005190</td>\n",
              "    </tr>\n",
              "    <tr>\n",
              "      <th>4</th>\n",
              "      <td>2020-01-05</td>\n",
              "      <td>14033.0</td>\n",
              "      <td>0.005190</td>\n",
              "    </tr>\n",
              "    <tr>\n",
              "      <th>5</th>\n",
              "      <td>2020-01-06</td>\n",
              "      <td>14075.0</td>\n",
              "      <td>0.023356</td>\n",
              "    </tr>\n",
              "    <tr>\n",
              "      <th>6</th>\n",
              "      <td>2020-01-07</td>\n",
              "      <td>14108.0</td>\n",
              "      <td>0.037630</td>\n",
              "    </tr>\n",
              "    <tr>\n",
              "      <th>7</th>\n",
              "      <td>2020-01-08</td>\n",
              "      <td>14108.0</td>\n",
              "      <td>0.037630</td>\n",
              "    </tr>\n",
              "    <tr>\n",
              "      <th>8</th>\n",
              "      <td>2020-01-09</td>\n",
              "      <td>14117.0</td>\n",
              "      <td>0.041522</td>\n",
              "    </tr>\n",
              "    <tr>\n",
              "      <th>9</th>\n",
              "      <td>2020-01-10</td>\n",
              "      <td>14112.0</td>\n",
              "      <td>0.039360</td>\n",
              "    </tr>\n",
              "  </tbody>\n",
              "</table>\n",
              "</div>\n",
              "      <button class=\"colab-df-convert\" onclick=\"convertToInteractive('df-3e6f9dec-470a-43d9-bf29-c2c4a4ec3afb')\"\n",
              "              title=\"Convert this dataframe to an interactive table.\"\n",
              "              style=\"display:none;\">\n",
              "        \n",
              "  <svg xmlns=\"http://www.w3.org/2000/svg\" height=\"24px\"viewBox=\"0 0 24 24\"\n",
              "       width=\"24px\">\n",
              "    <path d=\"M0 0h24v24H0V0z\" fill=\"none\"/>\n",
              "    <path d=\"M18.56 5.44l.94 2.06.94-2.06 2.06-.94-2.06-.94-.94-2.06-.94 2.06-2.06.94zm-11 1L8.5 8.5l.94-2.06 2.06-.94-2.06-.94L8.5 2.5l-.94 2.06-2.06.94zm10 10l.94 2.06.94-2.06 2.06-.94-2.06-.94-.94-2.06-.94 2.06-2.06.94z\"/><path d=\"M17.41 7.96l-1.37-1.37c-.4-.4-.92-.59-1.43-.59-.52 0-1.04.2-1.43.59L10.3 9.45l-7.72 7.72c-.78.78-.78 2.05 0 2.83L4 21.41c.39.39.9.59 1.41.59.51 0 1.02-.2 1.41-.59l7.78-7.78 2.81-2.81c.8-.78.8-2.07 0-2.86zM5.41 20L4 18.59l7.72-7.72 1.47 1.35L5.41 20z\"/>\n",
              "  </svg>\n",
              "      </button>\n",
              "      \n",
              "  <style>\n",
              "    .colab-df-container {\n",
              "      display:flex;\n",
              "      flex-wrap:wrap;\n",
              "      gap: 12px;\n",
              "    }\n",
              "\n",
              "    .colab-df-convert {\n",
              "      background-color: #E8F0FE;\n",
              "      border: none;\n",
              "      border-radius: 50%;\n",
              "      cursor: pointer;\n",
              "      display: none;\n",
              "      fill: #1967D2;\n",
              "      height: 32px;\n",
              "      padding: 0 0 0 0;\n",
              "      width: 32px;\n",
              "    }\n",
              "\n",
              "    .colab-df-convert:hover {\n",
              "      background-color: #E2EBFA;\n",
              "      box-shadow: 0px 1px 2px rgba(60, 64, 67, 0.3), 0px 1px 3px 1px rgba(60, 64, 67, 0.15);\n",
              "      fill: #174EA6;\n",
              "    }\n",
              "\n",
              "    [theme=dark] .colab-df-convert {\n",
              "      background-color: #3B4455;\n",
              "      fill: #D2E3FC;\n",
              "    }\n",
              "\n",
              "    [theme=dark] .colab-df-convert:hover {\n",
              "      background-color: #434B5C;\n",
              "      box-shadow: 0px 1px 3px 1px rgba(0, 0, 0, 0.15);\n",
              "      filter: drop-shadow(0px 1px 2px rgba(0, 0, 0, 0.3));\n",
              "      fill: #FFFFFF;\n",
              "    }\n",
              "  </style>\n",
              "\n",
              "      <script>\n",
              "        const buttonEl =\n",
              "          document.querySelector('#df-3e6f9dec-470a-43d9-bf29-c2c4a4ec3afb button.colab-df-convert');\n",
              "        buttonEl.style.display =\n",
              "          google.colab.kernel.accessAllowed ? 'block' : 'none';\n",
              "\n",
              "        async function convertToInteractive(key) {\n",
              "          const element = document.querySelector('#df-3e6f9dec-470a-43d9-bf29-c2c4a4ec3afb');\n",
              "          const dataTable =\n",
              "            await google.colab.kernel.invokeFunction('convertToInteractive',\n",
              "                                                     [key], {});\n",
              "          if (!dataTable) return;\n",
              "\n",
              "          const docLinkHtml = 'Like what you see? Visit the ' +\n",
              "            '<a target=\"_blank\" href=https://colab.research.google.com/notebooks/data_table.ipynb>data table notebook</a>'\n",
              "            + ' to learn more about interactive tables.';\n",
              "          element.innerHTML = '';\n",
              "          dataTable['output_type'] = 'display_data';\n",
              "          await google.colab.output.renderOutput(dataTable, element);\n",
              "          const docLink = document.createElement('div');\n",
              "          docLink.innerHTML = docLinkHtml;\n",
              "          element.appendChild(docLink);\n",
              "        }\n",
              "      </script>\n",
              "    </div>\n",
              "  </div>\n",
              "  "
            ]
          },
          "metadata": {},
          "execution_count": 18
        }
      ]
    },
    {
      "cell_type": "markdown",
      "source": [
        "#### __3.2.3 Feature Scalling zona WIT__"
      ],
      "metadata": {
        "id": "NLk_Ob1Utqqj"
      }
    },
    {
      "cell_type": "code",
      "source": [
        "from sklearn.preprocessing import MinMaxScaler\n",
        "scaler_wit = MinMaxScaler()\n",
        "scaler_wit.fit(train_wit[['mean_wit']])\n",
        "\n",
        "train_wit['scaled_wit'] = scaler_wit.transform(train_wit[['mean_wit']])\n",
        "test_wit['scaled_wit'] = scaler_wit.transform(test_wit[['mean_wit']])"
      ],
      "metadata": {
        "id": "xC-zv_INs5ZV"
      },
      "execution_count": null,
      "outputs": []
    },
    {
      "cell_type": "code",
      "source": [
        "train_wit.head(10)"
      ],
      "metadata": {
        "colab": {
          "base_uri": "https://localhost:8080/",
          "height": 363
        },
        "id": "Rv60pnaKuDZV",
        "outputId": "ac97dda1-be21-475b-d67f-6fb4d93ad581"
      },
      "execution_count": null,
      "outputs": [
        {
          "output_type": "execute_result",
          "data": {
            "text/plain": [
              "     Tanggal  mean_wit  scaled_wit\n",
              "0 2020-01-01   15012.0    0.000000\n",
              "1 2020-01-02   15012.0    0.000000\n",
              "2 2020-01-03   15012.0    0.000000\n",
              "3 2020-01-04   15012.0    0.000000\n",
              "4 2020-01-05   15012.0    0.000000\n",
              "5 2020-01-06   15062.0    0.018519\n",
              "6 2020-01-07   15062.0    0.018519\n",
              "7 2020-01-08   15062.0    0.018519\n",
              "8 2020-01-09   15075.0    0.023333\n",
              "9 2020-01-10   15062.0    0.018519"
            ],
            "text/html": [
              "\n",
              "  <div id=\"df-0fd98511-c01a-45c1-82f5-2062d47e100f\">\n",
              "    <div class=\"colab-df-container\">\n",
              "      <div>\n",
              "<style scoped>\n",
              "    .dataframe tbody tr th:only-of-type {\n",
              "        vertical-align: middle;\n",
              "    }\n",
              "\n",
              "    .dataframe tbody tr th {\n",
              "        vertical-align: top;\n",
              "    }\n",
              "\n",
              "    .dataframe thead th {\n",
              "        text-align: right;\n",
              "    }\n",
              "</style>\n",
              "<table border=\"1\" class=\"dataframe\">\n",
              "  <thead>\n",
              "    <tr style=\"text-align: right;\">\n",
              "      <th></th>\n",
              "      <th>Tanggal</th>\n",
              "      <th>mean_wit</th>\n",
              "      <th>scaled_wit</th>\n",
              "    </tr>\n",
              "  </thead>\n",
              "  <tbody>\n",
              "    <tr>\n",
              "      <th>0</th>\n",
              "      <td>2020-01-01</td>\n",
              "      <td>15012.0</td>\n",
              "      <td>0.000000</td>\n",
              "    </tr>\n",
              "    <tr>\n",
              "      <th>1</th>\n",
              "      <td>2020-01-02</td>\n",
              "      <td>15012.0</td>\n",
              "      <td>0.000000</td>\n",
              "    </tr>\n",
              "    <tr>\n",
              "      <th>2</th>\n",
              "      <td>2020-01-03</td>\n",
              "      <td>15012.0</td>\n",
              "      <td>0.000000</td>\n",
              "    </tr>\n",
              "    <tr>\n",
              "      <th>3</th>\n",
              "      <td>2020-01-04</td>\n",
              "      <td>15012.0</td>\n",
              "      <td>0.000000</td>\n",
              "    </tr>\n",
              "    <tr>\n",
              "      <th>4</th>\n",
              "      <td>2020-01-05</td>\n",
              "      <td>15012.0</td>\n",
              "      <td>0.000000</td>\n",
              "    </tr>\n",
              "    <tr>\n",
              "      <th>5</th>\n",
              "      <td>2020-01-06</td>\n",
              "      <td>15062.0</td>\n",
              "      <td>0.018519</td>\n",
              "    </tr>\n",
              "    <tr>\n",
              "      <th>6</th>\n",
              "      <td>2020-01-07</td>\n",
              "      <td>15062.0</td>\n",
              "      <td>0.018519</td>\n",
              "    </tr>\n",
              "    <tr>\n",
              "      <th>7</th>\n",
              "      <td>2020-01-08</td>\n",
              "      <td>15062.0</td>\n",
              "      <td>0.018519</td>\n",
              "    </tr>\n",
              "    <tr>\n",
              "      <th>8</th>\n",
              "      <td>2020-01-09</td>\n",
              "      <td>15075.0</td>\n",
              "      <td>0.023333</td>\n",
              "    </tr>\n",
              "    <tr>\n",
              "      <th>9</th>\n",
              "      <td>2020-01-10</td>\n",
              "      <td>15062.0</td>\n",
              "      <td>0.018519</td>\n",
              "    </tr>\n",
              "  </tbody>\n",
              "</table>\n",
              "</div>\n",
              "      <button class=\"colab-df-convert\" onclick=\"convertToInteractive('df-0fd98511-c01a-45c1-82f5-2062d47e100f')\"\n",
              "              title=\"Convert this dataframe to an interactive table.\"\n",
              "              style=\"display:none;\">\n",
              "        \n",
              "  <svg xmlns=\"http://www.w3.org/2000/svg\" height=\"24px\"viewBox=\"0 0 24 24\"\n",
              "       width=\"24px\">\n",
              "    <path d=\"M0 0h24v24H0V0z\" fill=\"none\"/>\n",
              "    <path d=\"M18.56 5.44l.94 2.06.94-2.06 2.06-.94-2.06-.94-.94-2.06-.94 2.06-2.06.94zm-11 1L8.5 8.5l.94-2.06 2.06-.94-2.06-.94L8.5 2.5l-.94 2.06-2.06.94zm10 10l.94 2.06.94-2.06 2.06-.94-2.06-.94-.94-2.06-.94 2.06-2.06.94z\"/><path d=\"M17.41 7.96l-1.37-1.37c-.4-.4-.92-.59-1.43-.59-.52 0-1.04.2-1.43.59L10.3 9.45l-7.72 7.72c-.78.78-.78 2.05 0 2.83L4 21.41c.39.39.9.59 1.41.59.51 0 1.02-.2 1.41-.59l7.78-7.78 2.81-2.81c.8-.78.8-2.07 0-2.86zM5.41 20L4 18.59l7.72-7.72 1.47 1.35L5.41 20z\"/>\n",
              "  </svg>\n",
              "      </button>\n",
              "      \n",
              "  <style>\n",
              "    .colab-df-container {\n",
              "      display:flex;\n",
              "      flex-wrap:wrap;\n",
              "      gap: 12px;\n",
              "    }\n",
              "\n",
              "    .colab-df-convert {\n",
              "      background-color: #E8F0FE;\n",
              "      border: none;\n",
              "      border-radius: 50%;\n",
              "      cursor: pointer;\n",
              "      display: none;\n",
              "      fill: #1967D2;\n",
              "      height: 32px;\n",
              "      padding: 0 0 0 0;\n",
              "      width: 32px;\n",
              "    }\n",
              "\n",
              "    .colab-df-convert:hover {\n",
              "      background-color: #E2EBFA;\n",
              "      box-shadow: 0px 1px 2px rgba(60, 64, 67, 0.3), 0px 1px 3px 1px rgba(60, 64, 67, 0.15);\n",
              "      fill: #174EA6;\n",
              "    }\n",
              "\n",
              "    [theme=dark] .colab-df-convert {\n",
              "      background-color: #3B4455;\n",
              "      fill: #D2E3FC;\n",
              "    }\n",
              "\n",
              "    [theme=dark] .colab-df-convert:hover {\n",
              "      background-color: #434B5C;\n",
              "      box-shadow: 0px 1px 3px 1px rgba(0, 0, 0, 0.15);\n",
              "      filter: drop-shadow(0px 1px 2px rgba(0, 0, 0, 0.3));\n",
              "      fill: #FFFFFF;\n",
              "    }\n",
              "  </style>\n",
              "\n",
              "      <script>\n",
              "        const buttonEl =\n",
              "          document.querySelector('#df-0fd98511-c01a-45c1-82f5-2062d47e100f button.colab-df-convert');\n",
              "        buttonEl.style.display =\n",
              "          google.colab.kernel.accessAllowed ? 'block' : 'none';\n",
              "\n",
              "        async function convertToInteractive(key) {\n",
              "          const element = document.querySelector('#df-0fd98511-c01a-45c1-82f5-2062d47e100f');\n",
              "          const dataTable =\n",
              "            await google.colab.kernel.invokeFunction('convertToInteractive',\n",
              "                                                     [key], {});\n",
              "          if (!dataTable) return;\n",
              "\n",
              "          const docLinkHtml = 'Like what you see? Visit the ' +\n",
              "            '<a target=\"_blank\" href=https://colab.research.google.com/notebooks/data_table.ipynb>data table notebook</a>'\n",
              "            + ' to learn more about interactive tables.';\n",
              "          element.innerHTML = '';\n",
              "          dataTable['output_type'] = 'display_data';\n",
              "          await google.colab.output.renderOutput(dataTable, element);\n",
              "          const docLink = document.createElement('div');\n",
              "          docLink.innerHTML = docLinkHtml;\n",
              "          element.appendChild(docLink);\n",
              "        }\n",
              "      </script>\n",
              "    </div>\n",
              "  </div>\n",
              "  "
            ]
          },
          "metadata": {},
          "execution_count": 29
        }
      ]
    },
    {
      "cell_type": "markdown",
      "source": [
        "### __3.3 Sliding Window__"
      ],
      "metadata": {
        "id": "38NdYRDTursf"
      }
    },
    {
      "cell_type": "markdown",
      "source": [
        "Membuat fungsi sliding window\n",
        "\n",
        "Selanjutnya kita akan membuat fungsi sliding window dengan input data (bertipe data numpy array) dan window size\n",
        "Fungsi ini akan menghasilkan variabel input (X) dan variabel target (y)"
      ],
      "metadata": {
        "id": "1uX8wb4Suwnu"
      }
    },
    {
      "cell_type": "code",
      "source": [
        "def sliding_window(data, window_size):\n",
        "    sub_seq, next_values = [], []\n",
        "    for i in range(len(data)-window_size):\n",
        "        sub_seq.append(data[i:i+window_size])\n",
        "        next_values.append(data[i+window_size])\n",
        "    X = np.stack(sub_seq)\n",
        "    y = np.array(next_values)\n",
        "    return X,y\n"
      ],
      "metadata": {
        "id": "6g_TZv0AuG7N"
      },
      "execution_count": null,
      "outputs": []
    },
    {
      "cell_type": "markdown",
      "source": [
        "Berapa window size yang tepat untuk digunakan?\n",
        "Pada penerapannya kita dapat menentukan window size berapa saja.\n",
        "Untuk mencapai hasil yang maksimal dapat dilakukan percobaan dengan menggunakan beberapa window size.\n",
        "Perlu diperhatikan juga bahwa semakin** besar window size **yang digunakan akan memerlukan waktu yang cukup lama dalam proses training data\n",
        "Pada contoh ini kita hanya menggunakan window size = 24 atau sama dengan 1 hari dan kita terapkan pada data train dan test yang telah discalling"
      ],
      "metadata": {
        "id": "MAS6sOjlvQIn"
      }
    },
    {
      "cell_type": "markdown",
      "source": [
        "#### __3.3.1 Sliding Window zona WIB__"
      ],
      "metadata": {
        "id": "l0E7BvmmvUZk"
      }
    },
    {
      "cell_type": "code",
      "source": [
        "window_size = 30\n",
        "\n",
        "X_train_wib, y_train_wib = sliding_window(train_wib[['scaled_wib']].values, window_size)\n",
        "X_test_wib, y_test_wib = sliding_window(test_wib[['scaled_wib']].values, window_size)\n",
        "\n"
      ],
      "metadata": {
        "id": "PKkDEFLqvPbj"
      },
      "execution_count": null,
      "outputs": []
    },
    {
      "cell_type": "code",
      "source": [
        "print(X_train_wib.shape, y_train_wib.shape)\n",
        "print(X_test_wib.shape, y_test_wib.shape)"
      ],
      "metadata": {
        "colab": {
          "base_uri": "https://localhost:8080/"
        },
        "id": "CA6FmShkvr1b",
        "outputId": "7947668c-e5e8-45ad-a48a-5da5bc97db35"
      },
      "execution_count": null,
      "outputs": [
        {
          "output_type": "stream",
          "name": "stdout",
          "text": [
            "(612, 30, 1) (612, 1)\n",
            "(185, 30, 1) (185, 1)\n"
          ]
        }
      ]
    },
    {
      "cell_type": "markdown",
      "source": [
        "#### __3.3.2 Sliding Window zona WITA__"
      ],
      "metadata": {
        "id": "bDfpsTx-wAsp"
      }
    },
    {
      "cell_type": "code",
      "source": [
        "window_size = 30\n",
        "\n",
        "X_train_wita, y_train_wita = sliding_window(train_wita[['scaled_wita']].values, window_size)\n",
        "X_test_wita, y_test_wita = sliding_window(test_wita[['scaled_wita']].values, window_size)\n"
      ],
      "metadata": {
        "id": "ows7Y5JrvwGt"
      },
      "execution_count": null,
      "outputs": []
    },
    {
      "cell_type": "code",
      "source": [
        "print(X_train_wita.shape, y_train_wita.shape)\n",
        "print(X_test_wita.shape, y_test_wita.shape)"
      ],
      "metadata": {
        "colab": {
          "base_uri": "https://localhost:8080/"
        },
        "id": "fqzAKYy0wfBh",
        "outputId": "7a90217c-eaa2-410e-c074-a8ab9da701c1"
      },
      "execution_count": null,
      "outputs": [
        {
          "output_type": "stream",
          "name": "stdout",
          "text": [
            "(612, 30, 1) (612, 1)\n",
            "(185, 30, 1) (185, 1)\n"
          ]
        }
      ]
    },
    {
      "cell_type": "markdown",
      "source": [
        "#### __3.3.3 Sliding Window zona WIT__"
      ],
      "metadata": {
        "id": "lQ2Y5YaJwru8"
      }
    },
    {
      "cell_type": "code",
      "source": [
        "window_size = 30\n",
        "\n",
        "X_train_wit, y_train_wit = sliding_window(train_wit[['scaled_wit']].values, window_size)\n",
        "X_test_wit, y_test_wit = sliding_window(test_wit[['scaled_wit']].values, window_size)\n"
      ],
      "metadata": {
        "id": "MSvDK6_0wlpX"
      },
      "execution_count": null,
      "outputs": []
    },
    {
      "cell_type": "code",
      "source": [
        "print(X_train_wit.shape, y_train_wit.shape)\n",
        "print(X_test_wit.shape, y_test_wit.shape)"
      ],
      "metadata": {
        "colab": {
          "base_uri": "https://localhost:8080/"
        },
        "id": "W8waY2M5w8-v",
        "outputId": "52b3e7f6-cec8-44ce-9c49-5af5cff4204e"
      },
      "execution_count": null,
      "outputs": [
        {
          "output_type": "stream",
          "name": "stdout",
          "text": [
            "(612, 30, 1) (612, 1)\n",
            "(185, 30, 1) (185, 1)\n"
          ]
        }
      ]
    },
    {
      "cell_type": "markdown",
      "source": [
        "## __4. Pembuatan Model__"
      ],
      "metadata": {
        "id": "KZUxjW95xSdY"
      }
    },
    {
      "cell_type": "markdown",
      "source": [
        "### __4.1 Import Modul__"
      ],
      "metadata": {
        "id": "ZfsSOMNiGxGZ"
      }
    },
    {
      "cell_type": "code",
      "source": [
        "from tensorflow.keras.models import Sequential\n",
        "from tensorflow.keras.layers import Dense, Dropout, LSTM #, RNN, GRU "
      ],
      "metadata": {
        "id": "6anvtNuGxBVB"
      },
      "execution_count": null,
      "outputs": []
    },
    {
      "cell_type": "markdown",
      "source": [
        "### __4.2 Membuat fungsi model LSTM__"
      ],
      "metadata": {
        "id": "EFHyf22sG8Us"
      }
    },
    {
      "cell_type": "markdown",
      "source": [
        "Fungsi model yang akan dibuat terdiri:\n",
        "\n",
        "LSTM layer dengan \n",
        "* input_shape = (window_size, 1)\n",
        "* Dense layer dengan 32 neuron dengan fungsi aktivasi ReLu\n",
        "* Dropout antara Dense layer dan Dense output layer\n",
        "* Dense output layer dengan 1 neuron\n",
        "* loss function yang digunakan adalah Mean Squared Error (MSE)\n",
        "* optimizer yang digunakan adalah adam\n",
        "* metric yang digunakan adalah Mean Absolute Error (MAE)\n",
        "\n",
        "* Parameter-parameter yang dijadikan sebagai input dari fungsi tersebut adalah:\n",
        "  - LSTM_unit: banyaknya LSTM unit (default = 64)\n",
        "  - dropout: persentase dropout (default = 0.2)"
      ],
      "metadata": {
        "id": "jvGwfBx3HIvq"
      }
    },
    {
      "cell_type": "code",
      "source": [
        "def create_model(LSTM_unit=64, dropout=0.2): #jika ingin menggunakan RNN atau GRU ganti LSTM dengan GRU/RNN\n",
        "    # create model\n",
        "    model = Sequential()\n",
        "    model.add(LSTM(units=LSTM_unit, input_shape=(window_size, 1)))\n",
        "    model.add(Dense(32, activation='relu'))\n",
        "    model.add(Dropout(dropout))\n",
        "    model.add(Dense(1))\n",
        "    # Compile model\n",
        "    model.compile(loss='mse', optimizer='adam', metrics=['mae'])\n",
        "    return model"
      ],
      "metadata": {
        "id": "GHOjSRsZG40I"
      },
      "execution_count": null,
      "outputs": []
    },
    {
      "cell_type": "markdown",
      "source": [
        "### __4.3 Membuat Model__"
      ],
      "metadata": {
        "id": "rpDe4pKYGWf9"
      }
    },
    {
      "cell_type": "markdown",
      "source": [
        "Kita coba lakukan hypertuning pada parameter, dengan mencoba kombinasi nilai LSTM unitnya 16,32,64,28 dan peluang dropout 0,1 dan 0,2"
      ],
      "metadata": {
        "id": "zNGvo_dUIaYa"
      }
    },
    {
      "cell_type": "code",
      "source": [
        "LSTM_unit = [16,32,64,128]\n",
        "dropout = [0.1,0.2]\n"
      ],
      "metadata": {
        "id": "56yixFJdH15M"
      },
      "execution_count": null,
      "outputs": []
    },
    {
      "cell_type": "markdown",
      "source": [
        "Dilakukan early stopping pada saat proses training"
      ],
      "metadata": {
        "id": "TzppuG8rH1Pp"
      }
    },
    {
      "cell_type": "code",
      "source": [
        "from sklearn.model_selection import GridSearchCV\n",
        "from keras.wrappers.scikit_learn import KerasRegressor\n",
        "from keras.callbacks import EarlyStopping\n",
        "# Early Stopping\n",
        "es = EarlyStopping(monitor = 'val_loss', mode = \"min\", patience = 5, verbose = 0)\n",
        "\n",
        "# create model\n",
        "model = KerasRegressor(build_fn=create_model, epochs=100, validation_split=0.1, batch_size=16, verbose=1) # callbacks=[es]\n",
        "\n",
        "# define the grid search parameters\n",
        "LSTM_unit = [16,32,64,128]\n",
        "dropout=[0.1,0.2]\n",
        "param_grid = dict(LSTM_unit=LSTM_unit, dropout=dropout)"
      ],
      "metadata": {
        "id": "_YsizbJUIn2F"
      },
      "execution_count": null,
      "outputs": []
    },
    {
      "cell_type": "markdown",
      "source": [
        "### __4.4 Training model zona WIB__"
      ],
      "metadata": {
        "id": "JAOX1Z3ZMYRM"
      }
    },
    {
      "cell_type": "markdown",
      "source": [
        "#### __4.4.1 Membuat variabel GridSearch__"
      ],
      "metadata": {
        "id": "s0Mjtk5YLt3k"
      }
    },
    {
      "cell_type": "markdown",
      "source": [
        "Variabel GridSearchCV dibuat dengan memasukan beberapa parameter yaitu:\n",
        "- estimator: model yang ingin dilakukan gridsearch\n",
        "- param_grid: parameter yang ingin diuji\n",
        "- n_jobs: Jumlah pekerjaan untuk dijalankan secara paralel. (-1 artinya menggunakan seluruh core processor)\n",
        "- cv: banyaknya k-fold cross validation"
      ],
      "metadata": {
        "id": "xiVxVgqyIu28"
      }
    },
    {
      "cell_type": "code",
      "source": [
        "grid_wib = GridSearchCV(estimator=model, param_grid=param_grid, n_jobs=-1, cv=5)"
      ],
      "metadata": {
        "id": "p9-hFe0SLtPL"
      },
      "execution_count": null,
      "outputs": []
    },
    {
      "cell_type": "markdown",
      "source": [
        "#### __4.4.2 GridSearchCV Model__"
      ],
      "metadata": {
        "id": "W13Qg2mDM65P"
      }
    },
    {
      "cell_type": "code",
      "source": [
        "grid_result_wib = grid_wib.fit(X_train_wib, y_train_wib)"
      ],
      "metadata": {
        "colab": {
          "base_uri": "https://localhost:8080/"
        },
        "id": "4qgphefcMtjz",
        "outputId": "ea286423-aa5a-4763-e867-98cdb05f1933"
      },
      "execution_count": null,
      "outputs": [
        {
          "output_type": "stream",
          "name": "stdout",
          "text": [
            "Epoch 1/100\n",
            "35/35 [==============================] - 3s 29ms/step - loss: 0.0264 - mae: 0.1165 - val_loss: 0.0148 - val_mae: 0.1216\n",
            "Epoch 2/100\n",
            "35/35 [==============================] - 1s 14ms/step - loss: 0.0040 - mae: 0.0472 - val_loss: 0.0012 - val_mae: 0.0326\n",
            "Epoch 3/100\n",
            "35/35 [==============================] - 1s 14ms/step - loss: 0.0026 - mae: 0.0331 - val_loss: 0.0047 - val_mae: 0.0679\n",
            "Epoch 4/100\n",
            "35/35 [==============================] - 1s 14ms/step - loss: 0.0018 - mae: 0.0302 - val_loss: 0.0019 - val_mae: 0.0426\n",
            "Epoch 5/100\n",
            "35/35 [==============================] - 1s 15ms/step - loss: 0.0021 - mae: 0.0329 - val_loss: 0.0022 - val_mae: 0.0463\n",
            "Epoch 6/100\n",
            "35/35 [==============================] - 0s 14ms/step - loss: 0.0018 - mae: 0.0299 - val_loss: 0.0077 - val_mae: 0.0872\n",
            "Epoch 7/100\n",
            "35/35 [==============================] - 1s 15ms/step - loss: 0.0021 - mae: 0.0316 - val_loss: 0.0010 - val_mae: 0.0304\n",
            "Epoch 8/100\n",
            "35/35 [==============================] - 0s 14ms/step - loss: 0.0018 - mae: 0.0289 - val_loss: 0.0038 - val_mae: 0.0614\n",
            "Epoch 9/100\n",
            "35/35 [==============================] - 1s 14ms/step - loss: 0.0021 - mae: 0.0321 - val_loss: 8.3480e-04 - val_mae: 0.0269\n",
            "Epoch 10/100\n",
            "35/35 [==============================] - 1s 14ms/step - loss: 0.0019 - mae: 0.0310 - val_loss: 9.6884e-04 - val_mae: 0.0288\n",
            "Epoch 11/100\n",
            "35/35 [==============================] - 1s 14ms/step - loss: 0.0019 - mae: 0.0300 - val_loss: 0.0014 - val_mae: 0.0356\n",
            "Epoch 12/100\n",
            "35/35 [==============================] - 1s 15ms/step - loss: 0.0020 - mae: 0.0294 - val_loss: 8.5661e-04 - val_mae: 0.0274\n",
            "Epoch 13/100\n",
            "35/35 [==============================] - 1s 15ms/step - loss: 0.0014 - mae: 0.0258 - val_loss: 7.1366e-04 - val_mae: 0.0244\n",
            "Epoch 14/100\n",
            "35/35 [==============================] - 1s 15ms/step - loss: 0.0018 - mae: 0.0280 - val_loss: 0.0023 - val_mae: 0.0466\n",
            "Epoch 15/100\n",
            "35/35 [==============================] - 1s 15ms/step - loss: 0.0016 - mae: 0.0272 - val_loss: 0.0045 - val_mae: 0.0662\n",
            "Epoch 16/100\n",
            "35/35 [==============================] - 1s 15ms/step - loss: 0.0018 - mae: 0.0287 - val_loss: 1.5213e-04 - val_mae: 0.0081\n",
            "Epoch 17/100\n",
            "35/35 [==============================] - 1s 14ms/step - loss: 0.0020 - mae: 0.0304 - val_loss: 2.1538e-04 - val_mae: 0.0111\n",
            "Epoch 18/100\n",
            "35/35 [==============================] - 1s 15ms/step - loss: 0.0018 - mae: 0.0271 - val_loss: 8.7557e-04 - val_mae: 0.0278\n",
            "Epoch 19/100\n",
            "35/35 [==============================] - 1s 15ms/step - loss: 0.0013 - mae: 0.0250 - val_loss: 3.5543e-04 - val_mae: 0.0161\n",
            "Epoch 20/100\n",
            "35/35 [==============================] - 1s 15ms/step - loss: 0.0017 - mae: 0.0277 - val_loss: 5.6984e-04 - val_mae: 0.0218\n",
            "Epoch 21/100\n",
            "35/35 [==============================] - 1s 15ms/step - loss: 0.0018 - mae: 0.0275 - val_loss: 9.9172e-04 - val_mae: 0.0300\n",
            "Epoch 22/100\n",
            "35/35 [==============================] - 1s 15ms/step - loss: 0.0017 - mae: 0.0265 - val_loss: 1.2012e-04 - val_mae: 0.0074\n",
            "Epoch 23/100\n",
            "35/35 [==============================] - 1s 15ms/step - loss: 0.0013 - mae: 0.0241 - val_loss: 2.9129e-04 - val_mae: 0.0152\n",
            "Epoch 24/100\n",
            "35/35 [==============================] - 1s 15ms/step - loss: 0.0014 - mae: 0.0259 - val_loss: 3.1402e-04 - val_mae: 0.0147\n",
            "Epoch 25/100\n",
            "35/35 [==============================] - 1s 14ms/step - loss: 0.0014 - mae: 0.0247 - val_loss: 0.0017 - val_mae: 0.0397\n",
            "Epoch 26/100\n",
            "35/35 [==============================] - 1s 15ms/step - loss: 0.0014 - mae: 0.0250 - val_loss: 0.0020 - val_mae: 0.0434\n",
            "Epoch 27/100\n",
            "35/35 [==============================] - 0s 14ms/step - loss: 0.0011 - mae: 0.0241 - val_loss: 1.3851e-04 - val_mae: 0.0087\n",
            "Epoch 28/100\n",
            "35/35 [==============================] - 1s 15ms/step - loss: 0.0014 - mae: 0.0254 - val_loss: 5.5986e-04 - val_mae: 0.0214\n",
            "Epoch 29/100\n",
            "35/35 [==============================] - 0s 14ms/step - loss: 0.0013 - mae: 0.0240 - val_loss: 5.2447e-04 - val_mae: 0.0206\n",
            "Epoch 30/100\n",
            "35/35 [==============================] - 1s 15ms/step - loss: 0.0014 - mae: 0.0236 - val_loss: 1.4014e-04 - val_mae: 0.0079\n",
            "Epoch 31/100\n",
            "35/35 [==============================] - 1s 15ms/step - loss: 0.0012 - mae: 0.0230 - val_loss: 4.6845e-04 - val_mae: 0.0191\n",
            "Epoch 32/100\n",
            "35/35 [==============================] - 1s 15ms/step - loss: 0.0011 - mae: 0.0223 - val_loss: 4.0457e-04 - val_mae: 0.0177\n",
            "Epoch 33/100\n",
            "35/35 [==============================] - 1s 14ms/step - loss: 0.0015 - mae: 0.0251 - val_loss: 8.1287e-04 - val_mae: 0.0267\n",
            "Epoch 34/100\n",
            "35/35 [==============================] - 1s 14ms/step - loss: 0.0012 - mae: 0.0235 - val_loss: 0.0013 - val_mae: 0.0339\n",
            "Epoch 35/100\n",
            "35/35 [==============================] - 1s 15ms/step - loss: 0.0013 - mae: 0.0233 - val_loss: 0.0041 - val_mae: 0.0634\n",
            "Epoch 36/100\n",
            "35/35 [==============================] - 1s 15ms/step - loss: 9.8777e-04 - mae: 0.0206 - val_loss: 2.1372e-04 - val_mae: 0.0117\n",
            "Epoch 37/100\n",
            "35/35 [==============================] - 0s 14ms/step - loss: 0.0011 - mae: 0.0216 - val_loss: 3.3697e-04 - val_mae: 0.0163\n",
            "Epoch 38/100\n",
            "35/35 [==============================] - 1s 15ms/step - loss: 0.0011 - mae: 0.0222 - val_loss: 6.5581e-04 - val_mae: 0.0235\n",
            "Epoch 39/100\n",
            "35/35 [==============================] - 1s 14ms/step - loss: 0.0012 - mae: 0.0220 - val_loss: 0.0012 - val_mae: 0.0340\n",
            "Epoch 40/100\n",
            "35/35 [==============================] - 1s 15ms/step - loss: 9.0380e-04 - mae: 0.0200 - val_loss: 1.8545e-04 - val_mae: 0.0104\n",
            "Epoch 41/100\n",
            "35/35 [==============================] - 1s 15ms/step - loss: 9.8834e-04 - mae: 0.0215 - val_loss: 5.5945e-04 - val_mae: 0.0216\n",
            "Epoch 42/100\n",
            "35/35 [==============================] - 1s 15ms/step - loss: 9.8441e-04 - mae: 0.0217 - val_loss: 3.7866e-04 - val_mae: 0.0170\n",
            "Epoch 43/100\n",
            "35/35 [==============================] - 1s 15ms/step - loss: 0.0010 - mae: 0.0215 - val_loss: 3.6610e-04 - val_mae: 0.0166\n",
            "Epoch 44/100\n",
            "35/35 [==============================] - 1s 15ms/step - loss: 0.0012 - mae: 0.0228 - val_loss: 3.8280e-04 - val_mae: 0.0173\n",
            "Epoch 45/100\n",
            "35/35 [==============================] - 1s 15ms/step - loss: 9.5308e-04 - mae: 0.0206 - val_loss: 0.0011 - val_mae: 0.0312\n",
            "Epoch 46/100\n",
            "35/35 [==============================] - 1s 15ms/step - loss: 9.8071e-04 - mae: 0.0211 - val_loss: 1.3253e-04 - val_mae: 0.0080\n",
            "Epoch 47/100\n",
            "35/35 [==============================] - 1s 15ms/step - loss: 8.9308e-04 - mae: 0.0200 - val_loss: 2.9772e-04 - val_mae: 0.0144\n",
            "Epoch 48/100\n",
            "35/35 [==============================] - 1s 15ms/step - loss: 8.5409e-04 - mae: 0.0199 - val_loss: 1.5572e-04 - val_mae: 0.0089\n",
            "Epoch 49/100\n",
            "35/35 [==============================] - 1s 14ms/step - loss: 8.2798e-04 - mae: 0.0190 - val_loss: 3.2561e-04 - val_mae: 0.0158\n",
            "Epoch 50/100\n",
            "35/35 [==============================] - 1s 14ms/step - loss: 8.9371e-04 - mae: 0.0199 - val_loss: 0.0030 - val_mae: 0.0524\n",
            "Epoch 51/100\n",
            "35/35 [==============================] - 1s 15ms/step - loss: 0.0010 - mae: 0.0217 - val_loss: 1.5376e-04 - val_mae: 0.0098\n",
            "Epoch 52/100\n",
            "35/35 [==============================] - 1s 15ms/step - loss: 0.0010 - mae: 0.0210 - val_loss: 1.9593e-04 - val_mae: 0.0116\n",
            "Epoch 53/100\n",
            "35/35 [==============================] - 1s 15ms/step - loss: 9.2070e-04 - mae: 0.0214 - val_loss: 8.2394e-04 - val_mae: 0.0274\n",
            "Epoch 54/100\n",
            "35/35 [==============================] - 1s 14ms/step - loss: 7.2468e-04 - mae: 0.0193 - val_loss: 6.4749e-04 - val_mae: 0.0236\n",
            "Epoch 55/100\n",
            "35/35 [==============================] - 1s 15ms/step - loss: 0.0011 - mae: 0.0217 - val_loss: 2.4955e-04 - val_mae: 0.0126\n",
            "Epoch 56/100\n",
            "35/35 [==============================] - 1s 15ms/step - loss: 0.0010 - mae: 0.0206 - val_loss: 1.1959e-04 - val_mae: 0.0076\n",
            "Epoch 57/100\n",
            "35/35 [==============================] - 1s 15ms/step - loss: 8.4988e-04 - mae: 0.0194 - val_loss: 1.2302e-04 - val_mae: 0.0080\n",
            "Epoch 58/100\n",
            "35/35 [==============================] - 1s 14ms/step - loss: 8.9845e-04 - mae: 0.0208 - val_loss: 8.2679e-04 - val_mae: 0.0267\n",
            "Epoch 59/100\n",
            "35/35 [==============================] - 1s 14ms/step - loss: 7.4462e-04 - mae: 0.0197 - val_loss: 0.0012 - val_mae: 0.0335\n",
            "Epoch 60/100\n",
            "35/35 [==============================] - 1s 15ms/step - loss: 8.9661e-04 - mae: 0.0210 - val_loss: 2.6795e-04 - val_mae: 0.0145\n",
            "Epoch 61/100\n",
            "35/35 [==============================] - 1s 15ms/step - loss: 7.6717e-04 - mae: 0.0187 - val_loss: 4.7199e-04 - val_mae: 0.0197\n",
            "Epoch 62/100\n",
            "35/35 [==============================] - 1s 15ms/step - loss: 6.9522e-04 - mae: 0.0185 - val_loss: 0.0013 - val_mae: 0.0352\n",
            "Epoch 63/100\n",
            "35/35 [==============================] - 1s 15ms/step - loss: 9.3833e-04 - mae: 0.0199 - val_loss: 2.2110e-04 - val_mae: 0.0124\n",
            "Epoch 64/100\n",
            "35/35 [==============================] - 1s 16ms/step - loss: 8.5952e-04 - mae: 0.0202 - val_loss: 0.0012 - val_mae: 0.0331\n",
            "Epoch 65/100\n",
            "35/35 [==============================] - 1s 15ms/step - loss: 8.6457e-04 - mae: 0.0201 - val_loss: 2.8209e-04 - val_mae: 0.0149\n",
            "Epoch 66/100\n",
            "35/35 [==============================] - 1s 15ms/step - loss: 9.3333e-04 - mae: 0.0201 - val_loss: 2.2764e-04 - val_mae: 0.0132\n",
            "Epoch 67/100\n",
            "35/35 [==============================] - 1s 14ms/step - loss: 9.1024e-04 - mae: 0.0201 - val_loss: 0.0013 - val_mae: 0.0342\n",
            "Epoch 68/100\n",
            "35/35 [==============================] - 1s 15ms/step - loss: 9.3435e-04 - mae: 0.0213 - val_loss: 6.4699e-04 - val_mae: 0.0234\n",
            "Epoch 69/100\n",
            "35/35 [==============================] - 1s 15ms/step - loss: 8.7899e-04 - mae: 0.0205 - val_loss: 7.2354e-04 - val_mae: 0.0249\n",
            "Epoch 70/100\n",
            "35/35 [==============================] - 1s 15ms/step - loss: 0.0010 - mae: 0.0228 - val_loss: 1.0085e-04 - val_mae: 0.0072\n",
            "Epoch 71/100\n",
            "35/35 [==============================] - 1s 15ms/step - loss: 7.5680e-04 - mae: 0.0201 - val_loss: 5.4324e-04 - val_mae: 0.0218\n",
            "Epoch 72/100\n",
            "35/35 [==============================] - 1s 15ms/step - loss: 7.2783e-04 - mae: 0.0187 - val_loss: 1.0575e-04 - val_mae: 0.0074\n",
            "Epoch 73/100\n",
            "35/35 [==============================] - 1s 15ms/step - loss: 7.9278e-04 - mae: 0.0197 - val_loss: 9.2363e-05 - val_mae: 0.0068\n",
            "Epoch 74/100\n",
            "35/35 [==============================] - 1s 15ms/step - loss: 8.3398e-04 - mae: 0.0193 - val_loss: 2.3699e-04 - val_mae: 0.0133\n",
            "Epoch 75/100\n",
            "35/35 [==============================] - 1s 15ms/step - loss: 8.2021e-04 - mae: 0.0195 - val_loss: 0.0010 - val_mae: 0.0310\n",
            "Epoch 76/100\n",
            "35/35 [==============================] - 1s 15ms/step - loss: 7.3727e-04 - mae: 0.0185 - val_loss: 2.5123e-04 - val_mae: 0.0139\n",
            "Epoch 77/100\n",
            "35/35 [==============================] - 1s 15ms/step - loss: 7.3153e-04 - mae: 0.0190 - val_loss: 2.9969e-04 - val_mae: 0.0153\n",
            "Epoch 78/100\n",
            "35/35 [==============================] - 1s 15ms/step - loss: 8.1581e-04 - mae: 0.0199 - val_loss: 2.3273e-04 - val_mae: 0.0129\n",
            "Epoch 79/100\n",
            "35/35 [==============================] - 1s 15ms/step - loss: 7.5565e-04 - mae: 0.0193 - val_loss: 3.9143e-04 - val_mae: 0.0178\n",
            "Epoch 80/100\n",
            "35/35 [==============================] - 1s 14ms/step - loss: 6.3512e-04 - mae: 0.0175 - val_loss: 4.2992e-04 - val_mae: 0.0189\n",
            "Epoch 81/100\n",
            "35/35 [==============================] - 1s 15ms/step - loss: 8.3642e-04 - mae: 0.0192 - val_loss: 2.8139e-04 - val_mae: 0.0146\n",
            "Epoch 82/100\n",
            "35/35 [==============================] - 1s 15ms/step - loss: 7.0774e-04 - mae: 0.0191 - val_loss: 1.0594e-04 - val_mae: 0.0076\n",
            "Epoch 83/100\n",
            "35/35 [==============================] - 1s 16ms/step - loss: 7.1896e-04 - mae: 0.0189 - val_loss: 1.2674e-04 - val_mae: 0.0085\n",
            "Epoch 84/100\n",
            "35/35 [==============================] - 1s 14ms/step - loss: 9.0931e-04 - mae: 0.0207 - val_loss: 0.0012 - val_mae: 0.0344\n",
            "Epoch 85/100\n",
            "35/35 [==============================] - 1s 16ms/step - loss: 5.9916e-04 - mae: 0.0174 - val_loss: 1.3061e-04 - val_mae: 0.0087\n",
            "Epoch 86/100\n",
            "35/35 [==============================] - 1s 15ms/step - loss: 7.4367e-04 - mae: 0.0182 - val_loss: 8.2954e-04 - val_mae: 0.0268\n",
            "Epoch 87/100\n",
            "35/35 [==============================] - 1s 15ms/step - loss: 6.2532e-04 - mae: 0.0172 - val_loss: 9.6588e-05 - val_mae: 0.0072\n",
            "Epoch 88/100\n",
            "35/35 [==============================] - 1s 15ms/step - loss: 5.6237e-04 - mae: 0.0164 - val_loss: 9.6958e-05 - val_mae: 0.0072\n",
            "Epoch 89/100\n",
            "35/35 [==============================] - 1s 16ms/step - loss: 7.0620e-04 - mae: 0.0182 - val_loss: 7.6469e-05 - val_mae: 0.0063\n",
            "Epoch 90/100\n",
            "35/35 [==============================] - 1s 15ms/step - loss: 6.4948e-04 - mae: 0.0181 - val_loss: 9.4984e-04 - val_mae: 0.0299\n",
            "Epoch 91/100\n",
            "35/35 [==============================] - 1s 15ms/step - loss: 5.6449e-04 - mae: 0.0173 - val_loss: 8.6631e-04 - val_mae: 0.0285\n",
            "Epoch 92/100\n",
            "35/35 [==============================] - 1s 14ms/step - loss: 9.0024e-04 - mae: 0.0201 - val_loss: 9.6582e-05 - val_mae: 0.0073\n",
            "Epoch 93/100\n",
            "35/35 [==============================] - 1s 14ms/step - loss: 5.9104e-04 - mae: 0.0173 - val_loss: 2.0536e-04 - val_mae: 0.0124\n",
            "Epoch 94/100\n",
            "35/35 [==============================] - 1s 14ms/step - loss: 7.3415e-04 - mae: 0.0188 - val_loss: 1.9787e-04 - val_mae: 0.0121\n",
            "Epoch 95/100\n",
            "35/35 [==============================] - 1s 14ms/step - loss: 6.4696e-04 - mae: 0.0176 - val_loss: 7.7268e-05 - val_mae: 0.0065\n",
            "Epoch 96/100\n",
            "35/35 [==============================] - 1s 15ms/step - loss: 7.8160e-04 - mae: 0.0198 - val_loss: 1.9553e-04 - val_mae: 0.0122\n",
            "Epoch 97/100\n",
            "35/35 [==============================] - 1s 15ms/step - loss: 6.2918e-04 - mae: 0.0174 - val_loss: 7.7240e-05 - val_mae: 0.0064\n",
            "Epoch 98/100\n",
            "35/35 [==============================] - 1s 15ms/step - loss: 7.0067e-04 - mae: 0.0190 - val_loss: 3.8649e-04 - val_mae: 0.0180\n",
            "Epoch 99/100\n",
            "35/35 [==============================] - 0s 14ms/step - loss: 8.1935e-04 - mae: 0.0203 - val_loss: 4.0740e-04 - val_mae: 0.0185\n",
            "Epoch 100/100\n",
            "35/35 [==============================] - 1s 15ms/step - loss: 6.1889e-04 - mae: 0.0182 - val_loss: 8.1226e-05 - val_mae: 0.0066\n"
          ]
        }
      ]
    },
    {
      "cell_type": "markdown",
      "source": [
        "#### __4.4.3 Hasil Parameter Terbaik__"
      ],
      "metadata": {
        "id": "164X8EJEPSNo"
      }
    },
    {
      "cell_type": "code",
      "source": [
        "# summarize results\n",
        "print(\"Best: %f using %s\" % (grid_result_wib.best_score_, grid_result_wib.best_params_))\n",
        "means_wib = grid_result_wib.cv_results_['mean_test_score']\n",
        "stds_wib = grid_result_wib.cv_results_['std_test_score']\n",
        "params_wib = grid_result_wib.cv_results_['params']\n",
        "for mean, stdev, param in zip(means_wib, stds_wib, params_wib):\n",
        "    print(\"%f (%f) with: %r\" % (mean, stdev, param))\n",
        "    \n",
        "# Mengambil model terbaik\n",
        "best_model_wib = grid_result_wib.best_estimator_.model"
      ],
      "metadata": {
        "colab": {
          "base_uri": "https://localhost:8080/"
        },
        "id": "5aWawC2lPWKq",
        "outputId": "4af7badc-eb15-4ffd-8db5-e0fdf5c2a557"
      },
      "execution_count": null,
      "outputs": [
        {
          "output_type": "stream",
          "name": "stdout",
          "text": [
            "Best: -0.000090 using {'LSTM_unit': 64, 'dropout': 0.1}\n",
            "-0.000575 (0.000857) with: {'LSTM_unit': 16, 'dropout': 0.1}\n",
            "-0.000233 (0.000101) with: {'LSTM_unit': 16, 'dropout': 0.2}\n",
            "-0.000213 (0.000139) with: {'LSTM_unit': 32, 'dropout': 0.1}\n",
            "-0.000675 (0.000829) with: {'LSTM_unit': 32, 'dropout': 0.2}\n",
            "-0.000090 (0.000038) with: {'LSTM_unit': 64, 'dropout': 0.1}\n",
            "-0.000161 (0.000081) with: {'LSTM_unit': 64, 'dropout': 0.2}\n",
            "-0.000423 (0.000333) with: {'LSTM_unit': 128, 'dropout': 0.1}\n",
            "-0.000217 (0.000167) with: {'LSTM_unit': 128, 'dropout': 0.2}\n"
          ]
        }
      ]
    },
    {
      "cell_type": "code",
      "source": [
        "from tensorflow.keras.models import load_model\n",
        "best_model_wib.save('my_model_wib')"
      ],
      "metadata": {
        "id": "hwQPTj9H9ygK",
        "colab": {
          "base_uri": "https://localhost:8080/",
          "height": 190
        },
        "outputId": "09a4c416-da48-44ab-e283-1aaff7b5d052"
      },
      "execution_count": null,
      "outputs": [
        {
          "output_type": "error",
          "ename": "NameError",
          "evalue": "ignored",
          "traceback": [
            "\u001b[0;31m---------------------------------------------------------------------------\u001b[0m",
            "\u001b[0;31mNameError\u001b[0m                                 Traceback (most recent call last)",
            "\u001b[0;32m<ipython-input-24-f732a95ffb58>\u001b[0m in \u001b[0;36m<module>\u001b[0;34m()\u001b[0m\n\u001b[1;32m      1\u001b[0m \u001b[0;32mfrom\u001b[0m \u001b[0mtensorflow\u001b[0m\u001b[0;34m.\u001b[0m\u001b[0mkeras\u001b[0m\u001b[0;34m.\u001b[0m\u001b[0mmodels\u001b[0m \u001b[0;32mimport\u001b[0m \u001b[0mload_model\u001b[0m\u001b[0;34m\u001b[0m\u001b[0;34m\u001b[0m\u001b[0m\n\u001b[0;32m----> 2\u001b[0;31m \u001b[0mbest_model_wib\u001b[0m\u001b[0;34m.\u001b[0m\u001b[0msave\u001b[0m\u001b[0;34m(\u001b[0m\u001b[0;34m'my_model_wit'\u001b[0m\u001b[0;34m)\u001b[0m\u001b[0;34m\u001b[0m\u001b[0;34m\u001b[0m\u001b[0m\n\u001b[0m",
            "\u001b[0;31mNameError\u001b[0m: name 'best_model_wib' is not defined"
          ]
        }
      ]
    },
    {
      "cell_type": "code",
      "source": [
        "import shutil\n",
        "\n",
        "shutil.make_archive('my_modelku_wib', 'zip', root_dir='/content/my_model_wib')\n",
        "\n"
      ],
      "metadata": {
        "colab": {
          "base_uri": "https://localhost:8080/",
          "height": 35
        },
        "id": "PhP-xLw5y62k",
        "outputId": "b27d11c4-91ef-435b-d9a3-183c6731dc6b"
      },
      "execution_count": null,
      "outputs": [
        {
          "output_type": "execute_result",
          "data": {
            "text/plain": [
              "'/content/my_modelku_wib.zip'"
            ],
            "application/vnd.google.colaboratory.intrinsic+json": {
              "type": "string"
            }
          },
          "metadata": {},
          "execution_count": 38
        }
      ]
    },
    {
      "cell_type": "code",
      "source": [
        "from tensorflow.keras.models import load_model"
      ],
      "metadata": {
        "id": "Qn3sYu_P4LsD"
      },
      "execution_count": null,
      "outputs": []
    },
    {
      "cell_type": "code",
      "source": [
        "import shutil\n",
        "\n",
        "shutil.unpack_archive('my_modelku_wita.zip', '/content/my_modelku_wita' , 'zip')"
      ],
      "metadata": {
        "id": "Wqh05whW4yUO"
      },
      "execution_count": null,
      "outputs": []
    },
    {
      "cell_type": "code",
      "source": [
        "best_model_wita = load_model('my_modelku_wita')"
      ],
      "metadata": {
        "id": "NsPI0mj24Q5t"
      },
      "execution_count": null,
      "outputs": []
    },
    {
      "cell_type": "code",
      "source": [
        "history_wib= best_model_wib.history\n",
        "# grafik loss function MSE\n",
        "\n",
        "plt.plot(history_wib.history['loss'], label='Training loss')\n",
        "plt.plot(history_wib.history['val_loss'], label='Validation loss')\n",
        "plt.title('loss function MSE')\n",
        "plt.ylabel('MSE')\n",
        "plt.xlabel('Epoch')\n",
        "plt.legend()"
      ],
      "metadata": {
        "colab": {
          "base_uri": "https://localhost:8080/",
          "height": 318
        },
        "id": "0PLwP5TbP6Tj",
        "outputId": "74e02b93-00c6-4418-c8ce-0a5019c47ffc"
      },
      "execution_count": null,
      "outputs": [
        {
          "output_type": "execute_result",
          "data": {
            "text/plain": [
              "<matplotlib.legend.Legend at 0x7f28c28bec10>"
            ]
          },
          "metadata": {},
          "execution_count": 39
        },
        {
          "output_type": "display_data",
          "data": {
            "text/plain": [
              "<Figure size 432x288 with 1 Axes>"
            ],
            "image/png": "[encoded data removed]"
          },
          "metadata": {
            "needs_background": "light"
          }
        }
      ]
    },
    {
      "cell_type": "code",
      "source": [
        "# grafik metric MAE\n",
        "\n",
        "plt.plot(history_wib.history['mae'], label='Training MAE')\n",
        "plt.plot(history_wib.history['val_mae'], label='Validation MAE')\n",
        "plt.title('metric MAE')\n",
        "plt.ylabel('MAE')\n",
        "plt.xlabel('Epoch')\n",
        "plt.legend()"
      ],
      "metadata": {
        "colab": {
          "base_uri": "https://localhost:8080/",
          "height": 318
        },
        "id": "a0IDnY-1Rs8k",
        "outputId": "aa204cf3-43a4-45a4-c5f8-bd00a4843e4c"
      },
      "execution_count": null,
      "outputs": [
        {
          "output_type": "execute_result",
          "data": {
            "text/plain": [
              "<matplotlib.legend.Legend at 0x7f28c2667ad0>"
            ]
          },
          "metadata": {},
          "execution_count": 40
        },
        {
          "output_type": "display_data",
          "data": {
            "text/plain": [
              "<Figure size 432x288 with 1 Axes>"
            ],
            "image/png": "[encoded data removed]"
          },
          "metadata": {
            "needs_background": "light"
          }
        }
      ]
    },
    {
      "cell_type": "markdown",
      "source": [
        "#### __4.4.4 Evaluasi Model__"
      ],
      "metadata": {
        "id": "8KXpwuRsSWgp"
      }
    },
    {
      "cell_type": "code",
      "source": [
        "# Prediksi data train\n",
        "predict_train_wib = scaler_wib.inverse_transform(best_model_wib.predict(X_train_wib))\n",
        "true_train_wib = scaler_wib.inverse_transform(y_train_wib)\n",
        "\n",
        "# Prediksi data test\n",
        "predict_test_wib = scaler_wib.inverse_transform(best_model_wib.predict(X_test_wib))\n",
        "true_test_wib = scaler_wib.inverse_transform(y_test_wib)"
      ],
      "metadata": {
        "id": "LTWAqUceR305"
      },
      "execution_count": null,
      "outputs": []
    },
    {
      "cell_type": "markdown",
      "source": [
        "Plot prediksi data train"
      ],
      "metadata": {
        "id": "Y_4aa33NTab9"
      }
    },
    {
      "cell_type": "code",
      "source": [
        "train_wib['predict'] = np.nan\n",
        "train_wib['predict'][-len(predict_train_wib):] = predict_train_wib[:,0]\n",
        "test_wib['predict'] = np.nan\n",
        "test_wib['predict'][-len(predict_test_wib):] = predict_test_wib[:,0]\n",
        "\n",
        "y_test_wib = scaler_wib.transform(test_wib[['mean_wib']])\n",
        "n_future_wib = 12*30\n",
        "future_wib = [[y_test_wib[-1,0]]]\n",
        "X_new_wib = y_test_wib[-window_size:,0].tolist()\n",
        "\n",
        "for i in range(n_future_wib):\n",
        "    y_future_wib = best_model_wib.predict(np.array([X_new_wib]).reshape(1,window_size,1))\n",
        "    future_wib.append([y_future_wib[0,0]])\n",
        "    X_new_wib = X_new_wib[1:]\n",
        "    X_new_wib.append(y_future_wib[0,0])\n",
        "\n",
        "future_wib = scaler_wib.inverse_transform(np.array(future_wib))\n",
        "date_future_wib = pd.date_range(start=test_wib['Tanggal'].values[-1], periods=n_future_wib+1, freq='D')\n",
        "\n",
        "plt.figure(figsize=(15,8))\n",
        "plt.title('DATA PREDIKSI TRAIN dan TEST ZONA WAKTU WIB')\n",
        "sns.lineplot(data=train_wib, x='Tanggal', y='mean_wib', label = 'train')\n",
        "sns.lineplot(data=train_wib, x='Tanggal', y='predict', label = 'predict train')\n",
        "sns.lineplot(data=test_wib, x='Tanggal', y='mean_wib', label = 'test')\n",
        "sns.lineplot(data=test_wib, x='Tanggal', y='predict', label = 'predict test')\n",
        "sns.lineplot(x=date_future_wib, y=future_wib[:,0], label = 'future')"
      ],
      "metadata": {
        "colab": {
          "base_uri": "https://localhost:8080/",
          "height": 536
        },
        "id": "42lwOGQhSplm",
        "outputId": "3f9da876-2aa5-4de0-b8de-fb48c9bb58b6"
      },
      "execution_count": null,
      "outputs": [
        {
          "output_type": "execute_result",
          "data": {
            "text/plain": [
              "<matplotlib.axes._subplots.AxesSubplot at 0x7f7e64bd2510>"
            ]
          },
          "metadata": {},
          "execution_count": 63
        },
        {
          "output_type": "display_data",
          "data": {
            "text/plain": [
              "<Figure size 1080x576 with 1 Axes>"
            ],
            "image/png": "[encoded data removed]"
          },
          "metadata": {
            "needs_background": "light"
          }
        }
      ]
    },
    {
      "cell_type": "markdown",
      "source": [
        "Plot Prediksi data test"
      ],
      "metadata": {
        "id": "rRxUgsSpTgI_"
      }
    },
    {
      "cell_type": "code",
      "source": [
        "test_wib"
      ],
      "metadata": {
        "colab": {
          "base_uri": "https://localhost:8080/",
          "height": 423
        },
        "id": "NCe1-XJ27fmo",
        "outputId": "898c2b98-c275-47d2-8fcc-60a8917048c6"
      },
      "execution_count": null,
      "outputs": [
        {
          "output_type": "execute_result",
          "data": {
            "text/plain": [
              "       Tanggal  mean_wib       predict\n",
              "0   2021-10-04   15936.0           NaN\n",
              "1   2021-10-05   15950.0           NaN\n",
              "2   2021-10-06   15967.0           NaN\n",
              "3   2021-10-07   16042.0           NaN\n",
              "4   2021-10-08   16114.0           NaN\n",
              "..         ...       ...           ...\n",
              "210 2022-05-02   22594.0  22618.898438\n",
              "211 2022-05-03   22594.0  22617.996094\n",
              "212 2022-05-04   22594.0  22616.988281\n",
              "213 2022-05-05   22594.0  22616.003906\n",
              "214 2022-05-06   22594.0  22615.130859\n",
              "\n",
              "[215 rows x 3 columns]"
            ],
            "text/html": [
              "\n",
              "  <div id=\"df-60910bf3-e36c-4d1f-a213-70a34869b0ba\">\n",
              "    <div class=\"colab-df-container\">\n",
              "      <div>\n",
              "<style scoped>\n",
              "    .dataframe tbody tr th:only-of-type {\n",
              "        vertical-align: middle;\n",
              "    }\n",
              "\n",
              "    .dataframe tbody tr th {\n",
              "        vertical-align: top;\n",
              "    }\n",
              "\n",
              "    .dataframe thead th {\n",
              "        text-align: right;\n",
              "    }\n",
              "</style>\n",
              "<table border=\"1\" class=\"dataframe\">\n",
              "  <thead>\n",
              "    <tr style=\"text-align: right;\">\n",
              "      <th></th>\n",
              "      <th>Tanggal</th>\n",
              "      <th>mean_wib</th>\n",
              "      <th>predict</th>\n",
              "    </tr>\n",
              "  </thead>\n",
              "  <tbody>\n",
              "    <tr>\n",
              "      <th>0</th>\n",
              "      <td>2021-10-04</td>\n",
              "      <td>15936.0</td>\n",
              "      <td>NaN</td>\n",
              "    </tr>\n",
              "    <tr>\n",
              "      <th>1</th>\n",
              "      <td>2021-10-05</td>\n",
              "      <td>15950.0</td>\n",
              "      <td>NaN</td>\n",
              "    </tr>\n",
              "    <tr>\n",
              "      <th>2</th>\n",
              "      <td>2021-10-06</td>\n",
              "      <td>15967.0</td>\n",
              "      <td>NaN</td>\n",
              "    </tr>\n",
              "    <tr>\n",
              "      <th>3</th>\n",
              "      <td>2021-10-07</td>\n",
              "      <td>16042.0</td>\n",
              "      <td>NaN</td>\n",
              "    </tr>\n",
              "    <tr>\n",
              "      <th>4</th>\n",
              "      <td>2021-10-08</td>\n",
              "      <td>16114.0</td>\n",
              "      <td>NaN</td>\n",
              "    </tr>\n",
              "    <tr>\n",
              "      <th>...</th>\n",
              "      <td>...</td>\n",
              "      <td>...</td>\n",
              "      <td>...</td>\n",
              "    </tr>\n",
              "    <tr>\n",
              "      <th>210</th>\n",
              "      <td>2022-05-02</td>\n",
              "      <td>22594.0</td>\n",
              "      <td>22618.898438</td>\n",
              "    </tr>\n",
              "    <tr>\n",
              "      <th>211</th>\n",
              "      <td>2022-05-03</td>\n",
              "      <td>22594.0</td>\n",
              "      <td>22617.996094</td>\n",
              "    </tr>\n",
              "    <tr>\n",
              "      <th>212</th>\n",
              "      <td>2022-05-04</td>\n",
              "      <td>22594.0</td>\n",
              "      <td>22616.988281</td>\n",
              "    </tr>\n",
              "    <tr>\n",
              "      <th>213</th>\n",
              "      <td>2022-05-05</td>\n",
              "      <td>22594.0</td>\n",
              "      <td>22616.003906</td>\n",
              "    </tr>\n",
              "    <tr>\n",
              "      <th>214</th>\n",
              "      <td>2022-05-06</td>\n",
              "      <td>22594.0</td>\n",
              "      <td>22615.130859</td>\n",
              "    </tr>\n",
              "  </tbody>\n",
              "</table>\n",
              "<p>215 rows × 3 columns</p>\n",
              "</div>\n",
              "      <button class=\"colab-df-convert\" onclick=\"convertToInteractive('df-60910bf3-e36c-4d1f-a213-70a34869b0ba')\"\n",
              "              title=\"Convert this dataframe to an interactive table.\"\n",
              "              style=\"display:none;\">\n",
              "        \n",
              "  <svg xmlns=\"http://www.w3.org/2000/svg\" height=\"24px\"viewBox=\"0 0 24 24\"\n",
              "       width=\"24px\">\n",
              "    <path d=\"M0 0h24v24H0V0z\" fill=\"none\"/>\n",
              "    <path d=\"M18.56 5.44l.94 2.06.94-2.06 2.06-.94-2.06-.94-.94-2.06-.94 2.06-2.06.94zm-11 1L8.5 8.5l.94-2.06 2.06-.94-2.06-.94L8.5 2.5l-.94 2.06-2.06.94zm10 10l.94 2.06.94-2.06 2.06-.94-2.06-.94-.94-2.06-.94 2.06-2.06.94z\"/><path d=\"M17.41 7.96l-1.37-1.37c-.4-.4-.92-.59-1.43-.59-.52 0-1.04.2-1.43.59L10.3 9.45l-7.72 7.72c-.78.78-.78 2.05 0 2.83L4 21.41c.39.39.9.59 1.41.59.51 0 1.02-.2 1.41-.59l7.78-7.78 2.81-2.81c.8-.78.8-2.07 0-2.86zM5.41 20L4 18.59l7.72-7.72 1.47 1.35L5.41 20z\"/>\n",
              "  </svg>\n",
              "      </button>\n",
              "      \n",
              "  <style>\n",
              "    .colab-df-container {\n",
              "      display:flex;\n",
              "      flex-wrap:wrap;\n",
              "      gap: 12px;\n",
              "    }\n",
              "\n",
              "    .colab-df-convert {\n",
              "      background-color: #E8F0FE;\n",
              "      border: none;\n",
              "      border-radius: 50%;\n",
              "      cursor: pointer;\n",
              "      display: none;\n",
              "      fill: #1967D2;\n",
              "      height: 32px;\n",
              "      padding: 0 0 0 0;\n",
              "      width: 32px;\n",
              "    }\n",
              "\n",
              "    .colab-df-convert:hover {\n",
              "      background-color: #E2EBFA;\n",
              "      box-shadow: 0px 1px 2px rgba(60, 64, 67, 0.3), 0px 1px 3px 1px rgba(60, 64, 67, 0.15);\n",
              "      fill: #174EA6;\n",
              "    }\n",
              "\n",
              "    [theme=dark] .colab-df-convert {\n",
              "      background-color: #3B4455;\n",
              "      fill: #D2E3FC;\n",
              "    }\n",
              "\n",
              "    [theme=dark] .colab-df-convert:hover {\n",
              "      background-color: #434B5C;\n",
              "      box-shadow: 0px 1px 3px 1px rgba(0, 0, 0, 0.15);\n",
              "      filter: drop-shadow(0px 1px 2px rgba(0, 0, 0, 0.3));\n",
              "      fill: #FFFFFF;\n",
              "    }\n",
              "  </style>\n",
              "\n",
              "      <script>\n",
              "        const buttonEl =\n",
              "          document.querySelector('#df-60910bf3-e36c-4d1f-a213-70a34869b0ba button.colab-df-convert');\n",
              "        buttonEl.style.display =\n",
              "          google.colab.kernel.accessAllowed ? 'block' : 'none';\n",
              "\n",
              "        async function convertToInteractive(key) {\n",
              "          const element = document.querySelector('#df-60910bf3-e36c-4d1f-a213-70a34869b0ba');\n",
              "          const dataTable =\n",
              "            await google.colab.kernel.invokeFunction('convertToInteractive',\n",
              "                                                     [key], {});\n",
              "          if (!dataTable) return;\n",
              "\n",
              "          const docLinkHtml = 'Like what you see? Visit the ' +\n",
              "            '<a target=\"_blank\" href=https://colab.research.google.com/notebooks/data_table.ipynb>data table notebook</a>'\n",
              "            + ' to learn more about interactive tables.';\n",
              "          element.innerHTML = '';\n",
              "          dataTable['output_type'] = 'display_data';\n",
              "          await google.colab.output.renderOutput(dataTable, element);\n",
              "          const docLink = document.createElement('div');\n",
              "          docLink.innerHTML = docLinkHtml;\n",
              "          element.appendChild(docLink);\n",
              "        }\n",
              "      </script>\n",
              "    </div>\n",
              "  </div>\n",
              "  "
            ]
          },
          "metadata": {},
          "execution_count": 53
        }
      ]
    },
    {
      "cell_type": "code",
      "source": [
        "test_wib['predict'] = np.nan\n",
        "test_wib['predict'][-len(predict_test_wib):] = predict_test_wib[:,0]\n",
        "\n",
        "plt.figure(figsize=(15,8))\n",
        "sns.lineplot(data=test_wib, x='Tanggal', y='mean_wib', label = 'test')\n",
        "sns.lineplot(data=test_wib, x='Tanggal', y='predict', label = 'predict')"
      ],
      "metadata": {
        "colab": {
          "base_uri": "https://localhost:8080/",
          "height": 520
        },
        "id": "XwHOJt15TDX5",
        "outputId": "ef5bf0e9-1eb4-46db-9493-a9d6f8044d41"
      },
      "execution_count": null,
      "outputs": [
        {
          "output_type": "execute_result",
          "data": {
            "text/plain": [
              "<matplotlib.axes._subplots.AxesSubplot at 0x7f7e675ad1d0>"
            ]
          },
          "metadata": {},
          "execution_count": 55
        },
        {
          "output_type": "display_data",
          "data": {
            "text/plain": [
              "<Figure size 1080x576 with 1 Axes>"
            ],
            "image/png": "[encoded data removed]"
          },
          "metadata": {
            "needs_background": "light"
          }
        }
      ]
    },
    {
      "cell_type": "markdown",
      "source": [
        "Plot prediksi data sebulan"
      ],
      "metadata": {
        "id": "xx-NSE--iu3m"
      }
    },
    {
      "cell_type": "code",
      "source": [
        "plt.figure(figsize=(15,8))\n",
        "sns.lineplot(data=test_wib[-1*30:], x='Tanggal', y='mean_wib', label = 'test')\n",
        "sns.lineplot(data=test_wib[-1*30:], x='Tanggal', y='predict', label = 'predict')"
      ],
      "metadata": {
        "colab": {
          "base_uri": "https://localhost:8080/",
          "height": 519
        },
        "id": "-p8HTV7TTyLs",
        "outputId": "1418958e-7972-4b93-ac91-70e7e1e1d012"
      },
      "execution_count": null,
      "outputs": [
        {
          "output_type": "execute_result",
          "data": {
            "text/plain": [
              "<matplotlib.axes._subplots.AxesSubplot at 0x7f28be4758d0>"
            ]
          },
          "metadata": {},
          "execution_count": 44
        },
        {
          "output_type": "display_data",
          "data": {
            "text/plain": [
              "<Figure size 1080x576 with 1 Axes>"
            ],
            "image/png": "[encoded data removed]"
          },
          "metadata": {
            "needs_background": "light"
          }
        }
      ]
    },
    {
      "cell_type": "markdown",
      "source": [
        "#### __4.4.5 Forecasting__"
      ],
      "metadata": {
        "id": "vMjvW8GpG4ji"
      }
    },
    {
      "cell_type": "code",
      "source": [
        "# forecasting data selanjutnya\n",
        "y_test_wib = scaler_wib.transform(test_wib[['mean_wib']])\n",
        "n_future_wib = 12*30\n",
        "future_wib = [[y_test_wib[-1,0]]]\n",
        "X_new_wib = y_test_wib[-window_size:,0].tolist()\n",
        "\n",
        "for i in range(n_future_wib):\n",
        "    y_future_wib = best_model_wib.predict(np.array([X_new_wib]).reshape(1,window_size,1))\n",
        "    future_wib.append([y_future_wib[0,0]])\n",
        "    X_new_wib = X_new_wib[1:]\n",
        "    X_new_wib.append(y_future_wib[0,0])\n",
        "\n",
        "future_wib = scaler_wib.inverse_transform(np.array(future_wib))\n",
        "date_future_wib = pd.date_range(start=test_wib['Tanggal'].values[-1], periods=n_future_wib+1, freq='D')\n",
        "\n",
        "# Plot Data dua bulan terakhir dan dua bulan selanjutnya\n",
        "plt.figure(figsize=(15,8))\n",
        "sns.lineplot(data=test_wib[-1*30:], x='Tanggal', y='mean_wib', label = 'test') #[-1*30:] [-24*30:]\n",
        "sns.lineplot(data=test_wib[-1*30:], x='Tanggal', y='predict', label = 'predict') #[-1*30:] [-24*30:]\n",
        "sns.lineplot(x=date_future_wib, y=future_wib[:,0], label = 'future')\n",
        "plt.ylabel('mean_wib')\n"
      ],
      "metadata": {
        "id": "UaA9NsZweLQJ",
        "colab": {
          "base_uri": "https://localhost:8080/",
          "height": 519
        },
        "outputId": "b4e95413-310d-49b2-a834-6f1f98fa74a7"
      },
      "execution_count": null,
      "outputs": [
        {
          "output_type": "execute_result",
          "data": {
            "text/plain": [
              "Text(0, 0.5, 'mean_wib')"
            ]
          },
          "metadata": {},
          "execution_count": 45
        },
        {
          "output_type": "display_data",
          "data": {
            "text/plain": [
              "<Figure size 1080x576 with 1 Axes>"
            ],
            "image/png": "[encoded data removed]"
          },
          "metadata": {
            "needs_background": "light"
          }
        }
      ]
    },
    {
      "cell_type": "markdown",
      "source": [
        "### __4.5 Training model zona WITA__"
      ],
      "metadata": {
        "id": "-ixU9B3Xp-Iz"
      }
    },
    {
      "cell_type": "markdown",
      "source": [
        "#### __4.5.1 Membuat Variabel GridSearchCV__\n",
        "\n"
      ],
      "metadata": {
        "id": "j-0t9pcVrdXd"
      }
    },
    {
      "cell_type": "code",
      "source": [
        "grid_wita = GridSearchCV(estimator=model, param_grid=param_grid, n_jobs=-1, cv=5)"
      ],
      "metadata": {
        "id": "JOZ1BI5AqH2o"
      },
      "execution_count": null,
      "outputs": []
    },
    {
      "cell_type": "markdown",
      "source": [
        "#### __4.5.2 GridSearchCV Model__"
      ],
      "metadata": {
        "id": "1zkakEBDsH4l"
      }
    },
    {
      "cell_type": "code",
      "source": [
        "grid_result_wita = grid_wita.fit(X_train_wita, y_train_wita)"
      ],
      "metadata": {
        "colab": {
          "base_uri": "https://localhost:8080/"
        },
        "id": "eApvSn7ysNPS",
        "outputId": "89041754-d1fa-4675-bc19-c0f10bd4a5ad"
      },
      "execution_count": null,
      "outputs": [
        {
          "output_type": "stream",
          "name": "stdout",
          "text": [
            "Epoch 1/100\n",
            "35/35 [==============================] - 3s 40ms/step - loss: 0.0149 - mae: 0.0785 - val_loss: 0.0112 - val_mae: 0.1050\n",
            "Epoch 2/100\n",
            "35/35 [==============================] - 1s 24ms/step - loss: 0.0024 - mae: 0.0319 - val_loss: 2.2537e-04 - val_mae: 0.0122\n",
            "Epoch 3/100\n",
            "35/35 [==============================] - 1s 24ms/step - loss: 0.0021 - mae: 0.0306 - val_loss: 0.0012 - val_mae: 0.0326\n",
            "Epoch 4/100\n",
            "35/35 [==============================] - 1s 24ms/step - loss: 0.0021 - mae: 0.0302 - val_loss: 0.0055 - val_mae: 0.0733\n",
            "Epoch 5/100\n",
            "35/35 [==============================] - 1s 25ms/step - loss: 0.0017 - mae: 0.0272 - val_loss: 2.5127e-04 - val_mae: 0.0137\n",
            "Epoch 6/100\n",
            "35/35 [==============================] - 1s 24ms/step - loss: 0.0015 - mae: 0.0267 - val_loss: 2.7208e-04 - val_mae: 0.0141\n",
            "Epoch 7/100\n",
            "35/35 [==============================] - 1s 25ms/step - loss: 0.0017 - mae: 0.0274 - val_loss: 0.0013 - val_mae: 0.0343\n",
            "Epoch 8/100\n",
            "35/35 [==============================] - 1s 25ms/step - loss: 0.0015 - mae: 0.0262 - val_loss: 0.0032 - val_mae: 0.0556\n",
            "Epoch 9/100\n",
            "35/35 [==============================] - 1s 25ms/step - loss: 0.0015 - mae: 0.0259 - val_loss: 2.7443e-04 - val_mae: 0.0145\n",
            "Epoch 10/100\n",
            "35/35 [==============================] - 1s 25ms/step - loss: 0.0016 - mae: 0.0278 - val_loss: 0.0012 - val_mae: 0.0326\n",
            "Epoch 11/100\n",
            "35/35 [==============================] - 1s 26ms/step - loss: 0.0016 - mae: 0.0268 - val_loss: 5.8251e-04 - val_mae: 0.0221\n",
            "Epoch 12/100\n",
            "35/35 [==============================] - 1s 24ms/step - loss: 0.0012 - mae: 0.0244 - val_loss: 5.3796e-04 - val_mae: 0.0212\n",
            "Epoch 13/100\n",
            "35/35 [==============================] - 1s 25ms/step - loss: 0.0016 - mae: 0.0269 - val_loss: 6.2519e-04 - val_mae: 0.0230\n",
            "Epoch 14/100\n",
            "35/35 [==============================] - 1s 25ms/step - loss: 0.0011 - mae: 0.0219 - val_loss: 3.6220e-04 - val_mae: 0.0169\n",
            "Epoch 15/100\n",
            "35/35 [==============================] - 1s 27ms/step - loss: 0.0012 - mae: 0.0232 - val_loss: 4.4631e-04 - val_mae: 0.0191\n",
            "Epoch 16/100\n",
            "35/35 [==============================] - 1s 25ms/step - loss: 0.0011 - mae: 0.0225 - val_loss: 3.7458e-04 - val_mae: 0.0173\n",
            "Epoch 17/100\n",
            "35/35 [==============================] - 1s 25ms/step - loss: 0.0011 - mae: 0.0230 - val_loss: 0.0039 - val_mae: 0.0616\n",
            "Epoch 18/100\n",
            "35/35 [==============================] - 1s 26ms/step - loss: 0.0015 - mae: 0.0264 - val_loss: 0.0012 - val_mae: 0.0329\n",
            "Epoch 19/100\n",
            "35/35 [==============================] - 1s 26ms/step - loss: 0.0011 - mae: 0.0221 - val_loss: 0.0035 - val_mae: 0.0579\n",
            "Epoch 20/100\n",
            "35/35 [==============================] - 1s 24ms/step - loss: 0.0012 - mae: 0.0238 - val_loss: 4.3848e-04 - val_mae: 0.0193\n",
            "Epoch 21/100\n",
            "35/35 [==============================] - 1s 26ms/step - loss: 0.0012 - mae: 0.0230 - val_loss: 5.4681e-04 - val_mae: 0.0214\n",
            "Epoch 22/100\n",
            "35/35 [==============================] - 1s 25ms/step - loss: 0.0013 - mae: 0.0233 - val_loss: 3.8794e-04 - val_mae: 0.0177\n",
            "Epoch 23/100\n",
            "35/35 [==============================] - 1s 24ms/step - loss: 0.0011 - mae: 0.0231 - val_loss: 0.0035 - val_mae: 0.0582\n",
            "Epoch 24/100\n",
            "35/35 [==============================] - 1s 25ms/step - loss: 0.0015 - mae: 0.0265 - val_loss: 2.2772e-04 - val_mae: 0.0128\n",
            "Epoch 25/100\n",
            "35/35 [==============================] - 1s 25ms/step - loss: 0.0011 - mae: 0.0231 - val_loss: 3.4656e-04 - val_mae: 0.0166\n",
            "Epoch 26/100\n",
            "35/35 [==============================] - 1s 25ms/step - loss: 0.0012 - mae: 0.0226 - val_loss: 0.0039 - val_mae: 0.0612\n",
            "Epoch 27/100\n",
            "35/35 [==============================] - 1s 24ms/step - loss: 0.0011 - mae: 0.0216 - val_loss: 7.7105e-04 - val_mae: 0.0262\n",
            "Epoch 28/100\n",
            "35/35 [==============================] - 1s 24ms/step - loss: 9.1659e-04 - mae: 0.0201 - val_loss: 0.0028 - val_mae: 0.0520\n",
            "Epoch 29/100\n",
            "35/35 [==============================] - 1s 25ms/step - loss: 0.0013 - mae: 0.0242 - val_loss: 4.0940e-04 - val_mae: 0.0183\n",
            "Epoch 30/100\n",
            "35/35 [==============================] - 1s 24ms/step - loss: 0.0011 - mae: 0.0219 - val_loss: 9.1420e-05 - val_mae: 0.0077\n",
            "Epoch 31/100\n",
            "35/35 [==============================] - 1s 25ms/step - loss: 9.5823e-04 - mae: 0.0209 - val_loss: 2.2424e-04 - val_mae: 0.0127\n",
            "Epoch 32/100\n",
            "35/35 [==============================] - 1s 25ms/step - loss: 8.4852e-04 - mae: 0.0197 - val_loss: 7.8746e-05 - val_mae: 0.0066\n",
            "Epoch 33/100\n",
            "35/35 [==============================] - 1s 26ms/step - loss: 9.4504e-04 - mae: 0.0209 - val_loss: 0.0021 - val_mae: 0.0450\n",
            "Epoch 34/100\n",
            "35/35 [==============================] - 1s 25ms/step - loss: 0.0010 - mae: 0.0201 - val_loss: 1.6027e-04 - val_mae: 0.0110\n",
            "Epoch 35/100\n",
            "35/35 [==============================] - 1s 25ms/step - loss: 0.0013 - mae: 0.0225 - val_loss: 3.3110e-04 - val_mae: 0.0166\n",
            "Epoch 36/100\n",
            "35/35 [==============================] - 1s 25ms/step - loss: 9.8598e-04 - mae: 0.0209 - val_loss: 1.6611e-04 - val_mae: 0.0105\n",
            "Epoch 37/100\n",
            "35/35 [==============================] - 1s 25ms/step - loss: 0.0010 - mae: 0.0210 - val_loss: 1.1961e-04 - val_mae: 0.0082\n",
            "Epoch 38/100\n",
            "35/35 [==============================] - 1s 25ms/step - loss: 0.0010 - mae: 0.0210 - val_loss: 1.6546e-04 - val_mae: 0.0113\n",
            "Epoch 39/100\n",
            "35/35 [==============================] - 1s 25ms/step - loss: 0.0010 - mae: 0.0215 - val_loss: 9.6965e-04 - val_mae: 0.0298\n",
            "Epoch 40/100\n",
            "35/35 [==============================] - 1s 25ms/step - loss: 0.0010 - mae: 0.0223 - val_loss: 0.0027 - val_mae: 0.0512\n",
            "Epoch 41/100\n",
            "35/35 [==============================] - 1s 25ms/step - loss: 9.3894e-04 - mae: 0.0206 - val_loss: 0.0044 - val_mae: 0.0655\n",
            "Epoch 42/100\n",
            "35/35 [==============================] - 1s 26ms/step - loss: 0.0010 - mae: 0.0209 - val_loss: 1.5564e-04 - val_mae: 0.0100\n",
            "Epoch 43/100\n",
            "35/35 [==============================] - 1s 26ms/step - loss: 9.6366e-04 - mae: 0.0210 - val_loss: 1.1344e-04 - val_mae: 0.0089\n",
            "Epoch 44/100\n",
            "35/35 [==============================] - 1s 25ms/step - loss: 8.6537e-04 - mae: 0.0202 - val_loss: 8.9948e-04 - val_mae: 0.0287\n",
            "Epoch 45/100\n",
            "35/35 [==============================] - 1s 25ms/step - loss: 8.1384e-04 - mae: 0.0189 - val_loss: 5.1946e-04 - val_mae: 0.0210\n",
            "Epoch 46/100\n",
            "35/35 [==============================] - 1s 25ms/step - loss: 7.5147e-04 - mae: 0.0189 - val_loss: 3.6558e-04 - val_mae: 0.0171\n",
            "Epoch 47/100\n",
            "35/35 [==============================] - 1s 25ms/step - loss: 9.3964e-04 - mae: 0.0209 - val_loss: 7.7905e-05 - val_mae: 0.0064\n",
            "Epoch 48/100\n",
            "35/35 [==============================] - 1s 26ms/step - loss: 6.5657e-04 - mae: 0.0182 - val_loss: 1.2109e-04 - val_mae: 0.0094\n",
            "Epoch 49/100\n",
            "35/35 [==============================] - 1s 26ms/step - loss: 7.2618e-04 - mae: 0.0183 - val_loss: 3.5980e-04 - val_mae: 0.0170\n",
            "Epoch 50/100\n",
            "35/35 [==============================] - 1s 24ms/step - loss: 0.0011 - mae: 0.0217 - val_loss: 0.0011 - val_mae: 0.0315\n",
            "Epoch 51/100\n",
            "35/35 [==============================] - 1s 26ms/step - loss: 9.3426e-04 - mae: 0.0207 - val_loss: 0.0011 - val_mae: 0.0320\n",
            "Epoch 52/100\n",
            "35/35 [==============================] - 1s 25ms/step - loss: 8.1738e-04 - mae: 0.0199 - val_loss: 7.8169e-05 - val_mae: 0.0070\n",
            "Epoch 53/100\n",
            "35/35 [==============================] - 1s 26ms/step - loss: 0.0011 - mae: 0.0218 - val_loss: 8.3478e-04 - val_mae: 0.0273\n",
            "Epoch 54/100\n",
            "35/35 [==============================] - 1s 26ms/step - loss: 8.1271e-04 - mae: 0.0193 - val_loss: 7.0541e-04 - val_mae: 0.0250\n",
            "Epoch 55/100\n",
            "35/35 [==============================] - 1s 27ms/step - loss: 7.6535e-04 - mae: 0.0193 - val_loss: 3.9249e-04 - val_mae: 0.0179\n",
            "Epoch 56/100\n",
            "35/35 [==============================] - 1s 26ms/step - loss: 8.9921e-04 - mae: 0.0195 - val_loss: 2.2101e-04 - val_mae: 0.0126\n",
            "Epoch 57/100\n",
            "35/35 [==============================] - 1s 25ms/step - loss: 7.4928e-04 - mae: 0.0193 - val_loss: 1.2909e-04 - val_mae: 0.0085\n",
            "Epoch 58/100\n",
            "35/35 [==============================] - 1s 25ms/step - loss: 0.0010 - mae: 0.0210 - val_loss: 7.1073e-04 - val_mae: 0.0251\n",
            "Epoch 59/100\n",
            "35/35 [==============================] - 1s 25ms/step - loss: 7.3344e-04 - mae: 0.0193 - val_loss: 3.9942e-04 - val_mae: 0.0181\n",
            "Epoch 60/100\n",
            "35/35 [==============================] - 1s 25ms/step - loss: 7.2563e-04 - mae: 0.0189 - val_loss: 8.1053e-04 - val_mae: 0.0272\n",
            "Epoch 61/100\n",
            "35/35 [==============================] - 1s 26ms/step - loss: 7.3751e-04 - mae: 0.0187 - val_loss: 2.2811e-04 - val_mae: 0.0129\n",
            "Epoch 62/100\n",
            "35/35 [==============================] - 1s 25ms/step - loss: 8.7875e-04 - mae: 0.0210 - val_loss: 4.0360e-04 - val_mae: 0.0182\n",
            "Epoch 63/100\n",
            "35/35 [==============================] - 1s 25ms/step - loss: 8.9731e-04 - mae: 0.0197 - val_loss: 2.6282e-04 - val_mae: 0.0148\n",
            "Epoch 64/100\n",
            "35/35 [==============================] - 1s 25ms/step - loss: 8.2113e-04 - mae: 0.0200 - val_loss: 3.3743e-04 - val_mae: 0.0163\n",
            "Epoch 65/100\n",
            "35/35 [==============================] - 1s 25ms/step - loss: 6.8555e-04 - mae: 0.0187 - val_loss: 1.2177e-04 - val_mae: 0.0096\n",
            "Epoch 66/100\n",
            "35/35 [==============================] - 1s 25ms/step - loss: 7.5051e-04 - mae: 0.0187 - val_loss: 1.0835e-04 - val_mae: 0.0074\n",
            "Epoch 67/100\n",
            "35/35 [==============================] - 1s 25ms/step - loss: 7.9240e-04 - mae: 0.0192 - val_loss: 2.6052e-04 - val_mae: 0.0138\n",
            "Epoch 68/100\n",
            "35/35 [==============================] - 1s 25ms/step - loss: 7.5238e-04 - mae: 0.0190 - val_loss: 2.7301e-04 - val_mae: 0.0144\n",
            "Epoch 69/100\n",
            "35/35 [==============================] - 1s 25ms/step - loss: 7.2762e-04 - mae: 0.0185 - val_loss: 1.1772e-04 - val_mae: 0.0094\n",
            "Epoch 70/100\n",
            "35/35 [==============================] - 1s 25ms/step - loss: 7.4091e-04 - mae: 0.0185 - val_loss: 1.1607e-04 - val_mae: 0.0081\n",
            "Epoch 71/100\n",
            "35/35 [==============================] - 1s 26ms/step - loss: 7.3691e-04 - mae: 0.0188 - val_loss: 5.5476e-04 - val_mae: 0.0220\n",
            "Epoch 72/100\n",
            "35/35 [==============================] - 1s 25ms/step - loss: 6.9212e-04 - mae: 0.0183 - val_loss: 3.7581e-04 - val_mae: 0.0175\n",
            "Epoch 73/100\n",
            "35/35 [==============================] - 1s 25ms/step - loss: 6.6627e-04 - mae: 0.0184 - val_loss: 0.0010 - val_mae: 0.0311\n",
            "Epoch 74/100\n",
            "35/35 [==============================] - 1s 25ms/step - loss: 7.3456e-04 - mae: 0.0190 - val_loss: 7.5631e-05 - val_mae: 0.0066\n",
            "Epoch 75/100\n",
            "35/35 [==============================] - 1s 25ms/step - loss: 6.9356e-04 - mae: 0.0183 - val_loss: 7.2785e-05 - val_mae: 0.0065\n",
            "Epoch 76/100\n",
            "35/35 [==============================] - 1s 26ms/step - loss: 7.9975e-04 - mae: 0.0195 - val_loss: 0.0010 - val_mae: 0.0306\n",
            "Epoch 77/100\n",
            "35/35 [==============================] - 1s 27ms/step - loss: 7.2634e-04 - mae: 0.0191 - val_loss: 3.2011e-04 - val_mae: 0.0158\n",
            "Epoch 78/100\n",
            "35/35 [==============================] - 1s 26ms/step - loss: 7.6452e-04 - mae: 0.0192 - val_loss: 0.0019 - val_mae: 0.0432\n",
            "Epoch 79/100\n",
            "35/35 [==============================] - 1s 25ms/step - loss: 8.6217e-04 - mae: 0.0196 - val_loss: 0.0021 - val_mae: 0.0449\n",
            "Epoch 80/100\n",
            "35/35 [==============================] - 1s 27ms/step - loss: 9.6823e-04 - mae: 0.0217 - val_loss: 3.3806e-04 - val_mae: 0.0170\n",
            "Epoch 81/100\n",
            "35/35 [==============================] - 1s 26ms/step - loss: 6.9909e-04 - mae: 0.0190 - val_loss: 8.2793e-04 - val_mae: 0.0275\n",
            "Epoch 82/100\n",
            "35/35 [==============================] - 1s 26ms/step - loss: 6.5385e-04 - mae: 0.0183 - val_loss: 3.6281e-04 - val_mae: 0.0175\n",
            "Epoch 83/100\n",
            "35/35 [==============================] - 1s 26ms/step - loss: 5.9126e-04 - mae: 0.0170 - val_loss: 7.1145e-04 - val_mae: 0.0253\n",
            "Epoch 84/100\n",
            "35/35 [==============================] - 1s 26ms/step - loss: 7.0049e-04 - mae: 0.0177 - val_loss: 1.2836e-04 - val_mae: 0.0100\n",
            "Epoch 85/100\n",
            "35/35 [==============================] - 1s 26ms/step - loss: 7.8860e-04 - mae: 0.0186 - val_loss: 1.7697e-04 - val_mae: 0.0121\n",
            "Epoch 86/100\n",
            "35/35 [==============================] - 1s 26ms/step - loss: 6.7686e-04 - mae: 0.0180 - val_loss: 1.9428e-04 - val_mae: 0.0114\n",
            "Epoch 87/100\n",
            "35/35 [==============================] - 1s 26ms/step - loss: 6.9994e-04 - mae: 0.0181 - val_loss: 3.3858e-04 - val_mae: 0.0165\n",
            "Epoch 88/100\n",
            "35/35 [==============================] - 1s 26ms/step - loss: 7.1531e-04 - mae: 0.0183 - val_loss: 7.1123e-05 - val_mae: 0.0065\n",
            "Epoch 89/100\n",
            "35/35 [==============================] - 1s 25ms/step - loss: 7.4971e-04 - mae: 0.0186 - val_loss: 2.0334e-04 - val_mae: 0.0129\n",
            "Epoch 90/100\n",
            "35/35 [==============================] - 1s 25ms/step - loss: 6.4656e-04 - mae: 0.0182 - val_loss: 6.0498e-04 - val_mae: 0.0231\n",
            "Epoch 91/100\n",
            "35/35 [==============================] - 1s 26ms/step - loss: 6.4875e-04 - mae: 0.0180 - val_loss: 7.9446e-04 - val_mae: 0.0266\n",
            "Epoch 92/100\n",
            "35/35 [==============================] - 1s 26ms/step - loss: 6.9442e-04 - mae: 0.0189 - val_loss: 7.8825e-05 - val_mae: 0.0074\n",
            "Epoch 93/100\n",
            "35/35 [==============================] - 1s 25ms/step - loss: 7.4343e-04 - mae: 0.0191 - val_loss: 8.5002e-05 - val_mae: 0.0064\n",
            "Epoch 94/100\n",
            "35/35 [==============================] - 1s 26ms/step - loss: 6.3806e-04 - mae: 0.0176 - val_loss: 1.0400e-04 - val_mae: 0.0089\n",
            "Epoch 95/100\n",
            "35/35 [==============================] - 1s 27ms/step - loss: 7.9367e-04 - mae: 0.0192 - val_loss: 8.8881e-05 - val_mae: 0.0066\n",
            "Epoch 96/100\n",
            "35/35 [==============================] - 1s 25ms/step - loss: 6.1213e-04 - mae: 0.0175 - val_loss: 2.1689e-04 - val_mae: 0.0125\n",
            "Epoch 97/100\n",
            "35/35 [==============================] - 1s 25ms/step - loss: 7.1953e-04 - mae: 0.0180 - val_loss: 9.0400e-05 - val_mae: 0.0066\n",
            "Epoch 98/100\n",
            "35/35 [==============================] - 1s 25ms/step - loss: 6.4261e-04 - mae: 0.0179 - val_loss: 8.2599e-05 - val_mae: 0.0078\n",
            "Epoch 99/100\n",
            "35/35 [==============================] - 1s 26ms/step - loss: 6.2150e-04 - mae: 0.0178 - val_loss: 2.5393e-04 - val_mae: 0.0138\n",
            "Epoch 100/100\n",
            "35/35 [==============================] - 1s 26ms/step - loss: 6.6225e-04 - mae: 0.0180 - val_loss: 0.0023 - val_mae: 0.0474\n"
          ]
        }
      ]
    },
    {
      "cell_type": "markdown",
      "source": [
        "#### __4.5.3 Hasil Paramater Terbaik__"
      ],
      "metadata": {
        "id": "HcVJ6qYAsTeq"
      }
    },
    {
      "cell_type": "code",
      "source": [
        "# summarize results\n",
        "print(\"Best: %f using %s\" % (grid_result_wita.best_score_, grid_result_wita.best_params_))\n",
        "means_wita = grid_result_wita.cv_results_['mean_test_score']\n",
        "stds_wita = grid_result_wita.cv_results_['std_test_score']\n",
        "params_wita = grid_result_wita.cv_results_['params']\n",
        "for mean, stdev, param in zip(means_wita, stds_wita, params_wita):\n",
        "    print(\"%f (%f) with: %r\" % (mean, stdev, param))\n",
        "    \n",
        "# Mengambil model terbaik\n",
        "best_model_wita = grid_result_wita.best_estimator_.model"
      ],
      "metadata": {
        "colab": {
          "base_uri": "https://localhost:8080/"
        },
        "id": "e88p-H1qsQwE",
        "outputId": "1b46e302-7ef1-46a5-e836-f3ee2493e470"
      },
      "execution_count": null,
      "outputs": [
        {
          "output_type": "stream",
          "name": "stdout",
          "text": [
            "Best: -0.000120 using {'LSTM_unit': 128, 'dropout': 0.1}\n",
            "-0.000250 (0.000178) with: {'LSTM_unit': 16, 'dropout': 0.1}\n",
            "-0.000752 (0.000662) with: {'LSTM_unit': 16, 'dropout': 0.2}\n",
            "-0.000179 (0.000057) with: {'LSTM_unit': 32, 'dropout': 0.1}\n",
            "-0.000237 (0.000135) with: {'LSTM_unit': 32, 'dropout': 0.2}\n",
            "-0.000285 (0.000266) with: {'LSTM_unit': 64, 'dropout': 0.1}\n",
            "-0.000373 (0.000508) with: {'LSTM_unit': 64, 'dropout': 0.2}\n",
            "-0.000120 (0.000080) with: {'LSTM_unit': 128, 'dropout': 0.1}\n",
            "-0.000382 (0.000387) with: {'LSTM_unit': 128, 'dropout': 0.2}\n"
          ]
        }
      ]
    },
    {
      "cell_type": "code",
      "source": [
        "from tensorflow.keras.models import load_model\n",
        "best_model_wita.save('my_model_wita')"
      ],
      "metadata": {
        "colab": {
          "base_uri": "https://localhost:8080/",
          "height": 190
        },
        "id": "lGO8b8bazDil",
        "outputId": "0ed2df53-176b-4f29-f8d0-b3c25d49632f"
      },
      "execution_count": null,
      "outputs": [
        {
          "output_type": "error",
          "ename": "NameError",
          "evalue": "ignored",
          "traceback": [
            "\u001b[0;31m---------------------------------------------------------------------------\u001b[0m",
            "\u001b[0;31mNameError\u001b[0m                                 Traceback (most recent call last)",
            "\u001b[0;32m<ipython-input-38-ab78219ad1c8>\u001b[0m in \u001b[0;36m<module>\u001b[0;34m()\u001b[0m\n\u001b[1;32m      1\u001b[0m \u001b[0;32mfrom\u001b[0m \u001b[0mtensorflow\u001b[0m\u001b[0;34m.\u001b[0m\u001b[0mkeras\u001b[0m\u001b[0;34m.\u001b[0m\u001b[0mmodels\u001b[0m \u001b[0;32mimport\u001b[0m \u001b[0mload_model\u001b[0m\u001b[0;34m\u001b[0m\u001b[0;34m\u001b[0m\u001b[0m\n\u001b[0;32m----> 2\u001b[0;31m \u001b[0mbest_model_wita\u001b[0m\u001b[0;34m.\u001b[0m\u001b[0msave\u001b[0m\u001b[0;34m(\u001b[0m\u001b[0;34m'my_model_wita'\u001b[0m\u001b[0;34m)\u001b[0m\u001b[0;34m\u001b[0m\u001b[0;34m\u001b[0m\u001b[0m\n\u001b[0m",
            "\u001b[0;31mNameError\u001b[0m: name 'best_model_wita' is not defined"
          ]
        }
      ]
    },
    {
      "cell_type": "code",
      "source": [
        "import shutil\n",
        "\n",
        "shutil.make_archive('my_modelku_wita', 'zip', root_dir='/content/my_model_wita')\n"
      ],
      "metadata": {
        "colab": {
          "base_uri": "https://localhost:8080/",
          "height": 338
        },
        "id": "-dqtGxvmzGy3",
        "outputId": "f75e9e3a-cf46-44f4-b019-d323a04c6c85"
      },
      "execution_count": null,
      "outputs": [
        {
          "output_type": "error",
          "ename": "FileNotFoundError",
          "evalue": "ignored",
          "traceback": [
            "\u001b[0;31m---------------------------------------------------------------------------\u001b[0m",
            "\u001b[0;31mFileNotFoundError\u001b[0m                         Traceback (most recent call last)",
            "\u001b[0;32m<ipython-input-23-224054edbae0>\u001b[0m in \u001b[0;36m<module>\u001b[0;34m()\u001b[0m\n\u001b[1;32m      1\u001b[0m \u001b[0;32mimport\u001b[0m \u001b[0mshutil\u001b[0m\u001b[0;34m\u001b[0m\u001b[0;34m\u001b[0m\u001b[0m\n\u001b[1;32m      2\u001b[0m \u001b[0;34m\u001b[0m\u001b[0m\n\u001b[0;32m----> 3\u001b[0;31m \u001b[0mshutil\u001b[0m\u001b[0;34m.\u001b[0m\u001b[0mmake_archive\u001b[0m\u001b[0;34m(\u001b[0m\u001b[0;34m'my_modelku_wita'\u001b[0m\u001b[0;34m,\u001b[0m \u001b[0;34m'zip'\u001b[0m\u001b[0;34m,\u001b[0m \u001b[0mroot_dir\u001b[0m\u001b[0;34m=\u001b[0m\u001b[0;34m'/content/my_model_wita'\u001b[0m\u001b[0;34m)\u001b[0m\u001b[0;34m\u001b[0m\u001b[0;34m\u001b[0m\u001b[0m\n\u001b[0m",
            "\u001b[0;32m/usr/lib/python3.7/shutil.py\u001b[0m in \u001b[0;36mmake_archive\u001b[0;34m(base_name, format, root_dir, base_dir, verbose, dry_run, owner, group, logger)\u001b[0m\n\u001b[1;32m    799\u001b[0m         \u001b[0mbase_name\u001b[0m \u001b[0;34m=\u001b[0m \u001b[0mos\u001b[0m\u001b[0;34m.\u001b[0m\u001b[0mpath\u001b[0m\u001b[0;34m.\u001b[0m\u001b[0mabspath\u001b[0m\u001b[0;34m(\u001b[0m\u001b[0mbase_name\u001b[0m\u001b[0;34m)\u001b[0m\u001b[0;34m\u001b[0m\u001b[0;34m\u001b[0m\u001b[0m\n\u001b[1;32m    800\u001b[0m         \u001b[0;32mif\u001b[0m \u001b[0;32mnot\u001b[0m \u001b[0mdry_run\u001b[0m\u001b[0;34m:\u001b[0m\u001b[0;34m\u001b[0m\u001b[0;34m\u001b[0m\u001b[0m\n\u001b[0;32m--> 801\u001b[0;31m             \u001b[0mos\u001b[0m\u001b[0;34m.\u001b[0m\u001b[0mchdir\u001b[0m\u001b[0;34m(\u001b[0m\u001b[0mroot_dir\u001b[0m\u001b[0;34m)\u001b[0m\u001b[0;34m\u001b[0m\u001b[0;34m\u001b[0m\u001b[0m\n\u001b[0m\u001b[1;32m    802\u001b[0m \u001b[0;34m\u001b[0m\u001b[0m\n\u001b[1;32m    803\u001b[0m     \u001b[0;32mif\u001b[0m \u001b[0mbase_dir\u001b[0m \u001b[0;32mis\u001b[0m \u001b[0;32mNone\u001b[0m\u001b[0;34m:\u001b[0m\u001b[0;34m\u001b[0m\u001b[0;34m\u001b[0m\u001b[0m\n",
            "\u001b[0;31mFileNotFoundError\u001b[0m: [Errno 2] No such file or directory: '/content/my_model_wita'"
          ]
        }
      ]
    },
    {
      "cell_type": "markdown",
      "source": [
        "#### __4.5.4 Evaluasi Model__\n"
      ],
      "metadata": {
        "id": "j2nVWgNH60-9"
      }
    },
    {
      "cell_type": "code",
      "source": [
        "# Prediksi data train\n",
        "predict_train_wita = scaler_wita.inverse_transform(best_model_wita.predict(X_train_wita))\n",
        "true_train_wita = scaler_wita.inverse_transform(y_train_wita)\n",
        "\n",
        "# Prediksi data test\n",
        "predict_test_wita = scaler_wita.inverse_transform(best_model_wita.predict(X_test_wita))\n",
        "true_test_wita = scaler_wita.inverse_transform(y_test_wita)"
      ],
      "metadata": {
        "id": "UuCitEdq7Bpm"
      },
      "execution_count": null,
      "outputs": []
    },
    {
      "cell_type": "markdown",
      "source": [
        "Plot Prediksi data train"
      ],
      "metadata": {
        "id": "Ye_JIHmP7X23"
      }
    },
    {
      "cell_type": "code",
      "source": [
        "train_wita['predict'] = np.nan\n",
        "train_wita['predict'][-len(predict_train_wita):] = predict_train_wita[:,0]\n",
        "test_wita['predict'] = np.nan\n",
        "test_wita['predict'][-len(predict_test_wita):] = predict_test_wita[:,0]\n",
        "\n",
        "y_test_wita = scaler_wita.transform(test_wita[['mean_wita']])\n",
        "n_future_wita = 12*30\n",
        "future_wita = [[y_test_wita[-1,0]]]\n",
        "X_new_wita= y_test_wita[-window_size:,0].tolist()\n",
        "\n",
        "for i in range(n_future_wita):\n",
        "    y_future_wita = best_model_wita.predict(np.array([X_new_wita]).reshape(1,window_size,1))\n",
        "    future_wita.append([y_future_wita[0,0]])\n",
        "    X_new_wita = X_new_wita[1:]\n",
        "    X_new_wita.append(y_future_wita[0,0])\n",
        "\n",
        "future_wita = scaler_wita.inverse_transform(np.array(future_wita))\n",
        "date_future_wita = pd.date_range(start=test_wita['Tanggal'].values[-1], periods=n_future_wita+1, freq='D')\n",
        "\n",
        "plt.figure(figsize=(15,8))\n",
        "plt.title('DATA PREDIKSI TRAIN dan TEST ZONA WAKTU WITA')\n",
        "sns.lineplot(data=train_wita, x='Tanggal', y='mean_wita', label = 'train')\n",
        "sns.lineplot(data=train_wita, x='Tanggal', y='predict', label = 'predict train')\n",
        "sns.lineplot(data=test_wita, x='Tanggal', y='mean_wita', label = 'test')\n",
        "sns.lineplot(data=test_wita, x='Tanggal', y='predict', label = 'predict test')\n",
        "sns.lineplot(x=date_future_wita, y=future_wita[:,0], label = 'future')"
      ],
      "metadata": {
        "colab": {
          "base_uri": "https://localhost:8080/",
          "height": 536
        },
        "id": "TyT-P5Cq7XOP",
        "outputId": "461eec8f-7733-4624-a0d6-946e5a43029d"
      },
      "execution_count": null,
      "outputs": [
        {
          "output_type": "execute_result",
          "data": {
            "text/plain": [
              "<matplotlib.axes._subplots.AxesSubplot at 0x7f27458c34d0>"
            ]
          },
          "metadata": {},
          "execution_count": 46
        },
        {
          "output_type": "display_data",
          "data": {
            "text/plain": [
              "<Figure size 1080x576 with 1 Axes>"
            ],
            "image/png": "[encoded data removed]"
          },
          "metadata": {
            "needs_background": "light"
          }
        }
      ]
    },
    {
      "cell_type": "markdown",
      "source": [
        "Plot Prediksi data test"
      ],
      "metadata": {
        "id": "jcL6_-xN8rAp"
      }
    },
    {
      "cell_type": "code",
      "source": [
        "test_wita['predict'] = np.nan\n",
        "test_wita['predict'][-len(predict_test_wita):] = predict_test_wita[:,0]\n",
        "\n",
        "plt.figure(figsize=(15,8))\n",
        "sns.lineplot(data=test_wita, x='Tanggal', y='mean_wita', label = 'test')\n",
        "sns.lineplot(data=test_wita, x='Tanggal', y='predict', label = 'predict')"
      ],
      "metadata": {
        "colab": {
          "base_uri": "https://localhost:8080/",
          "height": 519
        },
        "id": "WN_nZG_48t6o",
        "outputId": "8d7fea90-1818-4185-f49a-8a1c25509311"
      },
      "execution_count": null,
      "outputs": [
        {
          "output_type": "execute_result",
          "data": {
            "text/plain": [
              "<matplotlib.axes._subplots.AxesSubplot at 0x7f28bf02b250>"
            ]
          },
          "metadata": {},
          "execution_count": 54
        },
        {
          "output_type": "display_data",
          "data": {
            "text/plain": [
              "<Figure size 1080x576 with 1 Axes>"
            ],
            "image/png": "[encoded data removed]"
          },
          "metadata": {
            "needs_background": "light"
          }
        }
      ]
    },
    {
      "cell_type": "markdown",
      "source": [
        "Plot Prediksi data sebulan terakhir"
      ],
      "metadata": {
        "id": "Y9ZEwITU8xXm"
      }
    },
    {
      "cell_type": "code",
      "source": [
        "plt.figure(figsize=(15,8))\n",
        "sns.lineplot(data=test_wita[-1*30:], x='Tanggal', y='mean_wita', label = 'test')\n",
        "sns.lineplot(data=test_wita[-1*30:], x='Tanggal', y='predict', label = 'predict')"
      ],
      "metadata": {
        "colab": {
          "base_uri": "https://localhost:8080/",
          "height": 519
        },
        "id": "p4YbhM7084FT",
        "outputId": "4b9ae94a-a4ed-40a6-822e-a2f556f89bb4"
      },
      "execution_count": null,
      "outputs": [
        {
          "output_type": "execute_result",
          "data": {
            "text/plain": [
              "<matplotlib.axes._subplots.AxesSubplot at 0x7f28bf1ecd90>"
            ]
          },
          "metadata": {},
          "execution_count": 55
        },
        {
          "output_type": "display_data",
          "data": {
            "text/plain": [
              "<Figure size 1080x576 with 1 Axes>"
            ],
            "image/png": "[encoded data removed]"
          },
          "metadata": {
            "needs_background": "light"
          }
        }
      ]
    },
    {
      "cell_type": "markdown",
      "source": [
        "#### __4.5.5 Forecasting__"
      ],
      "metadata": {
        "id": "z52y4XV19H7Q"
      }
    },
    {
      "cell_type": "code",
      "source": [
        "# forecasting data selanjutnya\n",
        "y_test_wita = scaler_wita.transform(test_wita[['mean_wita']])\n",
        "n_future_wita = 12*30\n",
        "future_wita = [[y_test_wita[-1,0]]]\n",
        "X_new_wita = y_test_wita[-window_size:,0].tolist()\n",
        "\n",
        "for i in range(n_future_wita):\n",
        "    y_future_wita = best_model_wita.predict(np.array([X_new_wita]).reshape(1,window_size,1))\n",
        "    future_wita.append([y_future_wita[0,0]])\n",
        "    X_new_wita = X_new_wita[1:]\n",
        "    X_new_wita.append(y_future_wita[0,0])\n",
        "\n",
        "future_wita = scaler_wita.inverse_transform(np.array(future_wita))\n",
        "date_future_wita = pd.date_range(start=test_wita['Tanggal'].values[-1], periods=n_future_wita+1, freq='D')\n",
        "\n",
        "# Plot Data dua bulan terakhir dan dua bulan selanjutnya\n",
        "plt.figure(figsize=(15,8))\n",
        "sns.lineplot(data=test_wita[-1*30:], x='Tanggal', y='mean_wita', label = 'test') #[-1*30:] [-24*30:]\n",
        "sns.lineplot(data=test_wita[-1*30:], x='Tanggal', y='predict', label = 'predict') #[-1*30:] [-24*30:]\n",
        "sns.lineplot(x=date_future_wita, y=future_wita[:,0], label = 'future')\n",
        "plt.ylabel('mean_wita')\n"
      ],
      "metadata": {
        "colab": {
          "base_uri": "https://localhost:8080/",
          "height": 519
        },
        "id": "bam8_-wa9L9q",
        "outputId": "573c3d70-30b8-43a1-a111-3a41e17baae9"
      },
      "execution_count": null,
      "outputs": [
        {
          "output_type": "execute_result",
          "data": {
            "text/plain": [
              "Text(0, 0.5, 'mean_wita')"
            ]
          },
          "metadata": {},
          "execution_count": 56
        },
        {
          "output_type": "display_data",
          "data": {
            "text/plain": [
              "<Figure size 1080x576 with 1 Axes>"
            ],
            "image/png": "[encoded data removed]"
          },
          "metadata": {
            "needs_background": "light"
          }
        }
      ]
    },
    {
      "cell_type": "markdown",
      "source": [
        "### __4.6 Training model zona WITA__"
      ],
      "metadata": {
        "id": "vlGG3XROAkPw"
      }
    },
    {
      "cell_type": "markdown",
      "source": [
        "#### __4.6.1 Membuat variabel GridSearchCV__"
      ],
      "metadata": {
        "id": "haSQ5TKOApXE"
      }
    },
    {
      "cell_type": "code",
      "source": [
        "grid_wit = GridSearchCV(estimator=model, param_grid=param_grid, n_jobs=-1, cv=5)"
      ],
      "metadata": {
        "id": "OKnmPowiCgDq"
      },
      "execution_count": null,
      "outputs": []
    },
    {
      "cell_type": "markdown",
      "source": [
        "#### __4.6.2 GridSearchCV Model__"
      ],
      "metadata": {
        "id": "xnclmHOvB6Ij"
      }
    },
    {
      "cell_type": "code",
      "source": [
        "grid_result_wit = grid_wit.fit(X_train_wit, y_train_wit)"
      ],
      "metadata": {
        "colab": {
          "base_uri": "https://localhost:8080/"
        },
        "id": "ga4m9X8cDl7C",
        "outputId": "52ccdf6c-bc42-49db-b106-ac76be9bad19"
      },
      "execution_count": null,
      "outputs": [
        {
          "output_type": "stream",
          "name": "stdout",
          "text": [
            "Epoch 1/100\n",
            "35/35 [==============================] - 3s 27ms/step - loss: 0.0182 - mae: 0.0920 - val_loss: 0.0066 - val_mae: 0.0809\n",
            "Epoch 2/100\n",
            "35/35 [==============================] - 0s 13ms/step - loss: 0.0075 - mae: 0.0520 - val_loss: 3.7071e-04 - val_mae: 0.0168\n",
            "Epoch 3/100\n",
            "35/35 [==============================] - 0s 12ms/step - loss: 0.0065 - mae: 0.0473 - val_loss: 4.6717e-04 - val_mae: 0.0194\n",
            "Epoch 4/100\n",
            "35/35 [==============================] - 0s 13ms/step - loss: 0.0062 - mae: 0.0444 - val_loss: 0.0036 - val_mae: 0.0595\n",
            "Epoch 5/100\n",
            "35/35 [==============================] - 0s 13ms/step - loss: 0.0059 - mae: 0.0433 - val_loss: 3.0949e-04 - val_mae: 0.0162\n",
            "Epoch 6/100\n",
            "35/35 [==============================] - 0s 13ms/step - loss: 0.0065 - mae: 0.0449 - val_loss: 1.4353e-04 - val_mae: 0.0101\n",
            "Epoch 7/100\n",
            "35/35 [==============================] - 0s 13ms/step - loss: 0.0055 - mae: 0.0402 - val_loss: 9.7036e-05 - val_mae: 0.0070\n",
            "Epoch 8/100\n",
            "35/35 [==============================] - 0s 13ms/step - loss: 0.0057 - mae: 0.0414 - val_loss: 1.3446e-04 - val_mae: 0.0086\n",
            "Epoch 9/100\n",
            "35/35 [==============================] - 0s 13ms/step - loss: 0.0058 - mae: 0.0428 - val_loss: 4.6076e-04 - val_mae: 0.0194\n",
            "Epoch 10/100\n",
            "35/35 [==============================] - 0s 13ms/step - loss: 0.0057 - mae: 0.0406 - val_loss: 0.0025 - val_mae: 0.0496\n",
            "Epoch 11/100\n",
            "35/35 [==============================] - 0s 12ms/step - loss: 0.0062 - mae: 0.0435 - val_loss: 0.0022 - val_mae: 0.0454\n",
            "Epoch 12/100\n",
            "35/35 [==============================] - 0s 13ms/step - loss: 0.0056 - mae: 0.0403 - val_loss: 0.0031 - val_mae: 0.0551\n",
            "Epoch 13/100\n",
            "35/35 [==============================] - 0s 13ms/step - loss: 0.0054 - mae: 0.0401 - val_loss: 1.2545e-04 - val_mae: 0.0083\n",
            "Epoch 14/100\n",
            "35/35 [==============================] - 0s 12ms/step - loss: 0.0054 - mae: 0.0389 - val_loss: 9.0818e-05 - val_mae: 0.0066\n",
            "Epoch 15/100\n",
            "35/35 [==============================] - 0s 12ms/step - loss: 0.0049 - mae: 0.0365 - val_loss: 9.0063e-05 - val_mae: 0.0066\n",
            "Epoch 16/100\n",
            "35/35 [==============================] - 0s 12ms/step - loss: 0.0053 - mae: 0.0395 - val_loss: 0.0017 - val_mae: 0.0401\n",
            "Epoch 17/100\n",
            "35/35 [==============================] - 0s 12ms/step - loss: 0.0053 - mae: 0.0385 - val_loss: 6.2854e-04 - val_mae: 0.0235\n",
            "Epoch 18/100\n",
            "35/35 [==============================] - 0s 13ms/step - loss: 0.0051 - mae: 0.0358 - val_loss: 2.0255e-04 - val_mae: 0.0115\n",
            "Epoch 19/100\n",
            "35/35 [==============================] - 0s 13ms/step - loss: 0.0050 - mae: 0.0375 - val_loss: 1.1949e-04 - val_mae: 0.0081\n",
            "Epoch 20/100\n",
            "35/35 [==============================] - 0s 13ms/step - loss: 0.0049 - mae: 0.0361 - val_loss: 0.0012 - val_mae: 0.0334\n",
            "Epoch 21/100\n",
            "35/35 [==============================] - 0s 12ms/step - loss: 0.0049 - mae: 0.0358 - val_loss: 1.0111e-04 - val_mae: 0.0072\n",
            "Epoch 22/100\n",
            "35/35 [==============================] - 0s 12ms/step - loss: 0.0048 - mae: 0.0349 - val_loss: 9.5895e-04 - val_mae: 0.0296\n",
            "Epoch 23/100\n",
            "35/35 [==============================] - 0s 12ms/step - loss: 0.0048 - mae: 0.0355 - val_loss: 8.2754e-04 - val_mae: 0.0272\n",
            "Epoch 24/100\n",
            "35/35 [==============================] - 0s 12ms/step - loss: 0.0047 - mae: 0.0366 - val_loss: 5.0880e-04 - val_mae: 0.0207\n",
            "Epoch 25/100\n",
            "35/35 [==============================] - 0s 13ms/step - loss: 0.0049 - mae: 0.0344 - val_loss: 4.4847e-04 - val_mae: 0.0192\n",
            "Epoch 26/100\n",
            "35/35 [==============================] - 0s 12ms/step - loss: 0.0045 - mae: 0.0344 - val_loss: 1.5910e-04 - val_mae: 0.0099\n",
            "Epoch 27/100\n",
            "35/35 [==============================] - 0s 13ms/step - loss: 0.0046 - mae: 0.0331 - val_loss: 3.5111e-04 - val_mae: 0.0166\n",
            "Epoch 28/100\n",
            "35/35 [==============================] - 0s 13ms/step - loss: 0.0045 - mae: 0.0319 - val_loss: 1.8433e-04 - val_mae: 0.0121\n",
            "Epoch 29/100\n",
            "35/35 [==============================] - 0s 13ms/step - loss: 0.0045 - mae: 0.0328 - val_loss: 1.6062e-04 - val_mae: 0.0111\n",
            "Epoch 30/100\n",
            "35/35 [==============================] - 0s 13ms/step - loss: 0.0045 - mae: 0.0318 - val_loss: 1.8436e-04 - val_mae: 0.0110\n",
            "Epoch 31/100\n",
            "35/35 [==============================] - 0s 13ms/step - loss: 0.0046 - mae: 0.0342 - val_loss: 1.2969e-04 - val_mae: 0.0095\n",
            "Epoch 32/100\n",
            "35/35 [==============================] - 1s 15ms/step - loss: 0.0047 - mae: 0.0328 - val_loss: 2.3423e-04 - val_mae: 0.0128\n",
            "Epoch 33/100\n",
            "35/35 [==============================] - 0s 13ms/step - loss: 0.0046 - mae: 0.0332 - val_loss: 1.1181e-04 - val_mae: 0.0078\n",
            "Epoch 34/100\n",
            "35/35 [==============================] - 0s 13ms/step - loss: 0.0046 - mae: 0.0338 - val_loss: 7.0193e-04 - val_mae: 0.0250\n",
            "Epoch 35/100\n",
            "35/35 [==============================] - 0s 13ms/step - loss: 0.0048 - mae: 0.0341 - val_loss: 1.0493e-04 - val_mae: 0.0074\n",
            "Epoch 36/100\n",
            "35/35 [==============================] - 0s 13ms/step - loss: 0.0043 - mae: 0.0304 - val_loss: 3.8976e-04 - val_mae: 0.0177\n",
            "Epoch 37/100\n",
            "35/35 [==============================] - 0s 12ms/step - loss: 0.0043 - mae: 0.0306 - val_loss: 3.0799e-04 - val_mae: 0.0162\n",
            "Epoch 38/100\n",
            "35/35 [==============================] - 0s 13ms/step - loss: 0.0045 - mae: 0.0320 - val_loss: 4.2309e-04 - val_mae: 0.0186\n",
            "Epoch 39/100\n",
            "35/35 [==============================] - 0s 12ms/step - loss: 0.0044 - mae: 0.0318 - val_loss: 7.7720e-04 - val_mae: 0.0263\n",
            "Epoch 40/100\n",
            "35/35 [==============================] - 0s 12ms/step - loss: 0.0044 - mae: 0.0310 - val_loss: 1.7035e-04 - val_mae: 0.0105\n",
            "Epoch 41/100\n",
            "35/35 [==============================] - 0s 13ms/step - loss: 0.0043 - mae: 0.0318 - val_loss: 6.6808e-04 - val_mae: 0.0242\n",
            "Epoch 42/100\n",
            "35/35 [==============================] - 0s 12ms/step - loss: 0.0043 - mae: 0.0310 - val_loss: 6.3276e-04 - val_mae: 0.0235\n",
            "Epoch 43/100\n",
            "35/35 [==============================] - 0s 13ms/step - loss: 0.0042 - mae: 0.0314 - val_loss: 3.1408e-04 - val_mae: 0.0154\n",
            "Epoch 44/100\n",
            "35/35 [==============================] - 0s 13ms/step - loss: 0.0045 - mae: 0.0327 - val_loss: 0.0012 - val_mae: 0.0329\n",
            "Epoch 45/100\n",
            "35/35 [==============================] - 0s 13ms/step - loss: 0.0044 - mae: 0.0315 - val_loss: 1.1522e-04 - val_mae: 0.0080\n",
            "Epoch 46/100\n",
            "35/35 [==============================] - 0s 13ms/step - loss: 0.0043 - mae: 0.0305 - val_loss: 5.0512e-04 - val_mae: 0.0206\n",
            "Epoch 47/100\n",
            "35/35 [==============================] - 0s 13ms/step - loss: 0.0044 - mae: 0.0311 - val_loss: 8.5681e-05 - val_mae: 0.0062\n",
            "Epoch 48/100\n",
            "35/35 [==============================] - 0s 14ms/step - loss: 0.0041 - mae: 0.0317 - val_loss: 1.9776e-04 - val_mae: 0.0115\n",
            "Epoch 49/100\n",
            "35/35 [==============================] - 0s 13ms/step - loss: 0.0045 - mae: 0.0307 - val_loss: 1.1978e-04 - val_mae: 0.0082\n",
            "Epoch 50/100\n",
            "35/35 [==============================] - 0s 13ms/step - loss: 0.0043 - mae: 0.0301 - val_loss: 3.6695e-04 - val_mae: 0.0171\n",
            "Epoch 51/100\n",
            "35/35 [==============================] - 0s 12ms/step - loss: 0.0041 - mae: 0.0296 - val_loss: 5.9889e-04 - val_mae: 0.0230\n",
            "Epoch 52/100\n",
            "35/35 [==============================] - 0s 13ms/step - loss: 0.0041 - mae: 0.0318 - val_loss: 8.8119e-05 - val_mae: 0.0063\n",
            "Epoch 53/100\n",
            "35/35 [==============================] - 0s 12ms/step - loss: 0.0041 - mae: 0.0293 - val_loss: 1.2860e-04 - val_mae: 0.0086\n",
            "Epoch 54/100\n",
            "35/35 [==============================] - 0s 13ms/step - loss: 0.0041 - mae: 0.0294 - val_loss: 4.0603e-04 - val_mae: 0.0188\n",
            "Epoch 55/100\n",
            "35/35 [==============================] - 0s 12ms/step - loss: 0.0043 - mae: 0.0311 - val_loss: 9.1904e-05 - val_mae: 0.0068\n",
            "Epoch 56/100\n",
            "35/35 [==============================] - 0s 13ms/step - loss: 0.0042 - mae: 0.0307 - val_loss: 1.5474e-04 - val_mae: 0.0109\n",
            "Epoch 57/100\n",
            "35/35 [==============================] - 0s 12ms/step - loss: 0.0041 - mae: 0.0292 - val_loss: 1.0020e-04 - val_mae: 0.0075\n",
            "Epoch 58/100\n",
            "35/35 [==============================] - 0s 12ms/step - loss: 0.0042 - mae: 0.0314 - val_loss: 1.7855e-04 - val_mae: 0.0108\n",
            "Epoch 59/100\n",
            "35/35 [==============================] - 0s 13ms/step - loss: 0.0042 - mae: 0.0299 - val_loss: 2.6946e-04 - val_mae: 0.0151\n",
            "Epoch 60/100\n",
            "35/35 [==============================] - 0s 13ms/step - loss: 0.0042 - mae: 0.0303 - val_loss: 1.2402e-04 - val_mae: 0.0093\n",
            "Epoch 61/100\n",
            "35/35 [==============================] - 0s 13ms/step - loss: 0.0041 - mae: 0.0304 - val_loss: 2.8255e-04 - val_mae: 0.0145\n",
            "Epoch 62/100\n",
            "35/35 [==============================] - 0s 12ms/step - loss: 0.0041 - mae: 0.0299 - val_loss: 3.7870e-04 - val_mae: 0.0181\n",
            "Epoch 63/100\n",
            "35/35 [==============================] - 0s 13ms/step - loss: 0.0042 - mae: 0.0301 - val_loss: 1.7632e-04 - val_mae: 0.0108\n",
            "Epoch 64/100\n",
            "35/35 [==============================] - 0s 13ms/step - loss: 0.0039 - mae: 0.0279 - val_loss: 3.0087e-04 - val_mae: 0.0160\n",
            "Epoch 65/100\n",
            "35/35 [==============================] - 0s 13ms/step - loss: 0.0043 - mae: 0.0306 - val_loss: 1.5788e-04 - val_mae: 0.0100\n",
            "Epoch 66/100\n",
            "35/35 [==============================] - 0s 13ms/step - loss: 0.0041 - mae: 0.0303 - val_loss: 3.2728e-04 - val_mae: 0.0160\n",
            "Epoch 67/100\n",
            "35/35 [==============================] - 0s 13ms/step - loss: 0.0040 - mae: 0.0285 - val_loss: 9.3071e-05 - val_mae: 0.0072\n",
            "Epoch 68/100\n",
            "35/35 [==============================] - 0s 13ms/step - loss: 0.0040 - mae: 0.0304 - val_loss: 8.2730e-04 - val_mae: 0.0273\n",
            "Epoch 69/100\n",
            "35/35 [==============================] - 0s 13ms/step - loss: 0.0041 - mae: 0.0287 - val_loss: 7.4985e-04 - val_mae: 0.0259\n",
            "Epoch 70/100\n",
            "35/35 [==============================] - 0s 13ms/step - loss: 0.0040 - mae: 0.0294 - val_loss: 9.4281e-05 - val_mae: 0.0072\n",
            "Epoch 71/100\n",
            "35/35 [==============================] - 0s 13ms/step - loss: 0.0042 - mae: 0.0305 - val_loss: 1.1661e-04 - val_mae: 0.0089\n",
            "Epoch 72/100\n",
            "35/35 [==============================] - 0s 14ms/step - loss: 0.0038 - mae: 0.0279 - val_loss: 3.0382e-04 - val_mae: 0.0161\n",
            "Epoch 73/100\n",
            "35/35 [==============================] - 0s 13ms/step - loss: 0.0042 - mae: 0.0300 - val_loss: 2.0782e-04 - val_mae: 0.0119\n",
            "Epoch 74/100\n",
            "35/35 [==============================] - 0s 13ms/step - loss: 0.0040 - mae: 0.0301 - val_loss: 2.8438e-04 - val_mae: 0.0155\n",
            "Epoch 75/100\n",
            "35/35 [==============================] - 0s 13ms/step - loss: 0.0040 - mae: 0.0291 - val_loss: 7.8556e-05 - val_mae: 0.0060\n",
            "Epoch 76/100\n",
            "35/35 [==============================] - 0s 14ms/step - loss: 0.0041 - mae: 0.0309 - val_loss: 8.6323e-05 - val_mae: 0.0064\n",
            "Epoch 77/100\n",
            "35/35 [==============================] - 0s 13ms/step - loss: 0.0039 - mae: 0.0286 - val_loss: 1.2067e-04 - val_mae: 0.0084\n",
            "Epoch 78/100\n",
            "35/35 [==============================] - 0s 14ms/step - loss: 0.0040 - mae: 0.0288 - val_loss: 5.1126e-04 - val_mae: 0.0209\n",
            "Epoch 79/100\n",
            "35/35 [==============================] - 0s 13ms/step - loss: 0.0038 - mae: 0.0294 - val_loss: 2.0988e-04 - val_mae: 0.0131\n",
            "Epoch 80/100\n",
            "35/35 [==============================] - 0s 13ms/step - loss: 0.0040 - mae: 0.0286 - val_loss: 9.2730e-05 - val_mae: 0.0068\n",
            "Epoch 81/100\n",
            "35/35 [==============================] - 0s 12ms/step - loss: 0.0038 - mae: 0.0275 - val_loss: 1.3802e-04 - val_mae: 0.0101\n",
            "Epoch 82/100\n",
            "35/35 [==============================] - 0s 13ms/step - loss: 0.0040 - mae: 0.0287 - val_loss: 1.9959e-04 - val_mae: 0.0127\n",
            "Epoch 83/100\n",
            "35/35 [==============================] - 0s 13ms/step - loss: 0.0041 - mae: 0.0283 - val_loss: 3.8749e-04 - val_mae: 0.0178\n",
            "Epoch 84/100\n",
            "35/35 [==============================] - 0s 14ms/step - loss: 0.0038 - mae: 0.0292 - val_loss: 2.9406e-04 - val_mae: 0.0158\n",
            "Epoch 85/100\n",
            "35/35 [==============================] - 1s 14ms/step - loss: 0.0041 - mae: 0.0291 - val_loss: 1.7736e-04 - val_mae: 0.0109\n",
            "Epoch 86/100\n",
            "35/35 [==============================] - 0s 13ms/step - loss: 0.0041 - mae: 0.0291 - val_loss: 0.0016 - val_mae: 0.0386\n",
            "Epoch 87/100\n",
            "35/35 [==============================] - 0s 12ms/step - loss: 0.0039 - mae: 0.0281 - val_loss: 3.5796e-04 - val_mae: 0.0176\n",
            "Epoch 88/100\n",
            "35/35 [==============================] - 0s 13ms/step - loss: 0.0039 - mae: 0.0290 - val_loss: 8.0034e-05 - val_mae: 0.0063\n",
            "Epoch 89/100\n",
            "35/35 [==============================] - 0s 13ms/step - loss: 0.0040 - mae: 0.0288 - val_loss: 7.7740e-04 - val_mae: 0.0265\n",
            "Epoch 90/100\n",
            "35/35 [==============================] - 0s 13ms/step - loss: 0.0038 - mae: 0.0284 - val_loss: 1.0171e-04 - val_mae: 0.0080\n",
            "Epoch 91/100\n",
            "35/35 [==============================] - 0s 13ms/step - loss: 0.0041 - mae: 0.0282 - val_loss: 5.1139e-04 - val_mae: 0.0213\n",
            "Epoch 92/100\n",
            "35/35 [==============================] - 0s 13ms/step - loss: 0.0040 - mae: 0.0291 - val_loss: 2.1345e-04 - val_mae: 0.0123\n",
            "Epoch 93/100\n",
            "35/35 [==============================] - 0s 13ms/step - loss: 0.0038 - mae: 0.0271 - val_loss: 7.9140e-05 - val_mae: 0.0062\n",
            "Epoch 94/100\n",
            "35/35 [==============================] - 0s 13ms/step - loss: 0.0036 - mae: 0.0262 - val_loss: 1.9861e-04 - val_mae: 0.0118\n",
            "Epoch 95/100\n",
            "35/35 [==============================] - 0s 12ms/step - loss: 0.0038 - mae: 0.0270 - val_loss: 1.1441e-04 - val_mae: 0.0082\n",
            "Epoch 96/100\n",
            "35/35 [==============================] - 0s 13ms/step - loss: 0.0041 - mae: 0.0309 - val_loss: 0.0013 - val_mae: 0.0343\n",
            "Epoch 97/100\n",
            "35/35 [==============================] - 0s 12ms/step - loss: 0.0036 - mae: 0.0262 - val_loss: 1.8626e-04 - val_mae: 0.0123\n",
            "Epoch 98/100\n",
            "35/35 [==============================] - 0s 13ms/step - loss: 0.0040 - mae: 0.0313 - val_loss: 1.3873e-04 - val_mae: 0.0102\n",
            "Epoch 99/100\n",
            "35/35 [==============================] - 0s 12ms/step - loss: 0.0036 - mae: 0.0274 - val_loss: 1.3523e-04 - val_mae: 0.0101\n",
            "Epoch 100/100\n",
            "35/35 [==============================] - 0s 12ms/step - loss: 0.0036 - mae: 0.0268 - val_loss: 8.2079e-05 - val_mae: 0.0062\n"
          ]
        }
      ]
    },
    {
      "cell_type": "markdown",
      "source": [
        "#### __4.6.3 Hasil Parameter Terbaik__"
      ],
      "metadata": {
        "id": "Is4KeByDCEzf"
      }
    },
    {
      "cell_type": "code",
      "source": [
        "from tensorflow.keras.models import load_model\n",
        "best_model_wit.save('my_model_wit')"
      ],
      "metadata": {
        "colab": {
          "base_uri": "https://localhost:8080/"
        },
        "id": "lI1hkuQTzSrD",
        "outputId": "cbb2b19b-4015-4dc0-ebe5-8c204517ffe9"
      },
      "execution_count": null,
      "outputs": [
        {
          "output_type": "stream",
          "name": "stderr",
          "text": [
            "WARNING:absl:Found untraced functions such as lstm_cell_2_layer_call_fn, lstm_cell_2_layer_call_and_return_conditional_losses while saving (showing 2 of 2). These functions will not be directly callable after loading.\n"
          ]
        },
        {
          "output_type": "stream",
          "name": "stdout",
          "text": [
            "INFO:tensorflow:Assets written to: my_model_wit/assets\n"
          ]
        },
        {
          "output_type": "stream",
          "name": "stderr",
          "text": [
            "INFO:tensorflow:Assets written to: my_model_wit/assets\n",
            "WARNING:absl:<keras.layers.recurrent.LSTMCell object at 0x7f28bee26250> has the same name 'LSTMCell' as a built-in Keras object. Consider renaming <class 'keras.layers.recurrent.LSTMCell'> to avoid naming conflicts when loading with `tf.keras.models.load_model`. If renaming is not possible, pass the object in the `custom_objects` parameter of the load function.\n"
          ]
        }
      ]
    },
    {
      "cell_type": "code",
      "source": [
        "import shutil\n",
        "\n",
        "shutil.make_archive('my_modelku_wit', 'zip', root_dir='/content/my_model_wit')\n"
      ],
      "metadata": {
        "colab": {
          "base_uri": "https://localhost:8080/",
          "height": 35
        },
        "id": "dPDeuQcVzQCx",
        "outputId": "f0b97c53-7960-4513-be0e-6043ddfe0a81"
      },
      "execution_count": null,
      "outputs": [
        {
          "output_type": "execute_result",
          "data": {
            "text/plain": [
              "'/content/my_modelku_wit.zip'"
            ],
            "application/vnd.google.colaboratory.intrinsic+json": {
              "type": "string"
            }
          },
          "metadata": {},
          "execution_count": 61
        }
      ]
    },
    {
      "cell_type": "code",
      "source": [
        "# summarize results\n",
        "print(\"Best: %f using %s\" % (grid_result_wit.best_score_, grid_result_wit.best_params_))\n",
        "means_wit = grid_result_wit.cv_results_['mean_test_score']\n",
        "stds_wit = grid_result_wit.cv_results_['std_test_score']\n",
        "params_wit = grid_result_wit.cv_results_['params']\n",
        "for mean, stdev, param in zip(means_wit, stds_wit, params_wit):\n",
        "    print(\"%f (%f) with: %r\" % (mean, stdev, param))\n",
        "    \n",
        "# Mengambil model terbaik\n",
        "best_model_wit = grid_result_wit.best_estimator_.model"
      ],
      "metadata": {
        "colab": {
          "base_uri": "https://localhost:8080/"
        },
        "id": "QoMt7QGBAn1z",
        "outputId": "dea46baf-7eab-4f46-b936-b9afc5ab0f6f"
      },
      "execution_count": null,
      "outputs": [
        {
          "output_type": "stream",
          "name": "stdout",
          "text": [
            "Best: -0.003587 using {'LSTM_unit': 32, 'dropout': 0.2}\n",
            "-0.005161 (0.006065) with: {'LSTM_unit': 16, 'dropout': 0.1}\n",
            "-0.004243 (0.005639) with: {'LSTM_unit': 16, 'dropout': 0.2}\n",
            "-0.005980 (0.006776) with: {'LSTM_unit': 32, 'dropout': 0.1}\n",
            "-0.003587 (0.005790) with: {'LSTM_unit': 32, 'dropout': 0.2}\n",
            "-0.003779 (0.005796) with: {'LSTM_unit': 64, 'dropout': 0.1}\n",
            "-0.003931 (0.006341) with: {'LSTM_unit': 64, 'dropout': 0.2}\n",
            "-0.004578 (0.006440) with: {'LSTM_unit': 128, 'dropout': 0.1}\n",
            "-0.003798 (0.006066) with: {'LSTM_unit': 128, 'dropout': 0.2}\n"
          ]
        }
      ]
    },
    {
      "cell_type": "markdown",
      "source": [
        "#### __4.6.4 Evaluasi Model__"
      ],
      "metadata": {
        "id": "_co3lYagCS8g"
      }
    },
    {
      "cell_type": "code",
      "source": [
        "# Prediksi data train\n",
        "predict_train_wit = scaler_wit.inverse_transform(best_model_wit.predict(X_train_wit))\n",
        "true_train_wit = scaler_wit.inverse_transform(y_train_wit)\n",
        "\n",
        "# Prediksi data test\n",
        "predict_test_wit = scaler_wit.inverse_transform(best_model_wit.predict(X_test_wit))\n",
        "true_test_wit = scaler_wit.inverse_transform(y_test_wit)"
      ],
      "metadata": {
        "id": "JnfouPv2T591"
      },
      "execution_count": null,
      "outputs": []
    },
    {
      "cell_type": "markdown",
      "source": [
        "Plot Prediksi data train"
      ],
      "metadata": {
        "id": "Ly-NU2SHVFsR"
      }
    },
    {
      "cell_type": "code",
      "source": [
        "train_wit['predict'] = np.nan\n",
        "train_wit['predict'][-len(predict_train_wit):] = predict_train_wit[:,0]\n",
        "test_wit['predict'] = np.nan\n",
        "test_wit['predict'][-len(predict_test_wit):] = predict_test_wit[:,0]\n",
        "\n",
        "y_test_wit = scaler_wit.transform(test_wit[['mean_wit']])\n",
        "n_future_wit = 12*30\n",
        "future_wit = [[y_test_wit[-1,0]]]\n",
        "X_new_wit= y_test_wit[-window_size:,0].tolist()\n",
        "\n",
        "for i in range(n_future_wit):\n",
        "    y_future_wit = best_model_wit.predict(np.array([X_new_wit]).reshape(1,window_size,1))\n",
        "    future_wit.append([y_future_wit[0,0]])\n",
        "    X_new_wit = X_new_wit[1:]\n",
        "    X_new_wit.append(y_future_wit[0,0])\n",
        "\n",
        "future_wit = scaler_wit.inverse_transform(np.array(future_wit))\n",
        "date_future_wit = pd.date_range(start=test_wit['Tanggal'].values[-1], periods=n_future_wit+1, freq='D')\n",
        "\n",
        "plt.figure(figsize=(15,8))\n",
        "plt.title('DATA PREDIKSI TRAIN dan TEST ZONA WAKTU WIT')\n",
        "sns.lineplot(data=train_wit, x='Tanggal', y='mean_wit', label = 'train')\n",
        "sns.lineplot(data=train_wit, x='Tanggal', y='predict', label = 'predict train')\n",
        "sns.lineplot(data=test_wit, x='Tanggal', y='mean_wit', label = 'test')\n",
        "sns.lineplot(data=test_wit, x='Tanggal', y='predict', label = 'predict test')\n",
        "sns.lineplot(x=date_future_wit, y=future_wit[:,0], label = 'future')"
      ],
      "metadata": {
        "colab": {
          "base_uri": "https://localhost:8080/",
          "height": 536
        },
        "id": "snaoGn5uVJP2",
        "outputId": "aa13f0d2-1447-4e62-ebd8-30d5b1ba85bb"
      },
      "execution_count": null,
      "outputs": [
        {
          "output_type": "execute_result",
          "data": {
            "text/plain": [
              "<matplotlib.axes._subplots.AxesSubplot at 0x7f27484e5990>"
            ]
          },
          "metadata": {},
          "execution_count": 36
        },
        {
          "output_type": "display_data",
          "data": {
            "text/plain": [
              "<Figure size 1080x576 with 1 Axes>"
            ],
            "image/png": "[encoded data removed]"
          },
          "metadata": {
            "needs_background": "light"
          }
        }
      ]
    },
    {
      "cell_type": "markdown",
      "source": [
        "Plot Prediksi data test"
      ],
      "metadata": {
        "id": "pC9JbDQZVJyH"
      }
    },
    {
      "cell_type": "code",
      "source": [
        "test_wit['predict'] = np.nan\n",
        "test_wit['predict'][-len(predict_test_wit):] = predict_test_wit[:,0]\n",
        "\n",
        "plt.figure(figsize=(15,8))\n",
        "sns.lineplot(data=test_wit, x='Tanggal', y='mean_wit', label = 'test')\n",
        "sns.lineplot(data=test_wit, x='Tanggal', y='predict', label = 'predict')"
      ],
      "metadata": {
        "colab": {
          "base_uri": "https://localhost:8080/",
          "height": 522
        },
        "id": "Dq4lxnW2VMdA",
        "outputId": "9de19ca5-7ab1-4589-8f8b-2b4c474c96b9"
      },
      "execution_count": null,
      "outputs": [
        {
          "output_type": "execute_result",
          "data": {
            "text/plain": [
              "<matplotlib.axes._subplots.AxesSubplot at 0x7f29321916d0>"
            ]
          },
          "metadata": {},
          "execution_count": 64
        },
        {
          "output_type": "display_data",
          "data": {
            "text/plain": [
              "<Figure size 1080x576 with 1 Axes>"
            ],
            "image/png": "[encoded data removed]"
          },
          "metadata": {
            "needs_background": "light"
          }
        }
      ]
    },
    {
      "cell_type": "markdown",
      "source": [
        "Plot data sebulan terakhir"
      ],
      "metadata": {
        "id": "3U9Ep4w-VNLF"
      }
    },
    {
      "cell_type": "code",
      "source": [
        "plt.figure(figsize=(15,8))\n",
        "sns.lineplot(data=test_wit[-1*30:], x='Tanggal', y='mean_wit', label = 'test')\n",
        "sns.lineplot(data=test_wit[-1*30:], x='Tanggal', y='predict', label = 'predict')"
      ],
      "metadata": {
        "colab": {
          "base_uri": "https://localhost:8080/",
          "height": 519
        },
        "id": "n5ToIEc7WM0Q",
        "outputId": "53f49a41-7f4d-4b16-d90c-1300dbeba3ab"
      },
      "execution_count": null,
      "outputs": [
        {
          "output_type": "execute_result",
          "data": {
            "text/plain": [
              "<matplotlib.axes._subplots.AxesSubplot at 0x7f28bfdcd490>"
            ]
          },
          "metadata": {},
          "execution_count": 65
        },
        {
          "output_type": "display_data",
          "data": {
            "text/plain": [
              "<Figure size 1080x576 with 1 Axes>"
            ],
            "image/png": "[encoded data removed]"
          },
          "metadata": {
            "needs_background": "light"
          }
        }
      ]
    },
    {
      "cell_type": "markdown",
      "source": [
        "#### __4.6.5 Forecasting__"
      ],
      "metadata": {
        "id": "qtBLqRgoCZrW"
      }
    },
    {
      "cell_type": "code",
      "source": [
        "# forecasting data selanjutnya\n",
        "y_test_wit = scaler_wit.transform(test_wit[['mean_wit']])\n",
        "n_future_wit = 12*30\n",
        "future_wit = [[y_test_wit[-1,0]]]\n",
        "X_new_wit = y_test_wit[-window_size:,0].tolist()\n",
        "\n",
        "for i in range(n_future_wit):\n",
        "    y_future_wit = best_model_wit.predict(np.array([X_new_wit]).reshape(1,window_size,1))\n",
        "    future_wit.append([y_future_wit[0,0]])\n",
        "    X_new_wit = X_new_wit[1:]\n",
        "    X_new_wit.append(y_future_wit[0,0])\n",
        "\n",
        "future_wit = scaler_wit.inverse_transform(np.array(future_wit))\n",
        "date_future_wit = pd.date_range(start=test_wit['Tanggal'].values[-1], periods=n_future_wit+1, freq='D')\n",
        "\n",
        "# Plot Data dua bulan terakhir dan dua bulan selanjutnya\n",
        "plt.figure(figsize=(15,8))\n",
        "sns.lineplot(data=test_wit[-1*30:], x='Tanggal', y='mean_wit', label = 'test') #[-1*30:] [-24*30:]\n",
        "sns.lineplot(data=test_wit[-1*30:], x='Tanggal', y='predict', label = 'predict') #[-1*30:] [-24*30:]\n",
        "sns.lineplot(x=date_future_wit, y=future_wit[:,0], label = 'future')\n",
        "plt.ylabel('mean_wita')\n"
      ],
      "metadata": {
        "colab": {
          "base_uri": "https://localhost:8080/",
          "height": 522
        },
        "id": "FumnwSBQWQ_r",
        "outputId": "13fa5900-6822-406e-e3a9-eadc1d24d9e5"
      },
      "execution_count": null,
      "outputs": [
        {
          "output_type": "execute_result",
          "data": {
            "text/plain": [
              "Text(0, 0.5, 'mean_wita')"
            ]
          },
          "metadata": {},
          "execution_count": 66
        },
        {
          "output_type": "display_data",
          "data": {
            "text/plain": [
              "<Figure size 1080x576 with 1 Axes>"
            ],
            "image/png": "[encoded data removed]"
          },
          "metadata": {
            "needs_background": "light"
          }
        }
      ]
    }
  ]
}