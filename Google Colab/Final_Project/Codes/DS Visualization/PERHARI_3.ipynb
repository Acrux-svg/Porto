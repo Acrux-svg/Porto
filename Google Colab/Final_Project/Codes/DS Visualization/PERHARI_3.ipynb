{
  "nbformat": 4,
  "nbformat_minor": 0,
  "metadata": {
    "colab": {
      "name": "PERHARI 3.ipynb",
      "provenance": [],
      "collapsed_sections": []
    },
    "kernelspec": {
      "name": "python3",
      "display_name": "Python 3"
    },
    "language_info": {
      "name": "python"
    }
  },
  "cells": [
    {
      "cell_type": "code",
      "execution_count": 67,
      "metadata": {
        "id": "gF5wVJfYrE64"
      },
      "outputs": [],
      "source": [
        "import pandas as pd\n",
        "import numpy as np\n",
        "import matplotlib.pyplot as plt\n",
        "import seaborn as sns"
      ]
    },
    {
      "cell_type": "code",
      "execution_count": 68,
      "metadata": {
        "colab": {
          "base_uri": "https://localhost:8080/",
          "height": 423
        },
        "id": "Whbx0Ogk2wza",
        "outputId": "c70f3bf9-d9c6-428c-a3be-703fb568ca32"
      },
      "outputs": [
        {
          "output_type": "execute_result",
          "data": {
            "text/plain": [
              "        Tanggal  mean_wib  mean_wita  mean_wit\n",
              "0    2020-01-01   12817.0    14021.0   15012.0\n",
              "1    2020-01-02   12817.0    14021.0   15012.0\n",
              "2    2020-01-03   12836.0    14033.0   15012.0\n",
              "3    2020-01-04   12836.0    14033.0   15012.0\n",
              "4    2020-01-05   12836.0    14033.0   15012.0\n",
              "..          ...       ...        ...       ...\n",
              "852  2022-05-02   22594.0    26100.0   29275.0\n",
              "853  2022-05-03   22594.0    26100.0   29275.0\n",
              "854  2022-05-04   22594.0    26100.0   29275.0\n",
              "855  2022-05-05   22594.0    26100.0   28062.0\n",
              "856  2022-05-06   22594.0    26100.0   28062.0\n",
              "\n",
              "[857 rows x 4 columns]"
            ],
            "text/html": [
              "\n",
              "  <div id=\"df-1be96623-a51f-4a0d-89ee-63b1ac64be96\">\n",
              "    <div class=\"colab-df-container\">\n",
              "      <div>\n",
              "<style scoped>\n",
              "    .dataframe tbody tr th:only-of-type {\n",
              "        vertical-align: middle;\n",
              "    }\n",
              "\n",
              "    .dataframe tbody tr th {\n",
              "        vertical-align: top;\n",
              "    }\n",
              "\n",
              "    .dataframe thead th {\n",
              "        text-align: right;\n",
              "    }\n",
              "</style>\n",
              "<table border=\"1\" class=\"dataframe\">\n",
              "  <thead>\n",
              "    <tr style=\"text-align: right;\">\n",
              "      <th></th>\n",
              "      <th>Tanggal</th>\n",
              "      <th>mean_wib</th>\n",
              "      <th>mean_wita</th>\n",
              "      <th>mean_wit</th>\n",
              "    </tr>\n",
              "  </thead>\n",
              "  <tbody>\n",
              "    <tr>\n",
              "      <th>0</th>\n",
              "      <td>2020-01-01</td>\n",
              "      <td>12817.0</td>\n",
              "      <td>14021.0</td>\n",
              "      <td>15012.0</td>\n",
              "    </tr>\n",
              "    <tr>\n",
              "      <th>1</th>\n",
              "      <td>2020-01-02</td>\n",
              "      <td>12817.0</td>\n",
              "      <td>14021.0</td>\n",
              "      <td>15012.0</td>\n",
              "    </tr>\n",
              "    <tr>\n",
              "      <th>2</th>\n",
              "      <td>2020-01-03</td>\n",
              "      <td>12836.0</td>\n",
              "      <td>14033.0</td>\n",
              "      <td>15012.0</td>\n",
              "    </tr>\n",
              "    <tr>\n",
              "      <th>3</th>\n",
              "      <td>2020-01-04</td>\n",
              "      <td>12836.0</td>\n",
              "      <td>14033.0</td>\n",
              "      <td>15012.0</td>\n",
              "    </tr>\n",
              "    <tr>\n",
              "      <th>4</th>\n",
              "      <td>2020-01-05</td>\n",
              "      <td>12836.0</td>\n",
              "      <td>14033.0</td>\n",
              "      <td>15012.0</td>\n",
              "    </tr>\n",
              "    <tr>\n",
              "      <th>...</th>\n",
              "      <td>...</td>\n",
              "      <td>...</td>\n",
              "      <td>...</td>\n",
              "      <td>...</td>\n",
              "    </tr>\n",
              "    <tr>\n",
              "      <th>852</th>\n",
              "      <td>2022-05-02</td>\n",
              "      <td>22594.0</td>\n",
              "      <td>26100.0</td>\n",
              "      <td>29275.0</td>\n",
              "    </tr>\n",
              "    <tr>\n",
              "      <th>853</th>\n",
              "      <td>2022-05-03</td>\n",
              "      <td>22594.0</td>\n",
              "      <td>26100.0</td>\n",
              "      <td>29275.0</td>\n",
              "    </tr>\n",
              "    <tr>\n",
              "      <th>854</th>\n",
              "      <td>2022-05-04</td>\n",
              "      <td>22594.0</td>\n",
              "      <td>26100.0</td>\n",
              "      <td>29275.0</td>\n",
              "    </tr>\n",
              "    <tr>\n",
              "      <th>855</th>\n",
              "      <td>2022-05-05</td>\n",
              "      <td>22594.0</td>\n",
              "      <td>26100.0</td>\n",
              "      <td>28062.0</td>\n",
              "    </tr>\n",
              "    <tr>\n",
              "      <th>856</th>\n",
              "      <td>2022-05-06</td>\n",
              "      <td>22594.0</td>\n",
              "      <td>26100.0</td>\n",
              "      <td>28062.0</td>\n",
              "    </tr>\n",
              "  </tbody>\n",
              "</table>\n",
              "<p>857 rows × 4 columns</p>\n",
              "</div>\n",
              "      <button class=\"colab-df-convert\" onclick=\"convertToInteractive('df-1be96623-a51f-4a0d-89ee-63b1ac64be96')\"\n",
              "              title=\"Convert this dataframe to an interactive table.\"\n",
              "              style=\"display:none;\">\n",
              "        \n",
              "  <svg xmlns=\"http://www.w3.org/2000/svg\" height=\"24px\"viewBox=\"0 0 24 24\"\n",
              "       width=\"24px\">\n",
              "    <path d=\"M0 0h24v24H0V0z\" fill=\"none\"/>\n",
              "    <path d=\"M18.56 5.44l.94 2.06.94-2.06 2.06-.94-2.06-.94-.94-2.06-.94 2.06-2.06.94zm-11 1L8.5 8.5l.94-2.06 2.06-.94-2.06-.94L8.5 2.5l-.94 2.06-2.06.94zm10 10l.94 2.06.94-2.06 2.06-.94-2.06-.94-.94-2.06-.94 2.06-2.06.94z\"/><path d=\"M17.41 7.96l-1.37-1.37c-.4-.4-.92-.59-1.43-.59-.52 0-1.04.2-1.43.59L10.3 9.45l-7.72 7.72c-.78.78-.78 2.05 0 2.83L4 21.41c.39.39.9.59 1.41.59.51 0 1.02-.2 1.41-.59l7.78-7.78 2.81-2.81c.8-.78.8-2.07 0-2.86zM5.41 20L4 18.59l7.72-7.72 1.47 1.35L5.41 20z\"/>\n",
              "  </svg>\n",
              "      </button>\n",
              "      \n",
              "  <style>\n",
              "    .colab-df-container {\n",
              "      display:flex;\n",
              "      flex-wrap:wrap;\n",
              "      gap: 12px;\n",
              "    }\n",
              "\n",
              "    .colab-df-convert {\n",
              "      background-color: #E8F0FE;\n",
              "      border: none;\n",
              "      border-radius: 50%;\n",
              "      cursor: pointer;\n",
              "      display: none;\n",
              "      fill: #1967D2;\n",
              "      height: 32px;\n",
              "      padding: 0 0 0 0;\n",
              "      width: 32px;\n",
              "    }\n",
              "\n",
              "    .colab-df-convert:hover {\n",
              "      background-color: #E2EBFA;\n",
              "      box-shadow: 0px 1px 2px rgba(60, 64, 67, 0.3), 0px 1px 3px 1px rgba(60, 64, 67, 0.15);\n",
              "      fill: #174EA6;\n",
              "    }\n",
              "\n",
              "    [theme=dark] .colab-df-convert {\n",
              "      background-color: #3B4455;\n",
              "      fill: #D2E3FC;\n",
              "    }\n",
              "\n",
              "    [theme=dark] .colab-df-convert:hover {\n",
              "      background-color: #434B5C;\n",
              "      box-shadow: 0px 1px 3px 1px rgba(0, 0, 0, 0.15);\n",
              "      filter: drop-shadow(0px 1px 2px rgba(0, 0, 0, 0.3));\n",
              "      fill: #FFFFFF;\n",
              "    }\n",
              "  </style>\n",
              "\n",
              "      <script>\n",
              "        const buttonEl =\n",
              "          document.querySelector('#df-1be96623-a51f-4a0d-89ee-63b1ac64be96 button.colab-df-convert');\n",
              "        buttonEl.style.display =\n",
              "          google.colab.kernel.accessAllowed ? 'block' : 'none';\n",
              "\n",
              "        async function convertToInteractive(key) {\n",
              "          const element = document.querySelector('#df-1be96623-a51f-4a0d-89ee-63b1ac64be96');\n",
              "          const dataTable =\n",
              "            await google.colab.kernel.invokeFunction('convertToInteractive',\n",
              "                                                     [key], {});\n",
              "          if (!dataTable) return;\n",
              "\n",
              "          const docLinkHtml = 'Like what you see? Visit the ' +\n",
              "            '<a target=\"_blank\" href=https://colab.research.google.com/notebooks/data_table.ipynb>data table notebook</a>'\n",
              "            + ' to learn more about interactive tables.';\n",
              "          element.innerHTML = '';\n",
              "          dataTable['output_type'] = 'display_data';\n",
              "          await google.colab.output.renderOutput(dataTable, element);\n",
              "          const docLink = document.createElement('div');\n",
              "          docLink.innerHTML = docLinkHtml;\n",
              "          element.appendChild(docLink);\n",
              "        }\n",
              "      </script>\n",
              "    </div>\n",
              "  </div>\n",
              "  "
            ]
          },
          "metadata": {},
          "execution_count": 68
        }
      ],
      "source": [
        "df = pd.read_csv('/content/Clean_time_zone_perhari.csv')\n",
        "df"
      ]
    },
    {
      "cell_type": "code",
      "source": [
        "from datetime import datetime\n",
        "#dt = df['Tanggal']\n",
        "#dt = dt.strftime('%d')\n",
        "df['Tanggal'] = pd.to_datetime(df.Tanggal, format='%Y-%m-%d')\n",
        "df['Tanggal'] = df['Tanggal'].dt.strftime('%Y %b %d')\n",
        "df['Tanggal'] "
      ],
      "metadata": {
        "colab": {
          "base_uri": "https://localhost:8080/"
        },
        "id": "11LArdCJ4zj5",
        "outputId": "00f1b294-3f47-472a-f375-c4354a5f0a77"
      },
      "execution_count": 69,
      "outputs": [
        {
          "output_type": "execute_result",
          "data": {
            "text/plain": [
              "0      2020 Jan 01\n",
              "1      2020 Jan 02\n",
              "2      2020 Jan 03\n",
              "3      2020 Jan 04\n",
              "4      2020 Jan 05\n",
              "          ...     \n",
              "852    2022 May 02\n",
              "853    2022 May 03\n",
              "854    2022 May 04\n",
              "855    2022 May 05\n",
              "856    2022 May 06\n",
              "Name: Tanggal, Length: 857, dtype: object"
            ]
          },
          "metadata": {},
          "execution_count": 69
        }
      ]
    },
    {
      "cell_type": "code",
      "source": [
        "df[\"Tanggal\"] = df[\"Tanggal\"].astype(\"datetime64\")\n",
        "plt.figure(figsize=(7,3))\n",
        "plt.plot(df['Tanggal'],df['mean_wib'],label = 'WIB')\n",
        "plt.plot(df['Tanggal'],df['mean_wita'],label = 'WITA')\n",
        "plt.plot(df['Tanggal'],df['mean_wit'],label = 'WIT')\n",
        "plt.xticks(rotation=90)\n",
        "plt.title('DATASET MINYAK GORENG')\n",
        "plt.xlabel('TANGGAL')\n",
        "plt.ylabel('HARGA MINYAK GORENG')\n",
        "plt.legend()\n",
        "plt.show()"
      ],
      "metadata": {
        "colab": {
          "base_uri": "https://localhost:8080/",
          "height": 273
        },
        "id": "yS-9UL35repA",
        "outputId": "d18f5226-3a32-4bff-b3bb-fbbe9d4d615d"
      },
      "execution_count": 70,
      "outputs": [
        {
          "output_type": "display_data",
          "data": {
            "text/plain": [
              "<Figure size 504x216 with 1 Axes>"
            ],
            "image/png": "[encoded data removed]"
          },
          "metadata": {
            "needs_background": "light"
          }
        }
      ]
    },
    {
      "cell_type": "markdown",
      "source": [
        "Pembahasan Grafik : "
      ],
      "metadata": {
        "id": "nagCvyqsr-Dw"
      }
    },
    {
      "cell_type": "markdown",
      "source": [
        "Pembahasan Grafik : \n",
        "Diagram tersebut menjelaskan kenaikan harga minyak goreng yang terjadi di 3 bagian waktu Indonesia yang meliputi wilayah WIB, WITA dan WIT. Dimana titik koordinat X adalah penunjuk secara horizontal, sedangkan titik koordinat Y merupakan penunjuk secara vertikal. X merupakan tanggal dan Y merupakan harga dari minyak goreng per hari di bagian WIT, WITA, WIB. \n",
        "Pada data tersebut mengalami kenaikan dan penurun harga yang cukup drastis. Dimana pada bagian WIT mengalami kenaikan dan penurun yang tidak stabil, sedangkan pada WIB dan WITA mengalamai kenaikan terus-menerus.Pada hari di bulan Maret - Mei mengalami kenaikan yang tinggi mulai Rp. 22.500-30.000 dan diberikutnya pada Bulan Juni mengalami penurunan yang signifikan di tiga bagiann wilayah tersebut."
      ],
      "metadata": {
        "id": "1bwFlnTO60Ag"
      }
    }
  ]
}